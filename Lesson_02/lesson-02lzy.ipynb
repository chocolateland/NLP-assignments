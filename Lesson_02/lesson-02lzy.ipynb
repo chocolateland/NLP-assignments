{
 "cells": [
  {
   "cell_type": "markdown",
   "metadata": {},
   "source": [
    "## 问题描述"
   ]
  },
  {
   "cell_type": "markdown",
   "metadata": {},
   "source": [
    "用networkx显示中文的时候，会发现不能显示中文"
   ]
  },
  {
   "cell_type": "markdown",
   "metadata": {},
   "source": [
    "## 解决办法"
   ]
  },
  {
   "cell_type": "markdown",
   "metadata": {},
   "source": [
    "1. 下载Githun仓库中的字体SimHei.ttf "
   ]
  },
  {
   "cell_type": "markdown",
   "metadata": {},
   "source": [
    "2. 在jupyter notebook中执行"
   ]
  },
  {
   "cell_type": "code",
   "execution_count": 30,
   "metadata": {},
   "outputs": [
    {
     "name": "stdout",
     "output_type": "stream",
     "text": [
      "['H:\\\\Anaconda3\\\\anzhuang\\\\lib\\\\site-packages\\\\matplotlib']\n"
     ]
    }
   ],
   "source": [
    "import matplotlib\n",
    "print(matplotlib.__path__)"
   ]
  },
  {
   "cell_type": "markdown",
   "metadata": {},
   "source": [
    "找到matplotlib的路径，然后cd到这个路径，继续cd到mpl-data/fonts/ttf这个路径，然后把DejaVuSans.ttf这个文件换成 SimHei.ttf  DejaVuSans.ttf这个文件"
   ]
  },
  {
   "cell_type": "code",
   "execution_count": 40,
   "metadata": {},
   "outputs": [
    {
     "ename": "SyntaxError",
     "evalue": "unexpected character after line continuation character (<ipython-input-40-af6173a52b19>, line 1)",
     "output_type": "error",
     "traceback": [
      "\u001b[1;36m  File \u001b[1;32m\"<ipython-input-40-af6173a52b19>\"\u001b[1;36m, line \u001b[1;32m1\u001b[0m\n\u001b[1;33m    cd \\Anaconda3\\anzhuang\\Lib\\site-packages\\matplotlib\\mpl-data\\fonts\\ttf\u001b[0m\n\u001b[1;37m                                                                          ^\u001b[0m\n\u001b[1;31mSyntaxError\u001b[0m\u001b[1;31m:\u001b[0m unexpected character after line continuation character\n"
     ]
    }
   ],
   "source": [
    "cd \\Anaconda3\\anzhuang\\Lib\\site-packages\\matplotlib\\mpl-data\\fonts\\ttf\n",
    "mv SimHei.ttf DejaVuSans.ttf\n",
    "# 参考 https://blog.csdn.net/xpc192/article/details/56675340\n",
    "#https://www.smiseo.com/say/smiseo.php?s=networkx%E4%B8%AD%E6%96%87%E6%89%8B%E5%86%8C"
   ]
  },
  {
   "cell_type": "code",
   "execution_count": 206,
   "metadata": {},
   "outputs": [],
   "source": [
    "plt.rcParams['font.sans-serif'] = ['SimHei']\n",
    "plt.rcParams['axes.unicode_minus'] = False"
   ]
  },
  {
   "cell_type": "markdown",
   "metadata": {},
   "source": [
    "#一、上节课遗留问题"
   ]
  },
  {
   "cell_type": "markdown",
   "metadata": {},
   "source": [
    "Out of Vocabulary（OOV）"
   ]
  },
  {
   "cell_type": "markdown",
   "metadata": {},
   "source": [
    "Language Model"
   ]
  },
  {
   "cell_type": "markdown",
   "metadata": {},
   "source": [
    "lambda "
   ]
  },
  {
   "cell_type": "code",
   "execution_count": 237,
   "metadata": {},
   "outputs": [],
   "source": [
    "import random"
   ]
  },
  {
   "cell_type": "code",
   "execution_count": 9,
   "metadata": {},
   "outputs": [],
   "source": [
    "'''adj*=> adj* adj | adj null'''\n",
    "\n",
    "def adj(): return random.choice('蓝色的 | 好看的 | 小小的'.split('|')).split()[0]    \n",
    "\n",
    "\n",
    "def adj_star_2():\n",
    "    return random.choice([lambda :'', lambda : adj() + adj_star_2()])()\n",
    "\n",
    "def adj_star():\n",
    "    return random.choice(['', adj() + adj_star()])\n",
    "\n",
    "# adj_star_2()不会报错，adj_star()会无限循环？报错？原因是执行adj_star时，\n",
    "#不论choice选中adj_star()与否，adj_star()都会需要执行，而adj_star2()需要choice选中之后才执行（还是会循环？总有终止的时候）\n",
    "\n",
    "#split()[0]先将字符串以\" \"(空格)开割形成一个字符串数组，再通过索引[0]取出所得数组中的第一个元素的值\n",
    "#str=\"hello boy<[www.baidu.com]>byebye\"    print(str.split(\"[\")[1].split(\"]\")[0])     www.baidu.com"
   ]
  },
  {
   "cell_type": "code",
   "execution_count": 6,
   "metadata": {},
   "outputs": [
    {
     "data": {
      "text/plain": [
       "[1, 3, 4, 9]"
      ]
     },
     "execution_count": 6,
     "metadata": {},
     "output_type": "execute_result"
    }
   ],
   "source": [
    "def mod_5(number):\n",
    "    return number % 5\n",
    "sorted(numbers, key=lambda x: x % 5)   #lambda是一个函数，此时代表输入x,输出x对5的余数"
   ]
  },
  {
   "cell_type": "code",
   "execution_count": 7,
   "metadata": {},
   "outputs": [
    {
     "data": {
      "text/plain": [
       "[1, 3, 4, 9]"
      ]
     },
     "execution_count": 7,
     "metadata": {},
     "output_type": "execute_result"
    }
   ],
   "source": [
    "sorted(numbers, key=mod_5)"
   ]
  },
  {
   "cell_type": "code",
   "execution_count": 4,
   "metadata": {},
   "outputs": [],
   "source": [
    "numbers = [1, 3, 4, 9]"
   ]
  },
  {
   "cell_type": "code",
   "execution_count": 10,
   "metadata": {},
   "outputs": [
    {
     "data": {
      "text/plain": [
       "<function __main__.adj_star_2()>"
      ]
     },
     "execution_count": 10,
     "metadata": {},
     "output_type": "execute_result"
    }
   ],
   "source": [
    "adj_star_2"
   ]
  },
  {
   "cell_type": "code",
   "execution_count": 28,
   "metadata": {},
   "outputs": [
    {
     "data": {
      "text/plain": [
       "'蓝色的小小的好看的蓝色的小小的小小的'"
      ]
     },
     "execution_count": 28,
     "metadata": {},
     "output_type": "execute_result"
    }
   ],
   "source": [
    "adj_star_2()"
   ]
  },
  {
   "cell_type": "code",
   "execution_count": null,
   "metadata": {},
   "outputs": [],
   "source": []
  },
  {
   "cell_type": "markdown",
   "metadata": {},
   "source": [
    "## Search Policy"
   ]
  },
  {
   "cell_type": "markdown",
   "metadata": {},
   "source": [
    "Lesson-02   ！！！！！课程代码复制！！！！！"
   ]
  },
  {
   "cell_type": "markdown",
   "metadata": {},
   "source": []
  },
  {
   "cell_type": "code",
   "execution_count": 207,
   "metadata": {},
   "outputs": [],
   "source": [
    "coordination_source = \"\"\"\n",
    "{name:'兰州', geoCoord:[103.73, 36.03]},\n",
    "{name:'嘉峪关', geoCoord:[98.17, 39.47]},\n",
    "{name:'西宁', geoCoord:[101.74, 36.56]},\n",
    "{name:'成都', geoCoord:[104.06, 30.67]},\n",
    "{name:'石家庄', geoCoord:[114.48, 38.03]},\n",
    "{name:'拉萨', geoCoord:[102.73, 25.04]},\n",
    "{name:'贵阳', geoCoord:[106.71, 26.57]},\n",
    "{name:'武汉', geoCoord:[114.31, 30.52]},\n",
    "{name:'郑州', geoCoord:[113.65, 34.76]},\n",
    "{name:'济南', geoCoord:[117, 36.65]},\n",
    "{name:'南京', geoCoord:[118.78, 32.04]},\n",
    "{name:'合肥', geoCoord:[117.27, 31.86]},\n",
    "{name:'杭州', geoCoord:[120.19, 30.26]},\n",
    "{name:'南昌', geoCoord:[115.89, 28.68]},\n",
    "{name:'福州', geoCoord:[119.3, 26.08]},\n",
    "{name:'广州', geoCoord:[113.23, 23.16]},\n",
    "{name:'长沙', geoCoord:[113, 28.21]},\n",
    "//{name:'海口', geoCoord:[110.35, 20.02]},\n",
    "{name:'沈阳', geoCoord:[123.38, 41.8]},\n",
    "{name:'长春', geoCoord:[125.35, 43.88]},\n",
    "{name:'哈尔滨', geoCoord:[126.63, 45.75]},\n",
    "{name:'太原', geoCoord:[112.53, 37.87]},\n",
    "{name:'西安', geoCoord:[108.95, 34.27]},\n",
    "//{name:'台湾', geoCoord:[121.30, 25.03]},\n",
    "{name:'北京', geoCoord:[116.46, 39.92]},\n",
    "{name:'上海', geoCoord:[121.48, 31.22]},\n",
    "{name:'重庆', geoCoord:[106.54, 29.59]},\n",
    "{name:'天津', geoCoord:[117.2, 39.13]},\n",
    "{name:'呼和浩特', geoCoord:[111.65, 40.82]},\n",
    "{name:'南宁', geoCoord:[108.33, 22.84]},\n",
    "//{name:'西藏', geoCoord:[91.11, 29.97]},\n",
    "{name:'银川', geoCoord:[106.27, 38.47]},\n",
    "{name:'乌鲁木齐', geoCoord:[87.68, 43.77]},\n",
    "{name:'香港', geoCoord:[114.17, 22.28]},\n",
    "{name:'澳门', geoCoord:[113.54, 22.19]}\n",
    "\"\"\""
   ]
  },
  {
   "cell_type": "code",
   "execution_count": 208,
   "metadata": {},
   "outputs": [],
   "source": [
    "city_location = {\n",
    "    '香港': (114.17, 22.28)\n",
    "}        # 将上述信息转换为dict "
   ]
  },
  {
   "cell_type": "code",
   "execution_count": 209,
   "metadata": {},
   "outputs": [],
   "source": [
    "import networkx as nx"
   ]
  },
  {
   "cell_type": "code",
   "execution_count": 210,
   "metadata": {},
   "outputs": [],
   "source": [
    "import re    #导入正则表达模块"
   ]
  },
  {
   "cell_type": "code",
   "execution_count": 211,
   "metadata": {},
   "outputs": [],
   "source": [
    "test_String = \"{name: '澳门', geoCoord: [113.54, 22.19]}\""
   ]
  },
  {
   "cell_type": "code",
   "execution_count": 231,
   "metadata": {},
   "outputs": [],
   "source": [
    "pattern = re.compile(r\"name:'(\\w+)',\\s+geoCoord:\\[(\\d+.\\d+),\\s(\\d+.\\d+)\\]\")\n",
    "# compile() 函数将一个字符串编译为字节代码;  见 https://www.runoob.com/python/python-func-compile.html"
   ]
  },
  {
   "cell_type": "code",
   "execution_count": 232,
   "metadata": {},
   "outputs": [
    {
     "data": {
      "text/plain": [
       "[]"
      ]
     },
     "execution_count": 232,
     "metadata": {},
     "output_type": "execute_result"
    }
   ],
   "source": [
    "re.findall(pattern, test_String)  \n",
    "#findall返回正则表达式中匹配的内容，列表形式；详见 https://blog.csdn.net/qq_30534935/article/details/94589036\n"
   ]
  },
  {
   "cell_type": "markdown",
   "metadata": {},
   "source": [
    "## 为什么此处返回[ ]？？？   "
   ]
  },
  {
   "cell_type": "code",
   "execution_count": 214,
   "metadata": {},
   "outputs": [],
   "source": [
    "city_location = {\n",
    "    '香港':[114.17,22.28]\n",
    "}"
   ]
  },
  {
   "cell_type": "markdown",
   "metadata": {},
   "source": [
    "问题： Input: String ->dict"
   ]
  },
  {
   "cell_type": "code",
   "execution_count": null,
   "metadata": {},
   "outputs": [],
   "source": []
  },
  {
   "cell_type": "code",
   "execution_count": 215,
   "metadata": {},
   "outputs": [],
   "source": [
    "city_location = {}"
   ]
  },
  {
   "cell_type": "code",
   "execution_count": null,
   "metadata": {},
   "outputs": [],
   "source": [
    "for line in coordination_source.split('\\n'):\n",
    "    if line.startswith('//'): continue\n",
    "    if line.strip() == '': continue\n",
    "    \n",
    "    city = re.findall(\"name:'(\\w+)'\", line)[0]\n",
    "    # python re referenes: https://docs.python.org/3/library/re.html\n",
    "    x_y = re.findall(\"Coord:\\[(\\d+.\\d+),\\s(\\d+.\\d+)\\]\", line)[0]\n",
    "    x_y = tuple(map(float, x_y))\n",
    "    city_location[city] = x_y\n",
    "    print(city, x_y)"
   ]
  },
  {
   "cell_type": "code",
   "execution_count": 216,
   "metadata": {},
   "outputs": [],
   "source": [
    "for line in coordination_source.split('\\n'):\n",
    "    city_info = pattern.findall(line)\n",
    "    #print(city_info)\n",
    "    if not city_info:continue             #即正则表达式没有发现所需字符，continue\n",
    "        # following :we find the city\n",
    "    city, long, lat = city_info[0]   ##每一行中提取的第一组？？  另：city_info先是[]('''返回的结果，后来是对应的城市等，最后又是[],'''返回的结果)\n",
    "\n",
    "    long, lat = float(long), float(lat)\n",
    "    city_location[city] = (long, lat)  "
   ]
  },
  {
   "cell_type": "code",
   "execution_count": 217,
   "metadata": {},
   "outputs": [
    {
     "data": {
      "text/plain": [
       "{'兰州': (103.73, 36.03),\n",
       " '嘉峪关': (98.17, 39.47),\n",
       " '西宁': (101.74, 36.56),\n",
       " '成都': (104.06, 30.67),\n",
       " '石家庄': (114.48, 38.03),\n",
       " '拉萨': (102.73, 25.04),\n",
       " '贵阳': (106.71, 26.57),\n",
       " '武汉': (114.31, 30.52),\n",
       " '郑州': (113.65, 34.76),\n",
       " '济南': (117.0, 36.65),\n",
       " '南京': (118.78, 32.04),\n",
       " '合肥': (117.27, 31.86),\n",
       " '杭州': (120.19, 30.26),\n",
       " '南昌': (115.89, 28.68),\n",
       " '福州': (119.3, 26.08),\n",
       " '广州': (113.23, 23.16),\n",
       " '长沙': (113.0, 28.21),\n",
       " '海口': (110.35, 20.02),\n",
       " '沈阳': (123.38, 41.8),\n",
       " '长春': (125.35, 43.88),\n",
       " '哈尔滨': (126.63, 45.75),\n",
       " '太原': (112.53, 37.87),\n",
       " '西安': (108.95, 34.27),\n",
       " '台湾': (121.3, 25.03),\n",
       " '北京': (116.46, 39.92),\n",
       " '上海': (121.48, 31.22),\n",
       " '重庆': (106.54, 29.59),\n",
       " '天津': (117.2, 39.13),\n",
       " '呼和浩特': (111.65, 40.82),\n",
       " '南宁': (108.33, 22.84),\n",
       " '西藏': (91.11, 29.97),\n",
       " '银川': (106.27, 38.47),\n",
       " '乌鲁木齐': (87.68, 43.77),\n",
       " '香港': (114.17, 22.28),\n",
       " '澳门': (113.54, 22.19)}"
      ]
     },
     "execution_count": 217,
     "metadata": {},
     "output_type": "execute_result"
    }
   ],
   "source": [
    "city_location"
   ]
  },
  {
   "cell_type": "markdown",
   "metadata": {},
   "source": [
    "## 地图变换"
   ]
  },
  {
   "cell_type": "code",
   "execution_count": 218,
   "metadata": {},
   "outputs": [],
   "source": [
    "import math\n",
    "def geo_distance(origin, destination):\n",
    "    '''\n",
    "    Calculaten the Haversine distance.\n",
    "    Parameters\n",
    "    ----------\n",
    "    origin : tuple of float\n",
    "        (lat, long)\n",
    "    destination : tuple of float\n",
    "        (lat, long)\n",
    "        \n",
    "    Returns\n",
    "    --------\n",
    "    distance_in_km : float\n",
    "    \n",
    "    Examples\n",
    "    --------\n",
    "    >>> origin = (48.1372, 11.5756) # Munich\n",
    "    >>> destination = (52.5186, 13.4083) #Berlin\n",
    "    >>> round(distance(origin, destination), 1)\n",
    "    504.2\n",
    "    '''\n",
    "    lat1, lon1 = origin\n",
    "    lat2, lon2 = destination\n",
    "    radius = 6371 # km\n",
    "    \n",
    "    dlat = math.radians(lat2 - lat1)\n",
    "    dlon = math.radians(lon2 - lon1)\n",
    "    a = (math.sin(dlat / 2) * math.sin(dlat / 2)+ \n",
    "         math.cos(math.radians(lat1)) * math.cos(math.radians(lat2)) * \n",
    "        math.sin(dlon / 2) * math.sin(dlon / 2))\n",
    "    c = 2 * math.atan2(math.sqrt(a), math.sqrt(1 - a))\n",
    "    d = radius * c\n",
    "    \n",
    "    return d"
   ]
  },
  {
   "cell_type": "code",
   "execution_count": 219,
   "metadata": {},
   "outputs": [],
   "source": [
    "def get_geo_distance(city1,city2):\n",
    "    return geo_distance(city_location[city1],city_location[city2])"
   ]
  },
  {
   "cell_type": "code",
   "execution_count": 220,
   "metadata": {},
   "outputs": [
    {
     "data": {
      "text/plain": [
       "153.5185697155768"
      ]
     },
     "execution_count": 220,
     "metadata": {},
     "output_type": "execute_result"
    }
   ],
   "source": [
    "get_geo_distance('上海','杭州')"
   ]
  },
  {
   "cell_type": "code",
   "execution_count": 221,
   "metadata": {},
   "outputs": [],
   "source": [
    "import networkx as nx  #networkx 专门用于图相关算法的包"
   ]
  },
  {
   "cell_type": "code",
   "execution_count": 222,
   "metadata": {},
   "outputs": [],
   "source": [
    "citys = list(city_location.keys())"
   ]
  },
  {
   "cell_type": "code",
   "execution_count": 223,
   "metadata": {},
   "outputs": [],
   "source": [
    "city_graph = nx.Graph()"
   ]
  },
  {
   "cell_type": "code",
   "execution_count": 224,
   "metadata": {},
   "outputs": [],
   "source": [
    "city_graph.add_nodes_from(citys)"
   ]
  },
  {
   "cell_type": "code",
   "execution_count": 225,
   "metadata": {},
   "outputs": [],
   "source": [
    "%matplotlib inline"
   ]
  },
  {
   "cell_type": "code",
   "execution_count": 226,
   "metadata": {},
   "outputs": [],
   "source": [
    "import matplotlib.pyplot as plt"
   ]
  },
  {
   "cell_type": "code",
   "execution_count": 227,
   "metadata": {},
   "outputs": [
    {
     "data": {
      "image/png": "[encoded data removed]",
      "text/plain": [
       "<Figure size 432x288 with 1 Axes>"
      ]
     },
     "metadata": {},
     "output_type": "display_data"
    }
   ],
   "source": [
    "nx.draw(city_graph, city_location, with_labels = True, node_size = 10 )"
   ]
  },
  {
   "cell_type": "code",
   "execution_count": 228,
   "metadata": {},
   "outputs": [
    {
     "name": "stderr",
     "output_type": "stream",
     "text": [
      "H:\\Anaconda3\\anzhuang\\lib\\site-packages\\networkx\\drawing\\nx_pylab.py:611: MatplotlibDeprecationWarning: isinstance(..., numbers.Number)\n",
      "  if cb.is_numlike(alpha):\n"
     ]
    },
    {
     "data": {
      "image/png": "[encoded data removed]",
      "text/plain": [
       "<Figure size 432x288 with 1 Axes>"
      ]
     },
     "metadata": {},
     "output_type": "display_data"
    }
   ],
   "source": [
    "from pylab import *\n",
    "import networkx as nx\n",
    "g=nx.Graph()\n",
    "g.add_edge('张三','李四')\n",
    "g.add_edge('张三','王五')\n",
    "nx.draw(g,with_labels=True)\n",
    "plt.show()"
   ]
  },
  {
   "cell_type": "code",
   "execution_count": 34,
   "metadata": {},
   "outputs": [],
   "source": [
    "threehold = 300"
   ]
  },
  {
   "cell_type": "code",
   "execution_count": 36,
   "metadata": {},
   "outputs": [],
   "source": [
    "from collections import defaultdict"
   ]
  },
  {
   "cell_type": "code",
   "execution_count": 37,
   "metadata": {},
   "outputs": [],
   "source": [
    "city_connection = defaultdict(list)"
   ]
  },
  {
   "cell_type": "code",
   "execution_count": 38,
   "metadata": {},
   "outputs": [],
   "source": [
    "for c1 in city_location:\n",
    "    for c2 in city_location:\n",
    "        if c1 == c2: continue\n",
    "            \n",
    "        distance = get_geo_distance(c1, c2)\n",
    "        \n",
    "        if distance < threehold:\n",
    "            city_connection[c1].append(c2)\n",
    "            city_connection[c2].append(c1)"
   ]
  },
  {
   "cell_type": "code",
   "execution_count": 39,
   "metadata": {},
   "outputs": [
    {
     "data": {
      "text/plain": [
       "defaultdict(list,\n",
       "            {'兰州': ['西宁', '成都', '银川', '西宁', '成都', '银川'],\n",
       "             '西宁': ['兰州', '兰州', '成都', '拉萨', '成都', '拉萨'],\n",
       "             '成都': ['兰州', '西宁', '兰州', '西宁', '拉萨', '重庆', '拉萨', '重庆'],\n",
       "             '银川': ['兰州', '重庆', '兰州', '重庆'],\n",
       "             '拉萨': ['西宁', '成都', '西宁', '成都'],\n",
       "             '重庆': ['成都', '贵阳', '成都', '贵阳', '银川', '银川'],\n",
       "             '石家庄': ['郑州', '济南', '太原', '北京', '郑州', '济南', '太原', '北京'],\n",
       "             '郑州': ['石家庄', '武汉', '石家庄', '武汉', '长沙', '太原', '长沙', '太原'],\n",
       "             '济南': ['石家庄', '石家庄', '合肥', '北京', '天津', '合肥', '北京', '天津'],\n",
       "             '太原': ['石家庄', '郑州', '石家庄', '郑州', '呼和浩特', '呼和浩特'],\n",
       "             '北京': ['石家庄', '济南', '石家庄', '济南', '天津', '天津'],\n",
       "             '贵阳': ['重庆', '南宁', '重庆', '南宁'],\n",
       "             '南宁': ['贵阳', '贵阳', '海口', '海口'],\n",
       "             '武汉': ['郑州', '南昌', '长沙', '郑州', '南昌', '长沙'],\n",
       "             '南昌': ['武汉', '合肥', '武汉', '合肥'],\n",
       "             '长沙': ['武汉',\n",
       "              '郑州',\n",
       "              '广州',\n",
       "              '武汉',\n",
       "              '郑州',\n",
       "              '广州',\n",
       "              '香港',\n",
       "              '澳门',\n",
       "              '香港',\n",
       "              '澳门'],\n",
       "             '合肥': ['济南', '南京', '济南', '南京', '南昌', '南昌'],\n",
       "             '天津': ['济南', '北京', '济南', '北京'],\n",
       "             '南京': ['合肥', '杭州', '合肥', '杭州'],\n",
       "             '杭州': ['南京', '南京', '福州', '上海', '福州', '上海'],\n",
       "             '福州': ['杭州', '杭州', '台湾', '台湾'],\n",
       "             '上海': ['杭州', '杭州'],\n",
       "             '台湾': ['福州', '福州'],\n",
       "             '广州': ['长沙', '香港', '澳门', '长沙', '香港', '澳门'],\n",
       "             '香港': ['广州', '长沙', '广州', '长沙', '澳门', '澳门'],\n",
       "             '澳门': ['广州', '长沙', '香港', '广州', '长沙', '香港'],\n",
       "             '沈阳': ['长春', '长春'],\n",
       "             '长春': ['沈阳', '沈阳', '哈尔滨', '哈尔滨'],\n",
       "             '哈尔滨': ['长春', '长春'],\n",
       "             '呼和浩特': ['太原', '太原'],\n",
       "             '海口': ['南宁', '南宁']})"
      ]
     },
     "execution_count": 39,
     "metadata": {},
     "output_type": "execute_result"
    }
   ],
   "source": [
    "city_connection"
   ]
  },
  {
   "cell_type": "code",
   "execution_count": 40,
   "metadata": {},
   "outputs": [],
   "source": [
    "city_with_road = nx.Graph(city_connection)"
   ]
  },
  {
   "cell_type": "code",
   "execution_count": 229,
   "metadata": {},
   "outputs": [
    {
     "data": {
      "image/png": "[encoded data removed]",
      "text/plain": [
       "<Figure size 432x288 with 1 Axes>"
      ]
     },
     "metadata": {},
     "output_type": "display_data"
    }
   ],
   "source": [
    "nx.draw(city_with_road, city_location, with_labels = True, node_size = 30 )"
   ]
  },
  {
   "cell_type": "code",
   "execution_count": null,
   "metadata": {},
   "outputs": [],
   "source": []
  },
  {
   "cell_type": "code",
   "execution_count": 44,
   "metadata": {},
   "outputs": [],
   "source": [
    "from collections import defaultdict"
   ]
  },
  {
   "cell_type": "code",
   "execution_count": 54,
   "metadata": {},
   "outputs": [],
   "source": [
    "simple_connection_info_src = {\n",
    "    '北京':['太原', '沈阳'],\n",
    "    '太原':['北京','西安','郑州'],\n",
    "    '兰州':['西安'],\n",
    "    '郑州':['太原'],\n",
    "    '西安':['兰州','长沙'],\n",
    "    '长沙':['南宁','福州'],\n",
    "    '沈阳':['北京']\n",
    "}"
   ]
  },
  {
   "cell_type": "code",
   "execution_count": 55,
   "metadata": {},
   "outputs": [],
   "source": [
    "simple_connection_info = defaultdict(list)"
   ]
  },
  {
   "cell_type": "code",
   "execution_count": 56,
   "metadata": {},
   "outputs": [],
   "source": [
    "simple_connection_info.update(simple_connection_info_src)"
   ]
  },
  {
   "cell_type": "code",
   "execution_count": 57,
   "metadata": {},
   "outputs": [],
   "source": [
    "def bfs(graph, start):\n",
    "\n",
    "    '''\n",
    "    breath first search\n",
    "    '''\n",
    "    visited = [start]\n",
    "    seen = set()\n",
    "    \n",
    "    while visited:\n",
    "        froninter = visited.pop()  # -1 若是pop(0)则又反过来了\n",
    "        \n",
    "        if froninter in seen: continue   #如果出现闭环，重复的点就不扩展了；队列？\n",
    "            \n",
    "        for successor in graph[froninter]:\n",
    "            if successor in seen: continue  #过滤已存在的点\n",
    "            print(successor)\n",
    "            #visited.append(successor)    # <=>visited += [successor]\n",
    "             \n",
    "          #  visited += [successor]   #每次扩展都扩展最新发现的点  2 3 5 7 4 6  深度depth\n",
    "            visited = [successor] + visited  #每次扩展都扩展已经发现的老的点   2 3 4 5 6 7 breath  广度\n",
    "            #所以说，这个扩展顺序其实是决定了我们的深度优先还是广度优先\n",
    "            \n",
    "        seen.add(froninter)\n",
    "    return seen"
   ]
  },
  {
   "cell_type": "code",
   "execution_count": 58,
   "metadata": {},
   "outputs": [],
   "source": [
    "number_graph = defaultdict(list)\n",
    "number_graph.update({\n",
    "    1: [2, 3],\n",
    "    2: [1, 4],\n",
    "    3: [1, 5],\n",
    "    4: [2, 6],\n",
    "    5: [3, 7]\n",
    "})"
   ]
  },
  {
   "cell_type": "code",
   "execution_count": 59,
   "metadata": {},
   "outputs": [
    {
     "name": "stdout",
     "output_type": "stream",
     "text": [
      "2\n",
      "3\n",
      "4\n",
      "5\n",
      "6\n",
      "7\n"
     ]
    },
    {
     "data": {
      "text/plain": [
       "{1, 2, 3, 4, 5, 6, 7}"
      ]
     },
     "execution_count": 59,
     "metadata": {},
     "output_type": "execute_result"
    }
   ],
   "source": [
    "bfs(number_graph, 1)"
   ]
  },
  {
   "cell_type": "code",
   "execution_count": 62,
   "metadata": {},
   "outputs": [
    {
     "data": {
      "text/plain": [
       "['兰州', '长沙']"
      ]
     },
     "execution_count": 62,
     "metadata": {},
     "output_type": "execute_result"
    }
   ],
   "source": [
    "simple_connection_info['西安']"
   ]
  },
  {
   "cell_type": "code",
   "execution_count": null,
   "metadata": {},
   "outputs": [],
   "source": []
  },
  {
   "cell_type": "code",
   "execution_count": null,
   "metadata": {},
   "outputs": [],
   "source": []
  },
  {
   "cell_type": "code",
   "execution_count": 230,
   "metadata": {},
   "outputs": [
    {
     "data": {
      "image/png": "[encoded data removed]",
      "text/plain": [
       "<Figure size 432x288 with 1 Axes>"
      ]
     },
     "metadata": {},
     "output_type": "display_data"
    }
   ],
   "source": [
    "nx.draw(nx.Graph(simple_connection_info), city_location, with_labels = True, node_size = 10)"
   ]
  },
  {
   "cell_type": "code",
   "execution_count": 71,
   "metadata": {},
   "outputs": [],
   "source": [
    "def search(start,destination, connection_graph, sort_candidate):\n",
    "    pathes = [[start]]              # 初始路线 ，只有出发点\n",
    "    visitied = set()\n",
    "    while pathes: #if we find existing pathes\n",
    "        path = pathes.pop(0)    # 删除pathes中第0个元素，并赋值给path   最早扩展的路，节点最少，转乘最少\n",
    "        froninter = path[-1]    #广度优先遍历\n",
    "        \n",
    "        if froninter in visitied:continue\n",
    "            \n",
    "        successors = connection_graph[froninter]  #froninter的连接点\n",
    "        for city in successors:\n",
    "            if city in path: continue # eliminate loop\n",
    "            new_path = path + [city]\n",
    "            pathes.append(new_path)\n",
    "            if city == destination:return new_path\n",
    "        visitied.add(froninter)\n",
    "            \n",
    "        pathes = sort_candidate(pathes) #我们这里可以加一个程序函数（如下所例），对我们的搜索策略进行控制\n",
    "            \n",
    "        # 尽可能宽的扩展自己"
   ]
  },
  {
   "cell_type": "code",
   "execution_count": 97,
   "metadata": {},
   "outputs": [],
   "source": [
    "def transfer_as_much_possible(pathes):\n",
    "    return sorted(pathes, key = len, reverse=True)\n",
    "    # 局限性：不是最长的路线，visited？？!!!!!!!可以进行优化！！！"
   ]
  },
  {
   "cell_type": "code",
   "execution_count": 89,
   "metadata": {},
   "outputs": [],
   "source": [
    "def transfer_stations_first(pathes):   #最少站数优先\n",
    "    return sorted(pathes, key = len)"
   ]
  },
  {
   "cell_type": "code",
   "execution_count": 90,
   "metadata": {},
   "outputs": [],
   "source": [
    "def shortest_path_first(pathes):  #最短距离优先\n",
    "    if len(pathes) <= 1: return pathes\n",
    "    \n",
    "    def get_path_distance(path):\n",
    "        distance = 0\n",
    "        for station in path[:-1]:\n",
    "            distance += get_geo_distance(station,path[-1])\n",
    "            \n",
    "        return distance  \n",
    "    \n",
    "    return sorted(pathes, key = get_path_distance)"
   ]
  },
  {
   "cell_type": "code",
   "execution_count": null,
   "metadata": {},
   "outputs": [],
   "source": []
  },
  {
   "cell_type": "code",
   "execution_count": 91,
   "metadata": {},
   "outputs": [
    {
     "data": {
      "text/plain": [
       "['兰州', '西安', '长沙', '福州']"
      ]
     },
     "execution_count": 91,
     "metadata": {},
     "output_type": "execute_result"
    }
   ],
   "source": [
    "search('兰州','福州',simple_connection_info, sort_candidate=shortest_path_first)"
   ]
  },
  {
   "cell_type": "code",
   "execution_count": 92,
   "metadata": {},
   "outputs": [],
   "source": [
    "def pretty_print(cities):\n",
    "    print('🚗->'.join(cities))"
   ]
  },
  {
   "cell_type": "code",
   "execution_count": 93,
   "metadata": {},
   "outputs": [
    {
     "name": "stdout",
     "output_type": "stream",
     "text": [
      "北京🚗->太原🚗->西安🚗->长沙🚗->福州\n"
     ]
    }
   ],
   "source": [
    "pretty_print(search('北京','福州',simple_connection_info, sort_candidate=shortest_path_first))"
   ]
  },
  {
   "cell_type": "markdown",
   "metadata": {},
   "source": [
    "## Breath first search"
   ]
  },
  {
   "cell_type": "markdown",
   "metadata": {},
   "source": [
    "## Depth first search"
   ]
  },
  {
   "cell_type": "code",
   "execution_count": 100,
   "metadata": {},
   "outputs": [
    {
     "name": "stdout",
     "output_type": "stream",
     "text": [
      "北京🚗->济南🚗->合肥🚗->南京\n"
     ]
    }
   ],
   "source": [
    "pretty_print(search('北京', '南京', city_connection,sort_candidate=transfer_stations_first))"
   ]
  },
  {
   "cell_type": "code",
   "execution_count": 103,
   "metadata": {},
   "outputs": [
    {
     "name": "stdout",
     "output_type": "stream",
     "text": [
      "北京🚗->石家庄🚗->郑州🚗->长沙\n"
     ]
    }
   ],
   "source": [
    "pretty_print(search('北京', '长沙', city_connection, sort_candidate=transfer_stations_first))"
   ]
  },
  {
   "cell_type": "code",
   "execution_count": 95,
   "metadata": {},
   "outputs": [
    {
     "name": "stdout",
     "output_type": "stream",
     "text": [
      "北京🚗->石家庄🚗->郑州🚗->长沙🚗->广州\n"
     ]
    }
   ],
   "source": [
    "pretty_print(search('北京', '广州', city_connection, sort_candidate=transfer_stations_first))"
   ]
  },
  {
   "cell_type": "code",
   "execution_count": 98,
   "metadata": {},
   "outputs": [
    {
     "name": "stdout",
     "output_type": "stream",
     "text": [
      "北京🚗->石家庄🚗->郑州🚗->武汉🚗->长沙🚗->广州\n"
     ]
    }
   ],
   "source": [
    "pretty_print(search('北京', '广州', city_connection, sort_candidate=transfer_as_much_possible))"
   ]
  },
  {
   "cell_type": "code",
   "execution_count": null,
   "metadata": {},
   "outputs": [],
   "source": []
  },
  {
   "cell_type": "markdown",
   "metadata": {},
   "source": [
    "## Assignment\n",
    "\n",
    "1.网络爬虫+正则\n",
    "2.数据处理\n",
    "3.算法应用能力"
   ]
  },
  {
   "cell_type": "code",
   "execution_count": null,
   "metadata": {},
   "outputs": [],
   "source": []
  },
  {
   "cell_type": "code",
   "execution_count": 105,
   "metadata": {},
   "outputs": [],
   "source": [
    "import re"
   ]
  },
  {
   "cell_type": "code",
   "execution_count": 106,
   "metadata": {},
   "outputs": [],
   "source": [
    "import requests"
   ]
  },
  {
   "cell_type": "code",
   "execution_count": 107,
   "metadata": {},
   "outputs": [],
   "source": [
    "url = 'https://movie.douban.com/subject/26931786/?from=showing'"
   ]
  },
  {
   "cell_type": "code",
   "execution_count": 108,
   "metadata": {},
   "outputs": [],
   "source": [
    "response = requests.get(url)\n",
    "#print(response.text)"
   ]
  },
  {
   "cell_type": "code",
   "execution_count": 109,
   "metadata": {},
   "outputs": [],
   "source": [
    "what_we_want = r'<a href=\"https://(movie\\.douban\\.com/subject/\\d+/\\?from=subject-page)\" class=\"\" '"
   ]
  },
  {
   "cell_type": "code",
   "execution_count": 110,
   "metadata": {},
   "outputs": [],
   "source": [
    "pattern = re.compile(what_we_want)"
   ]
  },
  {
   "cell_type": "code",
   "execution_count": 111,
   "metadata": {},
   "outputs": [],
   "source": [
    "likes = pattern.findall(response.text)"
   ]
  },
  {
   "cell_type": "code",
   "execution_count": 112,
   "metadata": {},
   "outputs": [
    {
     "name": "stdout",
     "output_type": "stream",
     "text": [
      "movie.douban.com/subject/24753477/?from=subject-page\n",
      "movie.douban.com/subject/25820460/?from=subject-page\n",
      "movie.douban.com/subject/1432146/?from=subject-page\n",
      "movie.douban.com/subject/26100958/?from=subject-page\n",
      "movie.douban.com/subject/1866473/?from=subject-page\n",
      "movie.douban.com/subject/25937854/?from=subject-page\n",
      "movie.douban.com/subject/25821634/?from=subject-page\n",
      "movie.douban.com/subject/26213252/?from=subject-page\n",
      "movie.douban.com/subject/1866475/?from=subject-page\n",
      "movie.douban.com/subject/3168101/?from=subject-page\n"
     ]
    }
   ],
   "source": [
    "for like in likes:\n",
    "    print(like)"
   ]
  },
  {
   "cell_type": "code",
   "execution_count": null,
   "metadata": {},
   "outputs": [],
   "source": []
  },
  {
   "cell_type": "markdown",
   "metadata": {},
   "source": [
    "## Machine Learning\n",
    "### 1. Re-code the house price machine learning\n",
    "\n",
    "###### 1. Random Choose Method to get optimal *k* and *b*\n",
    "###### 2.Supervised Direction to get optimal *k* and *b*\n",
    "###### 3.Gradient Descent to get optimal *k* and *b*\n",
    "###### 4. Different Loss function and learning rate. "
   ]
  },
  {
   "cell_type": "code",
   "execution_count": 113,
   "metadata": {},
   "outputs": [],
   "source": [
    "from sklearn.datasets import load_boston"
   ]
  },
  {
   "cell_type": "code",
   "execution_count": 114,
   "metadata": {},
   "outputs": [],
   "source": [
    "data = load_boston()"
   ]
  },
  {
   "cell_type": "code",
   "execution_count": 115,
   "metadata": {},
   "outputs": [],
   "source": [
    "x, y = data['data'], data['target']"
   ]
  },
  {
   "cell_type": "code",
   "execution_count": 203,
   "metadata": {},
   "outputs": [],
   "source": [
    "#data"
   ]
  },
  {
   "cell_type": "code",
   "execution_count": 119,
   "metadata": {},
   "outputs": [
    {
     "data": {
      "text/plain": [
       "array(['CRIM', 'ZN', 'INDUS', 'CHAS', 'NOX', 'RM', 'AGE', 'DIS', 'RAD',\n",
       "       'TAX', 'PTRATIO', 'B', 'LSTAT'], dtype='<U7')"
      ]
     },
     "execution_count": 119,
     "metadata": {},
     "output_type": "execute_result"
    }
   ],
   "source": [
    "data['feature_names']"
   ]
  },
  {
   "cell_type": "code",
   "execution_count": 204,
   "metadata": {},
   "outputs": [],
   "source": [
    "#data['DESCR']"
   ]
  },
  {
   "cell_type": "code",
   "execution_count": 121,
   "metadata": {},
   "outputs": [
    {
     "data": {
      "text/plain": [
       "array([6.320e-03, 1.800e+01, 2.310e+00, 0.000e+00, 5.380e-01, 6.575e+00,\n",
       "       6.520e+01, 4.090e+00, 1.000e+00, 2.960e+02, 1.530e+01, 3.969e+02,\n",
       "       4.980e+00])"
      ]
     },
     "execution_count": 121,
     "metadata": {},
     "output_type": "execute_result"
    }
   ],
   "source": [
    "x[0]"
   ]
  },
  {
   "cell_type": "code",
   "execution_count": 124,
   "metadata": {},
   "outputs": [
    {
     "data": {
      "text/plain": [
       "21.6"
      ]
     },
     "execution_count": 124,
     "metadata": {},
     "output_type": "execute_result"
    }
   ],
   "source": [
    "y[1]"
   ]
  },
  {
   "cell_type": "code",
   "execution_count": 125,
   "metadata": {},
   "outputs": [
    {
     "data": {
      "text/plain": [
       "506"
      ]
     },
     "execution_count": 125,
     "metadata": {},
     "output_type": "execute_result"
    }
   ],
   "source": [
    "len(x[:, 0])  #所有的犯罪率"
   ]
  },
  {
   "cell_type": "code",
   "execution_count": 126,
   "metadata": {},
   "outputs": [
    {
     "data": {
      "text/plain": [
       "506"
      ]
     },
     "execution_count": 126,
     "metadata": {},
     "output_type": "execute_result"
    }
   ],
   "source": [
    "len(y)"
   ]
  },
  {
   "cell_type": "code",
   "execution_count": 128,
   "metadata": {},
   "outputs": [],
   "source": [
    "%matplotlib inline"
   ]
  },
  {
   "cell_type": "code",
   "execution_count": 129,
   "metadata": {},
   "outputs": [],
   "source": [
    "import matplotlib.pyplot as plt"
   ]
  },
  {
   "cell_type": "code",
   "execution_count": 166,
   "metadata": {},
   "outputs": [],
   "source": [
    "def draw_rm_and_price():\n",
    "    plt.scatter(x[:,5],y)      #犯罪率与房价的关系"
   ]
  },
  {
   "cell_type": "code",
   "execution_count": 167,
   "metadata": {},
   "outputs": [
    {
     "data": {
      "image/png": "[encoded data removed]",
      "text/plain": [
       "<Figure size 432x288 with 1 Axes>"
      ]
     },
     "metadata": {
      "needs_background": "light"
     },
     "output_type": "display_data"
    }
   ],
   "source": [
    "draw_rm_and_price()"
   ]
  },
  {
   "cell_type": "code",
   "execution_count": 168,
   "metadata": {},
   "outputs": [
    {
     "data": {
      "text/plain": [
       "array([6.320e-03, 1.800e+01, 2.310e+00, 0.000e+00, 5.380e-01, 6.575e+00,\n",
       "       6.520e+01, 4.090e+00, 1.000e+00, 2.960e+02, 1.530e+01, 3.969e+02,\n",
       "       4.980e+00])"
      ]
     },
     "execution_count": 168,
     "metadata": {},
     "output_type": "execute_result"
    }
   ],
   "source": [
    "x[0]"
   ]
  },
  {
   "cell_type": "code",
   "execution_count": 169,
   "metadata": {},
   "outputs": [
    {
     "data": {
      "text/plain": [
       "24.0"
      ]
     },
     "execution_count": 169,
     "metadata": {},
     "output_type": "execute_result"
    }
   ],
   "source": [
    "y[0]"
   ]
  },
  {
   "cell_type": "code",
   "execution_count": null,
   "metadata": {},
   "outputs": [],
   "source": []
  },
  {
   "cell_type": "code",
   "execution_count": 170,
   "metadata": {},
   "outputs": [],
   "source": [
    "import random"
   ]
  },
  {
   "cell_type": "code",
   "execution_count": 171,
   "metadata": {},
   "outputs": [],
   "source": [
    "def price(rm, k ,b):\n",
    "    \"\"\"f(x) = k * x + b\"\"\"\n",
    "    return k * rm + b"
   ]
  },
  {
   "cell_type": "code",
   "execution_count": 175,
   "metadata": {},
   "outputs": [
    {
     "data": {
      "text/plain": [
       "<matplotlib.collections.PathCollection at 0x88bc9b0d68>"
      ]
     },
     "execution_count": 175,
     "metadata": {},
     "output_type": "execute_result"
    },
    {
     "data": {
      "image/png": "[encoded data removed]",
      "text/plain": [
       "<Figure size 432x288 with 1 Axes>"
      ]
     },
     "metadata": {
      "needs_background": "light"
     },
     "output_type": "display_data"
    }
   ],
   "source": [
    "x_rm = x[:, 5]\n",
    "k = random.randint(-100, 100)\n",
    "b = random.randint(-100, 100)\n",
    "price_by_random_k_and_b = [price(r, k ,b)for r in x_rm]\n",
    "\n",
    "draw_rm_and_price()\n",
    "plt.scatter(x_rm, price_by_random_k_and_b)   #黄色线为生成的线"
   ]
  },
  {
   "cell_type": "code",
   "execution_count": 176,
   "metadata": {},
   "outputs": [
    {
     "data": {
      "text/plain": [
       "[24.0,\n",
       " 21.6,\n",
       " 34.7,\n",
       " 33.4,\n",
       " 36.2,\n",
       " 28.7,\n",
       " 22.9,\n",
       " 27.1,\n",
       " 16.5,\n",
       " 18.9,\n",
       " 15.0,\n",
       " 18.9,\n",
       " 21.7,\n",
       " 20.4,\n",
       " 18.2,\n",
       " 19.9,\n",
       " 23.1,\n",
       " 17.5,\n",
       " 20.2,\n",
       " 18.2,\n",
       " 13.6,\n",
       " 19.6,\n",
       " 15.2,\n",
       " 14.5,\n",
       " 15.6,\n",
       " 13.9,\n",
       " 16.6,\n",
       " 14.8,\n",
       " 18.4,\n",
       " 21.0,\n",
       " 12.7,\n",
       " 14.5,\n",
       " 13.2,\n",
       " 13.1,\n",
       " 13.5,\n",
       " 18.9,\n",
       " 20.0,\n",
       " 21.0,\n",
       " 24.7,\n",
       " 30.8,\n",
       " 34.9,\n",
       " 26.6,\n",
       " 25.3,\n",
       " 24.7,\n",
       " 21.2,\n",
       " 19.3,\n",
       " 20.0,\n",
       " 16.6,\n",
       " 14.4,\n",
       " 19.4,\n",
       " 19.7,\n",
       " 20.5,\n",
       " 25.0,\n",
       " 23.4,\n",
       " 18.9,\n",
       " 35.4,\n",
       " 24.7,\n",
       " 31.6,\n",
       " 23.3,\n",
       " 19.6,\n",
       " 18.7,\n",
       " 16.0,\n",
       " 22.2,\n",
       " 25.0,\n",
       " 33.0,\n",
       " 23.5,\n",
       " 19.4,\n",
       " 22.0,\n",
       " 17.4,\n",
       " 20.9,\n",
       " 24.2,\n",
       " 21.7,\n",
       " 22.8,\n",
       " 23.4,\n",
       " 24.1,\n",
       " 21.4,\n",
       " 20.0,\n",
       " 20.8,\n",
       " 21.2,\n",
       " 20.3,\n",
       " 28.0,\n",
       " 23.9,\n",
       " 24.8,\n",
       " 22.9,\n",
       " 23.9,\n",
       " 26.6,\n",
       " 22.5,\n",
       " 22.2,\n",
       " 23.6,\n",
       " 28.7,\n",
       " 22.6,\n",
       " 22.0,\n",
       " 22.9,\n",
       " 25.0,\n",
       " 20.6,\n",
       " 28.4,\n",
       " 21.4,\n",
       " 38.7,\n",
       " 43.8,\n",
       " 33.2,\n",
       " 27.5,\n",
       " 26.5,\n",
       " 18.6,\n",
       " 19.3,\n",
       " 20.1,\n",
       " 19.5,\n",
       " 19.5,\n",
       " 20.4,\n",
       " 19.8,\n",
       " 19.4,\n",
       " 21.7,\n",
       " 22.8,\n",
       " 18.8,\n",
       " 18.7,\n",
       " 18.5,\n",
       " 18.3,\n",
       " 21.2,\n",
       " 19.2,\n",
       " 20.4,\n",
       " 19.3,\n",
       " 22.0,\n",
       " 20.3,\n",
       " 20.5,\n",
       " 17.3,\n",
       " 18.8,\n",
       " 21.4,\n",
       " 15.7,\n",
       " 16.2,\n",
       " 18.0,\n",
       " 14.3,\n",
       " 19.2,\n",
       " 19.6,\n",
       " 23.0,\n",
       " 18.4,\n",
       " 15.6,\n",
       " 18.1,\n",
       " 17.4,\n",
       " 17.1,\n",
       " 13.3,\n",
       " 17.8,\n",
       " 14.0,\n",
       " 14.4,\n",
       " 13.4,\n",
       " 15.6,\n",
       " 11.8,\n",
       " 13.8,\n",
       " 15.6,\n",
       " 14.6,\n",
       " 17.8,\n",
       " 15.4,\n",
       " 21.5,\n",
       " 19.6,\n",
       " 15.3,\n",
       " 19.4,\n",
       " 17.0,\n",
       " 15.6,\n",
       " 13.1,\n",
       " 41.3,\n",
       " 24.3,\n",
       " 23.3,\n",
       " 27.0,\n",
       " 50.0,\n",
       " 50.0,\n",
       " 50.0,\n",
       " 22.7,\n",
       " 25.0,\n",
       " 50.0,\n",
       " 23.8,\n",
       " 23.8,\n",
       " 22.3,\n",
       " 17.4,\n",
       " 19.1,\n",
       " 23.1,\n",
       " 23.6,\n",
       " 22.6,\n",
       " 29.4,\n",
       " 23.2,\n",
       " 24.6,\n",
       " 29.9,\n",
       " 37.2,\n",
       " 39.8,\n",
       " 36.2,\n",
       " 37.9,\n",
       " 32.5,\n",
       " 26.4,\n",
       " 29.6,\n",
       " 50.0,\n",
       " 32.0,\n",
       " 29.8,\n",
       " 34.9,\n",
       " 37.0,\n",
       " 30.5,\n",
       " 36.4,\n",
       " 31.1,\n",
       " 29.1,\n",
       " 50.0,\n",
       " 33.3,\n",
       " 30.3,\n",
       " 34.6,\n",
       " 34.9,\n",
       " 32.9,\n",
       " 24.1,\n",
       " 42.3,\n",
       " 48.5,\n",
       " 50.0,\n",
       " 22.6,\n",
       " 24.4,\n",
       " 22.5,\n",
       " 24.4,\n",
       " 20.0,\n",
       " 21.7,\n",
       " 19.3,\n",
       " 22.4,\n",
       " 28.1,\n",
       " 23.7,\n",
       " 25.0,\n",
       " 23.3,\n",
       " 28.7,\n",
       " 21.5,\n",
       " 23.0,\n",
       " 26.7,\n",
       " 21.7,\n",
       " 27.5,\n",
       " 30.1,\n",
       " 44.8,\n",
       " 50.0,\n",
       " 37.6,\n",
       " 31.6,\n",
       " 46.7,\n",
       " 31.5,\n",
       " 24.3,\n",
       " 31.7,\n",
       " 41.7,\n",
       " 48.3,\n",
       " 29.0,\n",
       " 24.0,\n",
       " 25.1,\n",
       " 31.5,\n",
       " 23.7,\n",
       " 23.3,\n",
       " 22.0,\n",
       " 20.1,\n",
       " 22.2,\n",
       " 23.7,\n",
       " 17.6,\n",
       " 18.5,\n",
       " 24.3,\n",
       " 20.5,\n",
       " 24.5,\n",
       " 26.2,\n",
       " 24.4,\n",
       " 24.8,\n",
       " 29.6,\n",
       " 42.8,\n",
       " 21.9,\n",
       " 20.9,\n",
       " 44.0,\n",
       " 50.0,\n",
       " 36.0,\n",
       " 30.1,\n",
       " 33.8,\n",
       " 43.1,\n",
       " 48.8,\n",
       " 31.0,\n",
       " 36.5,\n",
       " 22.8,\n",
       " 30.7,\n",
       " 50.0,\n",
       " 43.5,\n",
       " 20.7,\n",
       " 21.1,\n",
       " 25.2,\n",
       " 24.4,\n",
       " 35.2,\n",
       " 32.4,\n",
       " 32.0,\n",
       " 33.2,\n",
       " 33.1,\n",
       " 29.1,\n",
       " 35.1,\n",
       " 45.4,\n",
       " 35.4,\n",
       " 46.0,\n",
       " 50.0,\n",
       " 32.2,\n",
       " 22.0,\n",
       " 20.1,\n",
       " 23.2,\n",
       " 22.3,\n",
       " 24.8,\n",
       " 28.5,\n",
       " 37.3,\n",
       " 27.9,\n",
       " 23.9,\n",
       " 21.7,\n",
       " 28.6,\n",
       " 27.1,\n",
       " 20.3,\n",
       " 22.5,\n",
       " 29.0,\n",
       " 24.8,\n",
       " 22.0,\n",
       " 26.4,\n",
       " 33.1,\n",
       " 36.1,\n",
       " 28.4,\n",
       " 33.4,\n",
       " 28.2,\n",
       " 22.8,\n",
       " 20.3,\n",
       " 16.1,\n",
       " 22.1,\n",
       " 19.4,\n",
       " 21.6,\n",
       " 23.8,\n",
       " 16.2,\n",
       " 17.8,\n",
       " 19.8,\n",
       " 23.1,\n",
       " 21.0,\n",
       " 23.8,\n",
       " 23.1,\n",
       " 20.4,\n",
       " 18.5,\n",
       " 25.0,\n",
       " 24.6,\n",
       " 23.0,\n",
       " 22.2,\n",
       " 19.3,\n",
       " 22.6,\n",
       " 19.8,\n",
       " 17.1,\n",
       " 19.4,\n",
       " 22.2,\n",
       " 20.7,\n",
       " 21.1,\n",
       " 19.5,\n",
       " 18.5,\n",
       " 20.6,\n",
       " 19.0,\n",
       " 18.7,\n",
       " 32.7,\n",
       " 16.5,\n",
       " 23.9,\n",
       " 31.2,\n",
       " 17.5,\n",
       " 17.2,\n",
       " 23.1,\n",
       " 24.5,\n",
       " 26.6,\n",
       " 22.9,\n",
       " 24.1,\n",
       " 18.6,\n",
       " 30.1,\n",
       " 18.2,\n",
       " 20.6,\n",
       " 17.8,\n",
       " 21.7,\n",
       " 22.7,\n",
       " 22.6,\n",
       " 25.0,\n",
       " 19.9,\n",
       " 20.8,\n",
       " 16.8,\n",
       " 21.9,\n",
       " 27.5,\n",
       " 21.9,\n",
       " 23.1,\n",
       " 50.0,\n",
       " 50.0,\n",
       " 50.0,\n",
       " 50.0,\n",
       " 50.0,\n",
       " 13.8,\n",
       " 13.8,\n",
       " 15.0,\n",
       " 13.9,\n",
       " 13.3,\n",
       " 13.1,\n",
       " 10.2,\n",
       " 10.4,\n",
       " 10.9,\n",
       " 11.3,\n",
       " 12.3,\n",
       " 8.8,\n",
       " 7.2,\n",
       " 10.5,\n",
       " 7.4,\n",
       " 10.2,\n",
       " 11.5,\n",
       " 15.1,\n",
       " 23.2,\n",
       " 9.7,\n",
       " 13.8,\n",
       " 12.7,\n",
       " 13.1,\n",
       " 12.5,\n",
       " 8.5,\n",
       " 5.0,\n",
       " 6.3,\n",
       " 5.6,\n",
       " 7.2,\n",
       " 12.1,\n",
       " 8.3,\n",
       " 8.5,\n",
       " 5.0,\n",
       " 11.9,\n",
       " 27.9,\n",
       " 17.2,\n",
       " 27.5,\n",
       " 15.0,\n",
       " 17.2,\n",
       " 17.9,\n",
       " 16.3,\n",
       " 7.0,\n",
       " 7.2,\n",
       " 7.5,\n",
       " 10.4,\n",
       " 8.8,\n",
       " 8.4,\n",
       " 16.7,\n",
       " 14.2,\n",
       " 20.8,\n",
       " 13.4,\n",
       " 11.7,\n",
       " 8.3,\n",
       " 10.2,\n",
       " 10.9,\n",
       " 11.0,\n",
       " 9.5,\n",
       " 14.5,\n",
       " 14.1,\n",
       " 16.1,\n",
       " 14.3,\n",
       " 11.7,\n",
       " 13.4,\n",
       " 9.6,\n",
       " 8.7,\n",
       " 8.4,\n",
       " 12.8,\n",
       " 10.5,\n",
       " 17.1,\n",
       " 18.4,\n",
       " 15.4,\n",
       " 10.8,\n",
       " 11.8,\n",
       " 14.9,\n",
       " 12.6,\n",
       " 14.1,\n",
       " 13.0,\n",
       " 13.4,\n",
       " 15.2,\n",
       " 16.1,\n",
       " 17.8,\n",
       " 14.9,\n",
       " 14.1,\n",
       " 12.7,\n",
       " 13.5,\n",
       " 14.9,\n",
       " 20.0,\n",
       " 16.4,\n",
       " 17.7,\n",
       " 19.5,\n",
       " 20.2,\n",
       " 21.4,\n",
       " 19.9,\n",
       " 19.0,\n",
       " 19.1,\n",
       " 19.1,\n",
       " 20.1,\n",
       " 19.9,\n",
       " 19.6,\n",
       " 23.2,\n",
       " 29.8,\n",
       " 13.8,\n",
       " 13.3,\n",
       " 16.7,\n",
       " 12.0,\n",
       " 14.6,\n",
       " 21.4,\n",
       " 23.0,\n",
       " 23.7,\n",
       " 25.0,\n",
       " 21.8,\n",
       " 20.6,\n",
       " 21.2,\n",
       " 19.1,\n",
       " 20.6,\n",
       " 15.2,\n",
       " 7.0,\n",
       " 8.1,\n",
       " 13.6,\n",
       " 20.1,\n",
       " 21.8,\n",
       " 24.5,\n",
       " 23.1,\n",
       " 19.7,\n",
       " 18.3,\n",
       " 21.2,\n",
       " 17.5,\n",
       " 16.8,\n",
       " 22.4,\n",
       " 20.6,\n",
       " 23.9,\n",
       " 22.0,\n",
       " 11.9]"
      ]
     },
     "execution_count": 176,
     "metadata": {},
     "output_type": "execute_result"
    }
   ],
   "source": [
    "list(y)  #数据库中的y值"
   ]
  },
  {
   "cell_type": "code",
   "execution_count": 177,
   "metadata": {},
   "outputs": [
    {
     "data": {
      "text/plain": [
       "[286.4,\n",
       " 281.472,\n",
       " 305.91999999999996,\n",
       " 299.93600000000004,\n",
       " 304.704,\n",
       " 281.76,\n",
       " 268.384,\n",
       " 273.504,\n",
       " 256.192,\n",
       " 268.128,\n",
       " 280.06399999999996,\n",
       " 268.288,\n",
       " 264.448,\n",
       " 266.368,\n",
       " 271.072,\n",
       " 262.688,\n",
       " 265.91999999999996,\n",
       " 267.68,\n",
       " 250.592,\n",
       " 259.264,\n",
       " 254.24,\n",
       " 266.88,\n",
       " 272.544,\n",
       " 262.01599999999996,\n",
       " 265.568,\n",
       " 255.168,\n",
       " 262.01599999999996,\n",
       " 269.504,\n",
       " 283.84000000000003,\n",
       " 289.568,\n",
       " 258.81600000000003,\n",
       " 270.304,\n",
       " 266.4,\n",
       " 258.432,\n",
       " 271.072,\n",
       " 265.856,\n",
       " 262.91200000000003,\n",
       " 263.2,\n",
       " 266.91200000000003,\n",
       " 287.03999999999996,\n",
       " 300.76800000000003,\n",
       " 292.64,\n",
       " 273.408,\n",
       " 274.752,\n",
       " 270.20799999999997,\n",
       " 257.824,\n",
       " 261.152,\n",
       " 268.96000000000004,\n",
       " 248.768,\n",
       " 255.264,\n",
       " 266.81600000000003,\n",
       " 271.68,\n",
       " 284.352,\n",
       " 267.93600000000004,\n",
       " 264.416,\n",
       " 307.96799999999996,\n",
       " 280.256,\n",
       " 294.11199999999997,\n",
       " 272.64,\n",
       " 265.664,\n",
       " 259.712,\n",
       " 266.91200000000003,\n",
       " 282.592,\n",
       " 292.384,\n",
       " 303.328,\n",
       " 277.28,\n",
       " 261.18399999999997,\n",
       " 264.096,\n",
       " 255.008,\n",
       " 264.32,\n",
       " 281.344,\n",
       " 266.752,\n",
       " 270.08000000000004,\n",
       " 275.84000000000003,\n",
       " 276.736,\n",
       " 277.152,\n",
       " 276.928,\n",
       " 272.48,\n",
       " 275.424,\n",
       " 263.96799999999996,\n",
       " 291.264,\n",
       " 287.808,\n",
       " 277.664,\n",
       " 273.344,\n",
       " 280.448,\n",
       " 288.15999999999997,\n",
       " 268.48,\n",
       " 271.872,\n",
       " 300.224,\n",
       " 302.528,\n",
       " 281.344,\n",
       " 280.96000000000004,\n",
       " 282.144,\n",
       " 274.752,\n",
       " 275.96799999999996,\n",
       " 288.0,\n",
       " 273.216,\n",
       " 334.208,\n",
       " 326.24,\n",
       " 313.312,\n",
       " 291.264,\n",
       " 292.99199999999996,\n",
       " 280.96000000000004,\n",
       " 272.384,\n",
       " 273.344,\n",
       " 263.23199999999997,\n",
       " 262.752,\n",
       " 272.06399999999996,\n",
       " 283.168,\n",
       " 275.328,\n",
       " 274.24,\n",
       " 290.88,\n",
       " 265.216,\n",
       " 270.94399999999996,\n",
       " 276.128,\n",
       " 265.696,\n",
       " 273.632,\n",
       " 268.672,\n",
       " 263.904,\n",
       " 259.392,\n",
       " 263.84000000000003,\n",
       " 268.128,\n",
       " 266.752,\n",
       " 263.392,\n",
       " 264.128,\n",
       " 267.552,\n",
       " 255.616,\n",
       " 258.176,\n",
       " 281.79200000000003,\n",
       " 256.384,\n",
       " 282.656,\n",
       " 278.432,\n",
       " 279.904,\n",
       " 262.304,\n",
       " 260.224,\n",
       " 278.72,\n",
       " 266.144,\n",
       " 282.528,\n",
       " 263.424,\n",
       " 272.832,\n",
       " 273.568,\n",
       " 236.608,\n",
       " 248.896,\n",
       " 250.976,\n",
       " 232.896,\n",
       " 272.15999999999997,\n",
       " 256.096,\n",
       " 233.632,\n",
       " 241.952,\n",
       " 255.104,\n",
       " 271.904,\n",
       " 248.928,\n",
       " 236.384,\n",
       " 258.688,\n",
       " 272.128,\n",
       " 272.86400000000003,\n",
       " 244.704,\n",
       " 298.176,\n",
       " 270.11199999999997,\n",
       " 284.32,\n",
       " 276.0,\n",
       " 315.648,\n",
       " 325.664,\n",
       " 344.0,\n",
       " 263.328,\n",
       " 271.23199999999997,\n",
       " 329.728,\n",
       " 264.06399999999996,\n",
       " 278.20799999999997,\n",
       " 280.86400000000003,\n",
       " 264.0,\n",
       " 264.15999999999997,\n",
       " 254.304,\n",
       " 281.312,\n",
       " 263.488,\n",
       " 285.472,\n",
       " 268.64,\n",
       " 278.08000000000004,\n",
       " 295.52,\n",
       " 299.36,\n",
       " 324.48,\n",
       " 272.608,\n",
       " 304.96000000000004,\n",
       " 286.01599999999996,\n",
       " 255.328,\n",
       " 272.89599999999996,\n",
       " 326.592,\n",
       " 293.024,\n",
       " 285.79200000000003,\n",
       " 305.91999999999996,\n",
       " 298.432,\n",
       " 291.648,\n",
       " 305.696,\n",
       " 293.6,\n",
       " 287.328,\n",
       " 328.0,\n",
       " 309.18399999999997,\n",
       " 303.424,\n",
       " 308.76800000000003,\n",
       " 299.2,\n",
       " 304.32,\n",
       " 273.18399999999997,\n",
       " 319.52,\n",
       " 327.296,\n",
       " 333.088,\n",
       " 264.512,\n",
       " 278.432,\n",
       " 261.05600000000004,\n",
       " 270.048,\n",
       " 247.008,\n",
       " 266.72,\n",
       " 248.928,\n",
       " 261.824,\n",
       " 280.0,\n",
       " 249.184,\n",
       " 273.824,\n",
       " 264.416,\n",
       " 288.544,\n",
       " 266.432,\n",
       " 279.93600000000004,\n",
       " 298.432,\n",
       " 273.248,\n",
       " 296.128,\n",
       " 287.776,\n",
       " 340.512,\n",
       " 355.2,\n",
       " 333.28,\n",
       " 305.216,\n",
       " 321.952,\n",
       " 285.664,\n",
       " 267.392,\n",
       " 313.18399999999997,\n",
       " 342.784,\n",
       " 339.904,\n",
       " 291.23199999999997,\n",
       " 270.752,\n",
       " 288.192,\n",
       " 311.456,\n",
       " 283.392,\n",
       " 287.392,\n",
       " 296.704,\n",
       " 271.03999999999996,\n",
       " 279.456,\n",
       " 280.576,\n",
       " 254.976,\n",
       " 255.36,\n",
       " 271.456,\n",
       " 275.23199999999997,\n",
       " 281.856,\n",
       " 290.976,\n",
       " 283.584,\n",
       " 282.01599999999996,\n",
       " 298.624,\n",
       " 340.288,\n",
       " 271.456,\n",
       " 264.03200000000004,\n",
       " 314.528,\n",
       " 354.528,\n",
       " 310.656,\n",
       " 294.94399999999996,\n",
       " 306.496,\n",
       " 316.64,\n",
       " 344.736,\n",
       " 310.464,\n",
       " 306.592,\n",
       " 253.92,\n",
       " 300.448,\n",
       " 341.504,\n",
       " 315.03999999999996,\n",
       " 265.44,\n",
       " 263.392,\n",
       " 275.68,\n",
       " 285.216,\n",
       " 322.11199999999997,\n",
       " 292.256,\n",
       " 295.328,\n",
       " 308.544,\n",
       " 294.432,\n",
       " 283.424,\n",
       " 293.98400000000004,\n",
       " 326.24,\n",
       " 298.976,\n",
       " 320.64,\n",
       " 329.536,\n",
       " 302.81600000000003,\n",
       " 282.496,\n",
       " 275.36,\n",
       " 274.688,\n",
       " 278.08000000000004,\n",
       " 286.08000000000004,\n",
       " 295.552,\n",
       " 304.736,\n",
       " 288.15999999999997,\n",
       " 272.06399999999996,\n",
       " 268.288,\n",
       " 289.696,\n",
       " 285.568,\n",
       " 261.28,\n",
       " 279.03999999999996,\n",
       " 301.312,\n",
       " 295.872,\n",
       " 286.88,\n",
       " 283.84000000000003,\n",
       " 299.424,\n",
       " 307.552,\n",
       " 287.712,\n",
       " 313.44,\n",
       " 295.168,\n",
       " 288.32,\n",
       " 267.10400000000004,\n",
       " 235.136,\n",
       " 271.904,\n",
       " 268.736,\n",
       " 276.512,\n",
       " 286.144,\n",
       " 258.56,\n",
       " 265.248,\n",
       " 261.024,\n",
       " 280.224,\n",
       " 271.616,\n",
       " 281.632,\n",
       " 280.03200000000004,\n",
       " 269.312,\n",
       " 258.656,\n",
       " 281.28,\n",
       " 281.79200000000003,\n",
       " 277.98400000000004,\n",
       " 270.656,\n",
       " 263.776,\n",
       " 278.656,\n",
       " 272.608,\n",
       " 258.592,\n",
       " 268.99199999999996,\n",
       " 278.11199999999997,\n",
       " 277.91999999999996,\n",
       " 269.18399999999997,\n",
       " 263.808,\n",
       " 264.64,\n",
       " 269.88800000000003,\n",
       " 267.52,\n",
       " 266.976,\n",
       " 307.712,\n",
       " 285.28,\n",
       " 290.272,\n",
       " 295.96799999999996,\n",
       " 268.448,\n",
       " 264.736,\n",
       " 284.512,\n",
       " 288.32,\n",
       " 298.048,\n",
       " 283.68,\n",
       " 286.528,\n",
       " 264.288,\n",
       " 291.296,\n",
       " 257.216,\n",
       " 265.952,\n",
       " 274.784,\n",
       " 280.64,\n",
       " 272.06399999999996,\n",
       " 271.584,\n",
       " 280.736,\n",
       " 276.03200000000004,\n",
       " 247.584,\n",
       " 261.696,\n",
       " 356.96,\n",
       " 189.952,\n",
       " 234.816,\n",
       " 199.61599999999999,\n",
       " 235.04,\n",
       " 289.856,\n",
       " 300.512,\n",
       " 274.91200000000003,\n",
       " 264.0,\n",
       " 232.992,\n",
       " 208.416,\n",
       " 310.01599999999996,\n",
       " 288.76800000000003,\n",
       " 293.408,\n",
       " 280.15999999999997,\n",
       " 275.13599999999997,\n",
       " 298.976,\n",
       " 285.44,\n",
       " 253.152,\n",
       " 252.64,\n",
       " 215.776,\n",
       " 244.864,\n",
       " 224.864,\n",
       " 236.0,\n",
       " 232.16,\n",
       " 248.48,\n",
       " 258.81600000000003,\n",
       " 269.632,\n",
       " 237.152,\n",
       " 274.176,\n",
       " 264.384,\n",
       " 283.072,\n",
       " 280.96000000000004,\n",
       " 259.904,\n",
       " 250.496,\n",
       " 263.264,\n",
       " 267.584,\n",
       " 278.976,\n",
       " 280.928,\n",
       " 247.168,\n",
       " 252.992,\n",
       " 257.856,\n",
       " 208.416,\n",
       " 255.456,\n",
       " 255.744,\n",
       " 295.264,\n",
       " 260.224,\n",
       " 289.024,\n",
       " 224.096,\n",
       " 240.96,\n",
       " 220.608,\n",
       " 281.88800000000003,\n",
       " 293.024,\n",
       " 245.728,\n",
       " 266.624,\n",
       " 294.368,\n",
       " 281.152,\n",
       " 268.192,\n",
       " 256.736,\n",
       " 271.296,\n",
       " 254.08,\n",
       " 264.672,\n",
       " 262.784,\n",
       " 274.464,\n",
       " 274.176,\n",
       " 280.15999999999997,\n",
       " 279.13599999999997,\n",
       " 294.656,\n",
       " 281.6,\n",
       " 281.952,\n",
       " 274.656,\n",
       " 288.128,\n",
       " 282.752,\n",
       " 272.86400000000003,\n",
       " 265.91999999999996,\n",
       " 256.06399999999996,\n",
       " 262.176,\n",
       " 280.99199999999996,\n",
       " 275.00800000000004,\n",
       " 283.52,\n",
       " 263.328,\n",
       " 282.688,\n",
       " 278.91200000000003,\n",
       " 276.03200000000004,\n",
       " 273.91999999999996,\n",
       " 281.344,\n",
       " 291.96799999999996,\n",
       " 288.96000000000004,\n",
       " 277.504,\n",
       " 312.576,\n",
       " 291.296,\n",
       " 284.8,\n",
       " 267.23199999999997,\n",
       " 265.952,\n",
       " 277.632,\n",
       " 270.592,\n",
       " 290.432,\n",
       " 280.03200000000004,\n",
       " 278.144,\n",
       " 284.416,\n",
       " 274.688,\n",
       " 260.288,\n",
       " 266.464,\n",
       " 268.096,\n",
       " 265.632,\n",
       " 258.81600000000003,\n",
       " 273.344,\n",
       " 275.328,\n",
       " 281.98400000000004,\n",
       " 299.36,\n",
       " 249.664,\n",
       " 273.18399999999997,\n",
       " 283.488,\n",
       " 245.728,\n",
       " 273.91999999999996,\n",
       " 275.328,\n",
       " 275.744,\n",
       " 292.0,\n",
       " 301.952,\n",
       " 260.384,\n",
       " 263.872,\n",
       " 277.98400000000004,\n",
       " 271.648,\n",
       " 264.96000000000004,\n",
       " 250.528,\n",
       " 249.248,\n",
       " 238.976,\n",
       " 267.456,\n",
       " 267.456,\n",
       " 258.624,\n",
       " 265.632,\n",
       " 257.44,\n",
       " 248.48,\n",
       " 261.408,\n",
       " 268.608,\n",
       " 254.208,\n",
       " 268.86400000000003,\n",
       " 286.976,\n",
       " 271.84000000000003,\n",
       " 299.23199999999997,\n",
       " 293.408,\n",
       " 268.96000000000004]"
      ]
     },
     "execution_count": 177,
     "metadata": {},
     "output_type": "execute_result"
    }
   ],
   "source": [
    "price_by_random_k_and_b   #随机生成的y值"
   ]
  },
  {
   "cell_type": "code",
   "execution_count": null,
   "metadata": {},
   "outputs": [],
   "source": []
  },
  {
   "cell_type": "markdown",
   "metadata": {},
   "source": [
    "## loss"
   ]
  },
  {
   "cell_type": "markdown",
   "metadata": {},
   "source": [
    "$$ loss = \\frac{1}{n}\\sum{(y_i - \\hat{y_i)}2}$$"
   ]
  },
  {
   "cell_type": "markdown",
   "metadata": {},
   "source": [
    "$$ loss = \\frac{1}{n} \\sum{(y_i - (kx_i + b_i))}^2 $$"
   ]
  },
  {
   "cell_type": "markdown",
   "metadata": {},
   "source": [
    "$$\\frac{\\partial{loss}}{\\partial{k}} = -\\frac{2}{n}\\sum(y_i - (kx_i + b_i))x_i $$"
   ]
  },
  {
   "cell_type": "markdown",
   "metadata": {},
   "source": [
    "$$ \\frac{\\partial{loss}}{\\partial{k}} = -\\frac{2}{n}\\sum(y_i - \\hat{y_i})x_i$$"
   ]
  },
  {
   "cell_type": "markdown",
   "metadata": {},
   "source": [
    "$$ \\frac{\\partial{loss}}{\\partial{b}} = -\\frac{2}{n}\\sum(y_i - \\hat{y_i})$$"
   ]
  },
  {
   "cell_type": "code",
   "execution_count": 181,
   "metadata": {},
   "outputs": [],
   "source": [
    "def loss(y, y_hat):  #to evaluate the performance\n",
    "    return sum((y_i - y_hat_i)**2 for y_i, y_hat_i in zip(list(y),list(y_hat)))/ len(list(y))"
   ]
  },
  {
   "cell_type": "code",
   "execution_count": 182,
   "metadata": {},
   "outputs": [
    {
     "name": "stderr",
     "output_type": "stream",
     "text": [
      "H:\\Anaconda3\\anzhuang\\lib\\site-packages\\ipykernel_launcher.py:2: DeprecationWarning: Calling np.sum(generator) is deprecated, and in the future will give a different result. Use np.sum(np.fromiter(generator)) or the python sum builtin instead.\n",
      "  \n"
     ]
    },
    {
     "data": {
      "text/plain": [
       "2.0"
      ]
     },
     "execution_count": 182,
     "metadata": {},
     "output_type": "execute_result"
    }
   ],
   "source": [
    "loss([1, 1, 1], [2, 2, 3])"
   ]
  },
  {
   "cell_type": "markdown",
   "metadata": {},
   "source": [
    "## First-Methon:Random generation:get best k and best b\n",
    "\n"
   ]
  },
  {
   "cell_type": "code",
   "execution_count": 184,
   "metadata": {},
   "outputs": [
    {
     "name": "stderr",
     "output_type": "stream",
     "text": [
      "H:\\Anaconda3\\anzhuang\\lib\\site-packages\\ipykernel_launcher.py:2: DeprecationWarning: Calling np.sum(generator) is deprecated, and in the future will give a different result. Use np.sum(np.fromiter(generator)) or the python sum builtin instead.\n",
      "  \n"
     ]
    },
    {
     "name": "stdout",
     "output_type": "stream",
     "text": [
      "When time is : 0, get best_k: 27 best_b: -61, and the loss is: 7623.650438069168\n",
      "When time is : 13, get best_k: -10 best_b: 80, and the loss is: 252.3156456521739\n",
      "When time is : 83, get best_k: -4 best_b: 47, and the loss is: 128.62990662450602\n",
      "When time is : 157, get best_k: 4 best_b: -11, and the loss is: 126.8899034624506\n",
      "When time is : 205, get best_k: 1 best_b: 17, and the loss is: 76.50836570553372\n",
      "When time is : 305, get best_k: 9 best_b: -37, and the loss is: 52.433105152173916\n",
      "When time is : 981, get best_k: 8 best_b: -26, and the loss is: 47.24147471936756\n"
     ]
    }
   ],
   "source": [
    "x_rm = x[:, 5]\n",
    "\n",
    "trying_times = 1000\n",
    "min_loss = float('inf')\n",
    "best_k, best_b = None, None\n",
    "\n",
    "for i in range(trying_times):\n",
    "    k = random.randint(-100, 100)  #random.random() * 200 - 100\n",
    "    b = random.randint(-100, 100)  #random.random() * 200 - 100\n",
    "    price_by_random_k_and_b = [price(r, k ,b)for r in x_rm]\n",
    "    current_loss = loss(y, price_by_random_k_and_b)\n",
    "    if current_loss < min_loss:\n",
    "        min_loss = current_loss\n",
    "        best_k, best_b = k, b\n",
    "        print('When time is : {}, get best_k: {} best_b: {}, and the loss is: {}'.format(i, best_k, best_b, min_loss))\n",
    "#draw_rm_and_price()\n",
    "#plt.scatter(x_rm, price_by_random_k_and_b)  "
   ]
  },
  {
   "cell_type": "code",
   "execution_count": 188,
   "metadata": {},
   "outputs": [
    {
     "data": {
      "text/plain": [
       "<matplotlib.collections.PathCollection at 0x88bca96390>"
      ]
     },
     "execution_count": 188,
     "metadata": {},
     "output_type": "execute_result"
    },
    {
     "data": {
      "image/png": "[encoded data removed]",
      "text/plain": [
       "<Figure size 432x288 with 1 Axes>"
      ]
     },
     "metadata": {
      "needs_background": "light"
     },
     "output_type": "display_data"
    }
   ],
   "source": [
    "x_rm = x[:, 5]\n",
    "k = 8\n",
    "b = -26\n",
    "price_by_random_k_and_b = [price(r, k, b) for r in x_rm]\n",
    "\n",
    "draw_rm_and_price()\n",
    "plt.scatter(x_rm, price_by_random_k_and_b)"
   ]
  },
  {
   "cell_type": "code",
   "execution_count": 238,
   "metadata": {},
   "outputs": [
    {
     "data": {
      "text/plain": [
       "0.5967656412219723"
      ]
     },
     "execution_count": 238,
     "metadata": {},
     "output_type": "execute_result"
    }
   ],
   "source": [
    "random.random()#是一个0到1的数字"
   ]
  },
  {
   "cell_type": "markdown",
   "metadata": {},
   "source": [
    "## Second-Method:Direction Adjusting\n"
   ]
  },
  {
   "cell_type": "code",
   "execution_count": 190,
   "metadata": {},
   "outputs": [
    {
     "name": "stderr",
     "output_type": "stream",
     "text": [
      "H:\\Anaconda3\\anzhuang\\lib\\site-packages\\ipykernel_launcher.py:2: DeprecationWarning: Calling np.sum(generator) is deprecated, and in the future will give a different result. Use np.sum(np.fromiter(generator)) or the python sum builtin instead.\n",
      "  \n"
     ]
    },
    {
     "name": "stdout",
     "output_type": "stream",
     "text": [
      "When times is: 0, Get best_k: -17.219024557928456 best_b: 29.323763282413616, and the loss is: 10671.832875410546\n",
      "When times is: 1, Get best_k: -17.119024557928455 best_b: 29.423763282413617, and the loss is: 10522.006988715139\n",
      "When times is: 2, Get best_k: -17.019024557928454 best_b: 29.52376328241362, and the loss is: 10373.252273887229\n",
      "When times is: 3, Get best_k: -16.919024557928452 best_b: 29.62376328241362, and the loss is: 10225.568730926774\n",
      "When times is: 4, Get best_k: -16.81902455792845 best_b: 29.72376328241362, and the loss is: 10078.956359833806\n",
      "When times is: 5, Get best_k: -16.71902455792845 best_b: 29.823763282413623, and the loss is: 9933.415160608296\n",
      "When times is: 6, Get best_k: -16.619024557928448 best_b: 29.923763282413624, and the loss is: 9788.945133250267\n",
      "When times is: 7, Get best_k: -16.519024557928446 best_b: 30.023763282413626, and the loss is: 9645.546277759688\n",
      "When times is: 8, Get best_k: -16.419024557928445 best_b: 30.123763282413627, and the loss is: 9503.218594136599\n",
      "When times is: 9, Get best_k: -16.319024557928444 best_b: 30.22376328241363, and the loss is: 9361.962082380971\n",
      "When times is: 10, Get best_k: -16.219024557928442 best_b: 30.32376328241363, and the loss is: 9221.776742492812\n",
      "When times is: 11, Get best_k: -16.11902455792844 best_b: 30.42376328241363, and the loss is: 9082.66257447214\n",
      "When times is: 12, Get best_k: -16.01902455792844 best_b: 30.523763282413633, and the loss is: 8944.619578318912\n",
      "When times is: 13, Get best_k: -15.91902455792844 best_b: 30.623763282413634, and the loss is: 8807.64775403319\n",
      "When times is: 14, Get best_k: -15.81902455792844 best_b: 30.723763282413636, and the loss is: 8671.747101614903\n",
      "When times is: 15, Get best_k: -15.71902455792844 best_b: 30.823763282413637, and the loss is: 8536.917621064105\n",
      "When times is: 16, Get best_k: -15.61902455792844 best_b: 30.92376328241364, and the loss is: 8403.159312380765\n",
      "When times is: 17, Get best_k: -15.519024557928441 best_b: 31.02376328241364, and the loss is: 8270.472175564915\n",
      "When times is: 18, Get best_k: -15.419024557928442 best_b: 31.12376328241364, and the loss is: 8138.856210616517\n",
      "When times is: 19, Get best_k: -15.319024557928442 best_b: 31.223763282413643, and the loss is: 8008.311417535597\n",
      "When times is: 20, Get best_k: -15.219024557928442 best_b: 31.323763282413644, and the loss is: 7878.8377963221565\n",
      "When times is: 21, Get best_k: -15.119024557928443 best_b: 31.423763282413645, and the loss is: 7750.435346976176\n",
      "When times is: 22, Get best_k: -15.019024557928443 best_b: 31.523763282413647, and the loss is: 7623.104069497671\n",
      "When times is: 23, Get best_k: -14.919024557928443 best_b: 31.62376328241365, and the loss is: 7496.843963886633\n",
      "When times is: 24, Get best_k: -14.819024557928444 best_b: 31.72376328241365, and the loss is: 7371.655030143056\n",
      "When times is: 25, Get best_k: -14.719024557928444 best_b: 31.82376328241365, and the loss is: 7247.537268266964\n",
      "When times is: 26, Get best_k: -14.619024557928444 best_b: 31.923763282413653, and the loss is: 7124.4906782583375\n",
      "When times is: 27, Get best_k: -14.519024557928445 best_b: 32.023763282413654, and the loss is: 7002.515260117183\n",
      "When times is: 28, Get best_k: -14.419024557928445 best_b: 32.123763282413655, and the loss is: 6881.611013843496\n",
      "When times is: 29, Get best_k: -14.319024557928445 best_b: 32.22376328241366, and the loss is: 6761.777939437282\n",
      "When times is: 30, Get best_k: -14.219024557928446 best_b: 32.32376328241366, and the loss is: 6643.016036898538\n",
      "When times is: 31, Get best_k: -14.119024557928446 best_b: 32.42376328241366, and the loss is: 6525.325306227255\n",
      "When times is: 32, Get best_k: -14.019024557928446 best_b: 32.52376328241366, and the loss is: 6408.70574742346\n",
      "When times is: 33, Get best_k: -13.919024557928447 best_b: 32.62376328241366, and the loss is: 6293.157360487126\n",
      "When times is: 34, Get best_k: -13.819024557928447 best_b: 32.723763282413664, and the loss is: 6178.680145418258\n",
      "When times is: 35, Get best_k: -13.719024557928448 best_b: 32.823763282413665, and the loss is: 6065.274102216859\n",
      "When times is: 36, Get best_k: -13.619024557928448 best_b: 32.92376328241367, and the loss is: 5952.93923088294\n",
      "When times is: 37, Get best_k: -13.519024557928448 best_b: 33.02376328241367, and the loss is: 5841.675531416484\n",
      "When times is: 38, Get best_k: -13.419024557928449 best_b: 33.12376328241367, and the loss is: 5731.483003817506\n",
      "When times is: 39, Get best_k: -13.319024557928449 best_b: 33.22376328241367, and the loss is: 5622.361648085993\n",
      "When times is: 40, Get best_k: -13.21902455792845 best_b: 33.32376328241367, and the loss is: 5514.31146422195\n",
      "When times is: 41, Get best_k: -13.11902455792845 best_b: 33.423763282413674, and the loss is: 5407.332452225381\n",
      "When times is: 42, Get best_k: -13.01902455792845 best_b: 33.523763282413675, and the loss is: 5301.424612096275\n",
      "When times is: 43, Get best_k: -12.91902455792845 best_b: 33.62376328241368, and the loss is: 5196.587943834644\n",
      "When times is: 44, Get best_k: -12.81902455792845 best_b: 33.72376328241368, and the loss is: 5092.822447440483\n",
      "When times is: 45, Get best_k: -12.719024557928451 best_b: 33.82376328241368, and the loss is: 4990.128122913797\n",
      "When times is: 46, Get best_k: -12.619024557928451 best_b: 33.92376328241368, and the loss is: 4888.504970254576\n",
      "When times is: 47, Get best_k: -12.519024557928452 best_b: 34.02376328241368, and the loss is: 4787.952989462825\n",
      "When times is: 48, Get best_k: -12.419024557928452 best_b: 34.123763282413684, and the loss is: 4688.472180538547\n",
      "When times is: 49, Get best_k: -12.319024557928453 best_b: 34.223763282413685, and the loss is: 4590.062543481742\n",
      "When times is: 50, Get best_k: -12.219024557928453 best_b: 34.32376328241369, and the loss is: 4492.7240782923955\n",
      "When times is: 51, Get best_k: -12.119024557928453 best_b: 34.42376328241369, and the loss is: 4396.456784970532\n",
      "When times is: 52, Get best_k: -12.019024557928454 best_b: 34.52376328241369, and the loss is: 4301.260663516133\n",
      "When times is: 53, Get best_k: -11.919024557928454 best_b: 34.62376328241369, and the loss is: 4207.1357139292095\n",
      "When times is: 54, Get best_k: -11.819024557928454 best_b: 34.72376328241369, and the loss is: 4114.081936209748\n",
      "When times is: 55, Get best_k: -11.719024557928455 best_b: 34.823763282413694, and the loss is: 4022.099330357764\n",
      "When times is: 56, Get best_k: -11.619024557928455 best_b: 34.923763282413695, and the loss is: 3931.1878963732433\n",
      "When times is: 57, Get best_k: -11.519024557928455 best_b: 35.0237632824137, and the loss is: 3841.347634256198\n",
      "When times is: 58, Get best_k: -11.419024557928456 best_b: 35.1237632824137, and the loss is: 3752.5785440066256\n",
      "When times is: 59, Get best_k: -11.319024557928456 best_b: 35.2237632824137, and the loss is: 3664.88062562452\n",
      "When times is: 60, Get best_k: -11.219024557928456 best_b: 35.3237632824137, and the loss is: 3578.2538791098877\n",
      "When times is: 61, Get best_k: -11.119024557928457 best_b: 35.4237632824137, and the loss is: 3492.698304462721\n",
      "When times is: 62, Get best_k: -11.019024557928457 best_b: 35.523763282413704, and the loss is: 3408.213901683027\n",
      "When times is: 63, Get best_k: -10.919024557928457 best_b: 35.623763282413705, and the loss is: 3324.8006707708028\n",
      "When times is: 64, Get best_k: -10.819024557928458 best_b: 35.72376328241371, and the loss is: 3242.4586117260474\n",
      "When times is: 65, Get best_k: -10.719024557928458 best_b: 35.82376328241371, and the loss is: 3161.187724548767\n",
      "When times is: 66, Get best_k: -10.619024557928459 best_b: 35.92376328241371, and the loss is: 3080.9880092389503\n",
      "When times is: 67, Get best_k: -10.519024557928459 best_b: 36.02376328241371, and the loss is: 3001.8594657966123\n",
      "When times is: 68, Get best_k: -10.41902455792846 best_b: 36.12376328241371, and the loss is: 2923.802094221736\n",
      "When times is: 69, Get best_k: -10.31902455792846 best_b: 36.223763282413714, and the loss is: 2846.8158945143377\n",
      "When times is: 70, Get best_k: -10.21902455792846 best_b: 36.323763282413715, and the loss is: 2770.9008666744053\n",
      "When times is: 71, Get best_k: -10.11902455792846 best_b: 36.42376328241372, and the loss is: 2696.0570107019403\n",
      "When times is: 72, Get best_k: -10.01902455792846 best_b: 36.52376328241372, and the loss is: 2622.284326596953\n",
      "When times is: 73, Get best_k: -9.919024557928461 best_b: 36.62376328241372, and the loss is: 2549.582814359437\n",
      "When times is: 74, Get best_k: -9.819024557928461 best_b: 36.72376328241372, and the loss is: 2477.9524739893805\n",
      "When times is: 75, Get best_k: -9.719024557928462 best_b: 36.82376328241372, and the loss is: 2407.393305486804\n",
      "When times is: 76, Get best_k: -9.619024557928462 best_b: 36.923763282413724, and the loss is: 2337.905308851693\n",
      "When times is: 77, Get best_k: -9.519024557928462 best_b: 37.023763282413725, and the loss is: 2269.488484084056\n",
      "When times is: 78, Get best_k: -9.419024557928463 best_b: 37.12376328241373, and the loss is: 2202.142831183886\n",
      "When times is: 79, Get best_k: -9.319024557928463 best_b: 37.22376328241373, and the loss is: 2135.868350151187\n",
      "When times is: 80, Get best_k: -9.219024557928464 best_b: 37.32376328241373, and the loss is: 2070.665040985961\n",
      "When times is: 81, Get best_k: -9.119024557928464 best_b: 37.42376328241373, and the loss is: 2006.5329036882038\n",
      "When times is: 82, Get best_k: -9.019024557928464 best_b: 37.52376328241373, and the loss is: 1943.471938257916\n",
      "When times is: 83, Get best_k: -8.919024557928465 best_b: 37.623763282413734, and the loss is: 1881.4821446950991\n",
      "When times is: 84, Get best_k: -8.819024557928465 best_b: 37.723763282413735, and the loss is: 1820.563522999755\n",
      "When times is: 85, Get best_k: -8.719024557928465 best_b: 37.823763282413736, and the loss is: 1760.7160731718786\n",
      "When times is: 86, Get best_k: -8.619024557928466 best_b: 37.92376328241374, and the loss is: 1701.9397952114707\n",
      "When times is: 87, Get best_k: -8.519024557928466 best_b: 38.02376328241374, and the loss is: 1644.2346891185357\n",
      "When times is: 88, Get best_k: -8.419024557928466 best_b: 38.12376328241374, and the loss is: 1587.6007548930706\n",
      "When times is: 89, Get best_k: -8.319024557928467 best_b: 38.22376328241374, and the loss is: 1532.0379925350771\n",
      "When times is: 90, Get best_k: -8.219024557928467 best_b: 38.32376328241374, and the loss is: 1477.5464020445518\n",
      "When times is: 91, Get best_k: -8.119024557928467 best_b: 38.423763282413745, and the loss is: 1424.125983421498\n",
      "When times is: 92, Get best_k: -8.019024557928468 best_b: 38.523763282413746, and the loss is: 1371.7767366659134\n",
      "When times is: 93, Get best_k: -7.919024557928468 best_b: 38.62376328241375, and the loss is: 1320.4986617778013\n",
      "When times is: 94, Get best_k: -7.8190245579284685 best_b: 38.72376328241375, and the loss is: 1270.2917587571585\n",
      "When times is: 95, Get best_k: -7.719024557928469 best_b: 38.82376328241375, and the loss is: 1221.1560276039854\n",
      "When times is: 96, Get best_k: -7.619024557928469 best_b: 38.92376328241375, and the loss is: 1173.0914683182841\n",
      "When times is: 97, Get best_k: -7.51902455792847 best_b: 39.02376328241375, and the loss is: 1126.0980809000519\n",
      "When times is: 98, Get best_k: -7.41902455792847 best_b: 39.123763282413755, and the loss is: 1080.17586534929\n",
      "When times is: 99, Get best_k: -7.31902455792847 best_b: 39.223763282413756, and the loss is: 1035.3248216659988\n",
      "When times is: 100, Get best_k: -7.219024557928471 best_b: 39.32376328241376, and the loss is: 991.5449498501788\n",
      "When times is: 101, Get best_k: -7.119024557928471 best_b: 39.42376328241376, and the loss is: 948.8362499018284\n",
      "When times is: 102, Get best_k: -7.019024557928471 best_b: 39.52376328241376, and the loss is: 907.1987218209478\n",
      "When times is: 103, Get best_k: -6.919024557928472 best_b: 39.62376328241376, and the loss is: 866.632365607538\n",
      "When times is: 104, Get best_k: -6.819024557928472 best_b: 39.72376328241376, and the loss is: 827.1371812615987\n",
      "When times is: 105, Get best_k: -6.719024557928472 best_b: 39.823763282413765, and the loss is: 788.7131687831293\n",
      "When times is: 106, Get best_k: -6.619024557928473 best_b: 39.923763282413766, and the loss is: 751.3603281721311\n",
      "When times is: 107, Get best_k: -6.519024557928473 best_b: 40.02376328241377, and the loss is: 715.0786594286036\n",
      "When times is: 108, Get best_k: -6.4190245579284735 best_b: 40.12376328241377, and the loss is: 679.8681625525451\n",
      "When times is: 109, Get best_k: -6.319024557928474 best_b: 40.22376328241377, and the loss is: 645.7288375439567\n",
      "When times is: 110, Get best_k: -6.219024557928474 best_b: 40.32376328241377, and the loss is: 612.6606844028398\n",
      "When times is: 111, Get best_k: -6.1190245579284746 best_b: 40.42376328241377, and the loss is: 580.6637031291932\n",
      "When times is: 112, Get best_k: -6.019024557928475 best_b: 40.523763282413775, and the loss is: 549.737893723017\n",
      "When times is: 113, Get best_k: -5.919024557928475 best_b: 40.623763282413776, and the loss is: 519.8832561843103\n",
      "When times is: 114, Get best_k: -5.819024557928476 best_b: 40.72376328241378, and the loss is: 491.099790513074\n",
      "When times is: 115, Get best_k: -5.719024557928476 best_b: 40.82376328241378, and the loss is: 463.3874967093087\n",
      "When times is: 116, Get best_k: -5.619024557928476 best_b: 40.92376328241378, and the loss is: 436.7463747730138\n",
      "When times is: 117, Get best_k: -5.519024557928477 best_b: 41.02376328241378, and the loss is: 411.1764247041893\n",
      "When times is: 118, Get best_k: -5.419024557928477 best_b: 41.12376328241378, and the loss is: 386.67764650283425\n",
      "When times is: 119, Get best_k: -5.319024557928477 best_b: 41.223763282413785, and the loss is: 363.2500401689508\n",
      "When times is: 120, Get best_k: -5.219024557928478 best_b: 41.323763282413786, and the loss is: 340.8936057025366\n",
      "When times is: 121, Get best_k: -5.119024557928478 best_b: 41.42376328241379, and the loss is: 319.60834310359365\n",
      "When times is: 122, Get best_k: -5.0190245579284785 best_b: 41.52376328241379, and the loss is: 299.39425237212083\n",
      "When times is: 123, Get best_k: -4.919024557928479 best_b: 41.62376328241379, and the loss is: 280.2513335081181\n",
      "When times is: 124, Get best_k: -4.819024557928479 best_b: 41.72376328241379, and the loss is: 262.17958651158574\n",
      "When times is: 125, Get best_k: -4.7190245579284795 best_b: 41.82376328241379, and the loss is: 245.1790113825236\n",
      "When times is: 126, Get best_k: -4.61902455792848 best_b: 41.923763282413795, and the loss is: 229.24960812093198\n",
      "When times is: 127, Get best_k: -4.51902455792848 best_b: 42.023763282413796, and the loss is: 214.39137672681096\n",
      "When times is: 128, Get best_k: -4.419024557928481 best_b: 42.1237632824138, and the loss is: 200.60431720015978\n",
      "When times is: 129, Get best_k: -4.319024557928481 best_b: 42.2237632824138, and the loss is: 187.88842954097984\n",
      "When times is: 130, Get best_k: -4.219024557928481 best_b: 42.3237632824138, and the loss is: 176.24371374926912\n",
      "When times is: 131, Get best_k: -4.119024557928482 best_b: 42.4237632824138, and the loss is: 165.67016982502946\n",
      "When times is: 132, Get best_k: -4.019024557928482 best_b: 42.5237632824138, and the loss is: 156.16779776826007\n",
      "When times is: 133, Get best_k: -3.919024557928482 best_b: 42.623763282413805, and the loss is: 147.73659757896095\n",
      "When times is: 134, Get best_k: -3.819024557928482 best_b: 42.723763282413806, and the loss is: 140.37656925713225\n",
      "When times is: 135, Get best_k: -3.7190245579284817 best_b: 42.82376328241381, and the loss is: 134.08771280277367\n",
      "When times is: 136, Get best_k: -3.6190245579284817 best_b: 42.92376328241381, and the loss is: 128.87002821588564\n",
      "When times is: 137, Get best_k: -3.5190245579284816 best_b: 43.02376328241381, and the loss is: 124.72351549646785\n",
      "When times is: 138, Get best_k: -3.4190245579284815 best_b: 43.12376328241381, and the loss is: 121.64817464452052\n",
      "When times is: 139, Get best_k: -3.3190245579284814 best_b: 43.22376328241381, and the loss is: 119.64400566004348\n",
      "When times is: 140, Get best_k: -3.2190245579284813 best_b: 43.323763282413815, and the loss is: 118.71100854303697\n",
      "When times is: 146, Get best_k: -3.119024557928481 best_b: 43.22376328241381, and the loss is: 118.3735721068803\n"
     ]
    }
   ],
   "source": [
    "trying_times = 1000\n",
    "min_loss = float('inf')   #表示正无穷  float('-inf')即负无穷\n",
    "\n",
    "best_k = random.random() * 200 - 100\n",
    "best_b = random.random() * 200 - 100\n",
    "direction = [\n",
    "    (+1, -1), #first element: k's change direction,second element: b's change direction\n",
    "    (+1, +1),\n",
    "    (-1, -1),\n",
    "    (-1, +1),\n",
    "]\n",
    "\n",
    "next_direction = random.choice(direction)\n",
    "\n",
    "scalar = 0.1\n",
    "for i in range(trying_times):\n",
    "    k_direction, b_direction = next_direction\n",
    "    \n",
    "    current_k, current_b = best_k + k_direction * scalar, best_b + b_direction * scalar\n",
    "   \n",
    "    price_by_k_and_b = [price(r, current_k , current_b)for r in x_rm]\n",
    "    \n",
    "    current_loss = loss(y, price_by_k_and_b)\n",
    "    \n",
    "    if current_loss < min_loss:\n",
    "        min_loss = current_loss\n",
    "        best_k, best_b = current_k, current_b\n",
    "        \n",
    "        next_direction = next_direction\n",
    "        print('When times is: {}, Get best_k: {} best_b: {}, and the loss is: {}'.format(i, best_k, best_b, min_loss))\n",
    "    else:\n",
    "        next_direction = random.choice(list(set(direction)-{next_direction}))  # 如何每次都能让沿着变化方向走=>梯度\n",
    "        "
   ]
  },
  {
   "cell_type": "code",
   "execution_count": null,
   "metadata": {},
   "outputs": [],
   "source": []
  },
  {
   "cell_type": "code",
   "execution_count": null,
   "metadata": {},
   "outputs": [],
   "source": []
  },
  {
   "cell_type": "markdown",
   "metadata": {},
   "source": [
    "notes:\n",
    "1、Decision Problem决策过程（eg猴子拿香蕉、电子线路板）\n",
    "2、Map/Routing，Search Policy 搜索问题（高德地图、城市经纬度——数据预处理，\n",
    "!!正则表达式！\n",
    "画图：networkx；搜索过程：一个起始点，有哪些连接点，再扩展这些连接点，树状向下，尽可能宽（先横向再纵向）或长（先纵后横）的扩展 ）\n",
    "3、Breath First Search广度优先遍历；Depth \n",
    "4、闭环？队列，先出现的东西先出来？\n",
    "5、与NLP自然语言的联系：分词？识别语法句法？\n",
    "连接关系更重要，语言是信息的载体，这种用于信息，语言->推理\n",
    "\n",
    "\n",
    "作业Assign：1、北京地铁换乘=>网络爬虫+正则、数据处理、算法的应用能力\n",
    "爬虫5句话！！！！！\n",
    "\n",
    "本课程与NLP的关系：与传统的NLP（分词、识别语法句法等）联系不大，但可以用于：给定A，找与最接近的n个单词；或者语言的推理问题；这种连接关系最重要，语言是信息的载体，是要解决信息的问题\n",
    "\n",
    "Matematical or Analytic Based\n",
    "\n",
    "Machine Learning(deep learning)Based\n",
    "（1）函数—>解决问题\n",
    "以前：人们设计函数，生成什么样的函数\n",
    "现在：如何生成函数？（处理垃圾邮件的函数，基于前期数据）\n",
    "机器学习：根据数据生成函数，如可用概率模型、\n",
    "如何利用已有数据，生成函数，再来为我们做事；而概率模型考虑如何生成概率模型，得出结果；\n",
    "随机生成函数，衡量函数与实际贴合情况——损失值\n",
    "\n"
   ]
  },
  {
   "cell_type": "markdown",
   "metadata": {},
   "source": []
  },
  {
   "cell_type": "markdown",
   "metadata": {},
   "source": [
    "## 第三次课"
   ]
  },
  {
   "cell_type": "code",
   "execution_count": null,
   "metadata": {},
   "outputs": [],
   "source": [
    "trying_times = 2000\n",
    "\n",
    "min_loss = float('inf')\n",
    "\n",
    "best_k = random.random() * 200 - 100\n",
    "best_b = random.random() * 200 - 100\n",
    "\n",
    "direction = [\n",
    "    (+1, -1),  # first element: k's change direction, second element: b's change direction\n",
    "    (+1, +1), \n",
    "    (-1, -1), \n",
    "    (-1, +1),\n",
    "]\n",
    "\n",
    "next_direction = random.choice(direction)\n",
    "\n",
    "scalar = 0.1\n",
    "\n",
    "update_time = 0\n",
    "\n",
    "for i in range(trying_times):\n",
    "    \n",
    "    k_direction, b_direction = next_direction\n",
    "    \n",
    "    current_k, current_b = best_k + k_direction * scalar, best_b + b_direction * scalar\n",
    "    \n",
    "    price_by_k_and_b = [price(r, current_k, current_b) for r in x_rm]\n",
    "\n",
    "    current_loss = loss(y, price_by_k_and_b)\n",
    "    \n",
    "    if current_loss < min_loss: # performance became better\n",
    "        min_loss = current_loss\n",
    "        best_k, best_b = current_k, current_b\n",
    "        \n",
    "        next_direction = next_direction\n",
    "        update_time += 1\n",
    "        \n",
    "        if update_time % 10 == 0: \n",
    "            print('When time is : {}, get best_k: {} best_b: {}, and the loss is: {}'.format(i, best_k, best_b, min_loss))\n",
    "    else:\n",
    "        next_direction = random.choice(direction)"
   ]
  },
  {
   "cell_type": "markdown",
   "metadata": {},
   "source": [
    "如果我们想要得到更快的更新，在更短的时间内获得更好的结果，我们需要一件事情：\n",
    "### 找对改变的方向\n",
    "### 如何找对改变的方向呢？\n",
    "##### 2nd-method:监督让他变化->监督学习，（沿着对的方向走），a1\\a2\\a3\\a4\\a5....,变化空间很大\n",
    "##### 如果每次都能让沿着变化方向走？-->导数/梯度，让k、b沿着导数的反方向走（为正即要减小...），越接近峰值\n",
    "！！！！！实践、敲代码、解决问题；社区沟通，有问题交流，上课只是一个引子，重在交流。\n",
    "Supervise（教练）指导、监督学习\n",
    "学习速率"
   ]
  },
  {
   "cell_type": "markdown",
   "metadata": {},
   "source": [
    "## 导数"
   ]
  },
  {
   "cell_type": "code",
   "execution_count": 194,
   "metadata": {},
   "outputs": [],
   "source": [
    "def partial_k(x, y, y_hat):\n",
    "    n = len(y)\n",
    "\n",
    "    gradient = 0\n",
    "    \n",
    "    for x_i, y_i, y_hat_i in zip(list(x), list(y), list(y_hat)):\n",
    "        gradient += (y_i - y_hat_i) * x_i\n",
    "    \n",
    "    return -2 / n * gradient\n",
    "\n",
    "\n",
    "def partial_b(x, y, y_hat):\n",
    "    n = len(y)\n",
    "\n",
    "    gradient = 0\n",
    "    \n",
    "    for y_i, y_hat_i in zip(list(y), list(y_hat)):\n",
    "        gradient += (y_i - y_hat_i)\n",
    "    \n",
    "    return -2 / n * gradient"
   ]
  },
  {
   "cell_type": "code",
   "execution_count": null,
   "metadata": {},
   "outputs": [],
   "source": [
    "trying_times = 1000\n",
    "min_loss = float('inf')\n",
    "\n",
    "best_k = random.random() * 200 - 100\n",
    "best_b = random.random() * 200 - 100\n",
    "direction = [\n",
    "    (+1, -1), #first element: k's change direction,second element: b's change direction\n",
    "    (+1, +1),\n",
    "    (-1, -1),\n",
    "    (-1, +1),\n",
    "]\n",
    "\n",
    "next_direction = random.choice(direction)\n",
    "\n",
    "scalar = 0.1\n",
    "for i in range(trying_times):\n",
    "    k_direction, b_direction = next_direction\n",
    "    current_k, current_b = best_k + k_direction * scalar, best_b + b_direction * scalar\n",
    "   \n",
    "    price_by_k_and_b = [price(r, current_k , current_b)for r in x_rm]\n",
    "    current_loss = loss(y, price_by_k_and_b)\n",
    "    \n",
    "    if current_loss < min_loss:\n",
    "        min_loss = current_loss\n",
    "        best_k, best_b = current_k, current_b\n",
    "        \n",
    "        next_direction = next_direction\n",
    "        print('When times is: {}, Get best_k: {} best_b: {}, and the loss is: {}'.format(i, best_k, best_b, min_loss))\n",
    "    else:\n",
    "        next_direction = random.choice(list(set(direction)-{next_direction}))  # 如何每次都能让沿着变化方向走=>梯度"
   ]
  },
  {
   "cell_type": "markdown",
   "metadata": {},
   "source": [
    "### 上述函数重新写"
   ]
  },
  {
   "cell_type": "code",
   "execution_count": 205,
   "metadata": {},
   "outputs": [
    {
     "ename": "ModuleNotFoundError",
     "evalue": "No module named 'icecream'",
     "output_type": "error",
     "traceback": [
      "\u001b[1;31m---------------------------------------------------------------------------\u001b[0m",
      "\u001b[1;31mModuleNotFoundError\u001b[0m                       Traceback (most recent call last)",
      "\u001b[1;32m<ipython-input-205-58dadeb530cd>\u001b[0m in \u001b[0;36m<module>\u001b[1;34m\u001b[0m\n\u001b[1;32m----> 1\u001b[1;33m \u001b[1;32mfrom\u001b[0m \u001b[0micecream\u001b[0m \u001b[1;32mimport\u001b[0m \u001b[0mic\u001b[0m\u001b[1;33m\u001b[0m\u001b[1;33m\u001b[0m\u001b[0m\n\u001b[0m",
      "\u001b[1;31mModuleNotFoundError\u001b[0m: No module named 'icecream'"
     ]
    }
   ],
   "source": [
    "from icecream import ic"
   ]
  },
  {
   "cell_type": "markdown",
   "metadata": {},
   "source": [
    "### ！！！icecream模块？？"
   ]
  },
  {
   "cell_type": "code",
   "execution_count": 240,
   "metadata": {},
   "outputs": [
    {
     "name": "stderr",
     "output_type": "stream",
     "text": [
      "H:\\Anaconda3\\anzhuang\\lib\\site-packages\\ipykernel_launcher.py:2: DeprecationWarning: Calling np.sum(generator) is deprecated, and in the future will give a different result. Use np.sum(np.fromiter(generator)) or the python sum builtin instead.\n",
      "  \n"
     ]
    },
    {
     "name": "stdout",
     "output_type": "stream",
     "text": [
      "When time is : 0, get best_k: -42.95700825609532 best_b: -60.37614391698283, and the loss is: 125901.7914996786\n",
      "When time is : 50, get best_k: -24.4900785710382 best_b: -57.47094234773277, and the loss is: 55315.773613926875\n",
      "When time is : 100, get best_k: -12.252502025818016 best_b: -55.54502692621141, and the loss is: 24318.187518870927\n",
      "When time is : 150, get best_k: -4.143000140886291 best_b: -54.26806602257877, and the loss is: 10705.713098080327\n",
      "When time is : 200, get best_k: 1.2309046457822934 best_b: -53.421155104628355, and the loss is: 4727.8454110755965\n",
      "When time is : 250, get best_k: 4.791980915132579 best_b: -52.85923027325715, and the loss is: 2102.6867013152814\n",
      "When time is : 300, get best_k: 7.151729977634314 best_b: -52.48616042230854, and the loss is: 949.8575926136336\n",
      "When time is : 350, get best_k: 8.715382202447723 best_b: -52.23824128332889, and the loss is: 443.59651862239093\n",
      "When time is : 400, get best_k: 9.75147610171967 best_b: -52.07325724077204, and the loss is: 221.2733776218032\n",
      "When time is : 450, get best_k: 10.437967075622364 best_b: -51.96323280352228, and the loss is: 123.64051746595989\n",
      "When time is : 500, get best_k: 10.892782806845085 best_b: -51.889629141973984, and the loss is: 80.76492764711982\n",
      "When time is : 550, get best_k: 11.194071743431058 best_b: -51.84016092387611, and the loss is: 61.935788302159054\n",
      "When time is : 600, get best_k: 11.393621385924941 best_b: -51.80668689156621, and the loss is: 53.66655781334092\n",
      "When time is : 650, get best_k: 11.525750332837339 best_b: -51.78381198734346, and the loss is: 50.03467189817156\n",
      "When time is : 700, get best_k: 11.613200871232081 best_b: -51.767961008354725, and the loss is: 48.439258615221675\n",
      "When time is : 750, get best_k: 11.67104388521636 best_b: -51.75676473518328, and the loss is: 47.738154784296185\n",
      "When time is : 800, get best_k: 11.70926656504609 best_b: -51.74865313085855, and the loss is: 47.42978371895569\n",
      "When time is : 850, get best_k: 11.734487233076486 best_b: -51.74258576152309, and the loss is: 47.293879894308844\n",
      "When time is : 900, get best_k: 11.75109172653202 best_b: -51.73787315130002, and the loss is: 47.23371452934326\n",
      "When time is : 950, get best_k: 11.761986456905467 best_b: -51.73405839753766, and the loss is: 47.20680954182497\n",
      "When time is : 1000, get best_k: 11.769097448198798 best_b: -51.73083871946815, and the loss is: 47.19451084087346\n",
      "When time is : 1050, get best_k: 11.773701040140143 best_b: -51.72801346998521, and the loss is: 47.18862655225731\n",
      "When time is : 1100, get best_k: 11.776643038959834 best_b: -51.72544968403109, and the loss is: 47.18555924503517\n",
      "When time is : 1150, get best_k: 11.778483944470599 best_b: -51.72305924816329, and the loss is: 47.18372912084356\n",
      "When time is : 1200, get best_k: 11.779595189310726 best_b: -51.72078377125764, and the loss is: 47.182442417115055\n",
      "When time is : 1250, get best_k: 11.780222914872859 best_b: -51.71858455860901, and the loss is: 47.18139447058642\n",
      "When time is : 1300, get best_k: 11.780530234407527 best_b: -51.716435967957096, and the loss is: 47.18045148949773\n",
      "When time is : 1350, get best_k: 11.7806252399836 best_b: -51.71432100665031, and the loss is: 47.17955471967041\n",
      "When time is : 1400, get best_k: 11.780579562172042 best_b: -51.712228413969406, and the loss is: 47.178678359398916\n",
      "When time is : 1450, get best_k: 11.780440669197777 best_b: -51.710150727638414, and the loss is: 47.17781107793287\n",
      "When time is : 1500, get best_k: 11.780240017355379 best_b: -51.708083002538004, and the loss is: 47.17694789938769\n",
      "When time is : 1550, get best_k: 11.779998452135587 best_b: -51.70602196162101, and the loss is: 47.17608663859458\n",
      "When time is : 1600, get best_k: 11.779729787449837 best_b: -51.70396543324015, and the loss is: 47.17522633591679\n",
      "When time is : 1650, get best_k: 11.779443177514764 best_b: -51.70191197827586, and the loss is: 47.174366569905565\n",
      "When time is : 1700, get best_k: 11.77914468865527 best_b: -51.699860643040765, and the loss is: 47.173507155455454\n",
      "When time is : 1750, get best_k: 11.778838340908722 best_b: -51.69781079553424, and the loss is: 47.17264801125025\n",
      "When time is : 1800, get best_k: 11.7785267982764 best_b: -51.695762016931475, and the loss is: 47.171789101552264\n",
      "When time is : 1850, get best_k: 11.778211826140055 best_b: -51.693714029675164, and the loss is: 47.17093041063969\n",
      "When time is : 1900, get best_k: 11.77789459438326 best_b: -51.691666649823404, and the loss is: 47.170071931580445\n",
      "When time is : 1950, get best_k: 11.777575878264228 best_b: -51.6896197554713, and the loss is: 47.16921366130255\n"
     ]
    }
   ],
   "source": [
    "trying_times = 2000\n",
    "\n",
    "x, y = data['data'], data['target']\n",
    "\n",
    "min_loss = float('inf') \n",
    "\n",
    "current_k = random.random() * 200 - 100\n",
    "current_b = random.random() * 200 - 100\n",
    "\n",
    "learning_rate = 1e-04\n",
    "\n",
    "\n",
    "update_time = 0\n",
    "\n",
    "for i in range(trying_times):\n",
    "    \n",
    "    price_by_k_and_b = [price(r, current_k, current_b) for r in x_rm]\n",
    "    \n",
    "    current_loss = loss(y, price_by_k_and_b)\n",
    "\n",
    "    if current_loss < min_loss: # performance became better\n",
    "        min_loss = current_loss\n",
    "        \n",
    "        if i % 50 == 0: \n",
    "            print('When time is : {}, get best_k: {} best_b: {}, and the loss is: {}'.format(i, current_k, current_b, min_loss))\n",
    "\n",
    "    k_gradient = partial_k(x_rm, y, price_by_k_and_b)\n",
    "    \n",
    "    b_gradient = partial_b(x_rm, y, price_by_k_and_b)\n",
    "    \n",
    "    current_k = current_k + (-1 * k_gradient) * learning_rate\n",
    "\n",
    "    current_b = current_b + (-1 * b_gradient) * learning_rate"
   ]
  },
  {
   "cell_type": "code",
   "execution_count": 198,
   "metadata": {},
   "outputs": [
    {
     "data": {
      "text/plain": [
       "<matplotlib.collections.PathCollection at 0x88bcadb198>"
      ]
     },
     "execution_count": 198,
     "metadata": {},
     "output_type": "execute_result"
    },
    {
     "data": {
      "image/png": "[encoded data removed]",
      "text/plain": [
       "<Figure size 432x288 with 1 Axes>"
      ]
     },
     "metadata": {
      "needs_background": "light"
     },
     "output_type": "display_data"
    }
   ],
   "source": [
    "x_rm = x[:, 5]\n",
    "k = 13\n",
    "b = -60\n",
    "price_by_random_k_and_b = [price(r, k, b) for r in x_rm]\n",
    "\n",
    "draw_rm_and_price()\n",
    "plt.scatter(x_rm, price_by_random_k_and_b)"
   ]
  },
  {
   "cell_type": "code",
   "execution_count": null,
   "metadata": {},
   "outputs": [],
   "source": [
    "#简化成线性，模型的复杂度不够\n",
    "\n",
    "outliner 异常值、离群值\n",
    "初始化、欠拟合、过拟合"
   ]
  },
  {
   "cell_type": "code",
   "execution_count": 199,
   "metadata": {},
   "outputs": [
    {
     "name": "stderr",
     "output_type": "stream",
     "text": [
      "H:\\Anaconda3\\anzhuang\\lib\\site-packages\\ipykernel_launcher.py:2: DeprecationWarning: Calling np.sum(generator) is deprecated, and in the future will give a different result. Use np.sum(np.fromiter(generator)) or the python sum builtin instead.\n",
      "  \n"
     ]
    },
    {
     "data": {
      "text/plain": [
       "2.0"
      ]
     },
     "execution_count": 199,
     "metadata": {},
     "output_type": "execute_result"
    }
   ],
   "source": [
    "loss([1, 1, 1], [2, 2, 3])"
   ]
  },
  {
   "cell_type": "code",
   "execution_count": 28,
   "metadata": {},
   "outputs": [],
   "source": [
    "## locals()     桌面notebook容易覆盖"
   ]
  },
  {
   "cell_type": "code",
   "execution_count": 200,
   "metadata": {},
   "outputs": [],
   "source": [
    "#小玩意"
   ]
  },
  {
   "cell_type": "code",
   "execution_count": 201,
   "metadata": {},
   "outputs": [
    {
     "name": "stdout",
     "output_type": "stream",
     "text": [
      "R U ready?\n",
      "R U ready?\n",
      "R U ready?\n",
      "R U ready?\n",
      "R U ready?\n",
      "R U ready?\n",
      "R U ready?\n"
     ]
    },
    {
     "ename": "KeyboardInterrupt",
     "evalue": "",
     "output_type": "error",
     "traceback": [
      "\u001b[1;31m---------------------------------------------------------------------------\u001b[0m",
      "\u001b[1;31mKeyboardInterrupt\u001b[0m                         Traceback (most recent call last)",
      "\u001b[1;32m<ipython-input-201-52be3d084385>\u001b[0m in \u001b[0;36m<module>\u001b[1;34m\u001b[0m\n\u001b[0;32m      2\u001b[0m \u001b[1;32mfor\u001b[0m \u001b[0mi\u001b[0m \u001b[1;32min\u001b[0m \u001b[0mrange\u001b[0m\u001b[1;33m(\u001b[0m\u001b[1;36m100\u001b[0m\u001b[1;33m)\u001b[0m\u001b[1;33m:\u001b[0m\u001b[1;33m\u001b[0m\u001b[1;33m\u001b[0m\u001b[0m\n\u001b[0;32m      3\u001b[0m     \u001b[0mprint\u001b[0m\u001b[1;33m(\u001b[0m\u001b[1;34m'R U ready?'\u001b[0m\u001b[1;33m)\u001b[0m\u001b[1;33m\u001b[0m\u001b[1;33m\u001b[0m\u001b[0m\n\u001b[1;32m----> 4\u001b[1;33m     \u001b[0mtime\u001b[0m\u001b[1;33m.\u001b[0m\u001b[0msleep\u001b[0m\u001b[1;33m(\u001b[0m\u001b[1;36m1\u001b[0m\u001b[1;33m)\u001b[0m\u001b[1;33m\u001b[0m\u001b[1;33m\u001b[0m\u001b[0m\n\u001b[0m",
      "\u001b[1;31mKeyboardInterrupt\u001b[0m: "
     ]
    }
   ],
   "source": [
    "import time\n",
    "for i in range(100):\n",
    "    print('R U ready?')\n",
    "    time.sleep(1)"
   ]
  },
  {
   "cell_type": "code",
   "execution_count": null,
   "metadata": {},
   "outputs": [],
   "source": []
  },
  {
   "cell_type": "code",
   "execution_count": null,
   "metadata": {},
   "outputs": [],
   "source": []
  }
 ],
 "metadata": {
  "kernelspec": {
   "display_name": "Python 3",
   "language": "python",
   "name": "python3"
  },
  "language_info": {
   "codemirror_mode": {
    "name": "ipython",
    "version": 3
   },
   "file_extension": ".py",
   "mimetype": "text/x-python",
   "name": "python",
   "nbconvert_exporter": "python",
   "pygments_lexer": "ipython3",
   "version": "3.7.3"
  }
 },
 "nbformat": 4,
 "nbformat_minor": 2
}
