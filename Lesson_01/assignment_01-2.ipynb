{
 "cells": [
  {
   "cell_type": "code",
   "execution_count": 1,
   "metadata": {},
   "outputs": [],
   "source": [
    "from collections import defaultdict"
   ]
  },
  {
   "cell_type": "code",
   "execution_count": 2,
   "metadata": {},
   "outputs": [],
   "source": [
    "import jieba"
   ]
  },
  {
   "cell_type": "code",
   "execution_count": 3,
   "metadata": {},
   "outputs": [],
   "source": [
    "#jieba分词"
   ]
  },
  {
   "cell_type": "code",
   "execution_count": 4,
   "metadata": {},
   "outputs": [],
   "source": [
    "def cut(string):return list(jieba.cut(string))"
   ]
  },
  {
   "cell_type": "code",
   "execution_count": 5,
   "metadata": {},
   "outputs": [],
   "source": [
    "def is_variable(pat):\n",
    "    return pat.startswith('?') and all(s.isalpha() for s in pat[1:])"
   ]
  },
  {
   "cell_type": "code",
   "execution_count": 6,
   "metadata": {},
   "outputs": [],
   "source": [
    "def pat_match(pattern, saying):\n",
    "    if not pattern or not saying:return[]\n",
    "    \n",
    "    if is_variable(pattern[0]):\n",
    "        return [(pattern[0], saying[0])] + pat_match(pattern[1:], saying[1:])\n",
    "    else:\n",
    "        if pattern[0] != saying[0]: return[]\n",
    "        else:\n",
    "            return pat_match(pattern[1:], saying[1:])"
   ]
  },
  {
   "cell_type": "code",
   "execution_count": 59,
   "metadata": {},
   "outputs": [],
   "source": [
    "def pat_to_dict(patterns):\n",
    "    return {k: ' '.join(v) if isinstance(v, list) else v for k, v in patterns}"
   ]
  },
  {
   "cell_type": "code",
   "execution_count": 8,
   "metadata": {},
   "outputs": [],
   "source": [
    "def subsitite(rule, parsed_rules):\n",
    "    if not rule: return []    \n",
    "    \n",
    "    return [parsed_rules.get(rule[0], rule[0])] + subsitite(rule[1:], parsed_rules) "
   ]
  },
  {
   "cell_type": "code",
   "execution_count": 9,
   "metadata": {},
   "outputs": [],
   "source": [
    "got_patterns = pat_match(\"I want ?X\".split(), \"I want iPhone\".split())"
   ]
  },
  {
   "cell_type": "code",
   "execution_count": 10,
   "metadata": {},
   "outputs": [],
   "source": [
    "dic = pat_to_dict(got_patterns)"
   ]
  },
  {
   "cell_type": "code",
   "execution_count": 11,
   "metadata": {},
   "outputs": [],
   "source": [
    "rule = \"What if you mean if you got a ?X\".split()\n",
    "#subsitite(\"What if you mean if you got a ?X\".split(), pat_to_dict(got_patterns))"
   ]
  },
  {
   "cell_type": "code",
   "execution_count": 77,
   "metadata": {},
   "outputs": [],
   "source": [
    "def is_pattern_segment(pattern):\n",
    "    return pattern.startswith('?*') and all(a.isalpha() for a in pattern[2:])"
   ]
  },
  {
   "cell_type": "code",
   "execution_count": 78,
   "metadata": {},
   "outputs": [
    {
     "data": {
      "text/plain": [
       "True"
      ]
     },
     "execution_count": 78,
     "metadata": {},
     "output_type": "execute_result"
    }
   ],
   "source": [
    "is_pattern_segment('?*P')"
   ]
  },
  {
   "cell_type": "code",
   "execution_count": 79,
   "metadata": {},
   "outputs": [],
   "source": [
    "from collections import defaultdict"
   ]
  },
  {
   "cell_type": "code",
   "execution_count": 80,
   "metadata": {},
   "outputs": [],
   "source": [
    "fail = [True, None]\n",
    "\n",
    "def pat_match_with_seg(pattern, saying):\n",
    "    if not pattern or not saying: return []\n",
    "    \n",
    "    pat = pattern[0]\n",
    "    \n",
    "    if is_variable(pat):\n",
    "        return [(pat, saying[0])] + pat_match_with_seg(pattern[1:], saying[1:])\n",
    "    elif is_pattern_segment(pat):\n",
    "        match, index = segment_match(pattern, saying)\n",
    "        return [match] + pat_match_with_seg(pattern[1:], saying[index:])\n",
    "    elif pat == saying[0]:\n",
    "        return pat_match_with_seg(pattern[1:], saying[1:])\n",
    "    else:\n",
    "        return fail"
   ]
  },
  {
   "cell_type": "code",
   "execution_count": 81,
   "metadata": {},
   "outputs": [],
   "source": [
    "def segment_match(pattern, saying):\n",
    "    seg_pat, rest = pattern[0], pattern[1:]\n",
    "    seg_pat = seg_pat.replace('?*', '?')\n",
    "\n",
    "    if not rest: return (seg_pat, saying), len(saying)    \n",
    "    \n",
    "    for i, token in enumerate(saying):\n",
    "        if rest[0] == token and is_match(rest[1:], saying[(i + 1):]):\n",
    "            return (seg_pat, saying[:i]), i\n",
    "    \n",
    "    return (seg_pat, saying), len(saying)\n",
    "\n",
    "def is_match(rest, saying):\n",
    "    if not rest and not saying:    #没有输入参数时\n",
    "        return True\n",
    "    if not all(a.isalpha() for a in rest[0]):   #rest第一项不全是字母\n",
    "        return True\n",
    "    #print(rest)\n",
    "    if rest[0] != saying[0]:\n",
    "        return False\n",
    "    return is_match(rest[1:], saying[1:])  #匹配余下内容"
   ]
  },
  {
   "cell_type": "code",
   "execution_count": 82,
   "metadata": {},
   "outputs": [
    {
     "data": {
      "text/plain": [
       "(('?P', ['My', 'dog', 'and', 'my', 'cat']), 5)"
      ]
     },
     "execution_count": 82,
     "metadata": {},
     "output_type": "execute_result"
    }
   ],
   "source": [
    "segment_match('?*P is very good'.split(), \"My dog and my cat is very good\".split())"
   ]
  },
  {
   "cell_type": "code",
   "execution_count": 83,
   "metadata": {},
   "outputs": [
    {
     "data": {
      "text/plain": [
       "[('?P', ['My', 'dog']), ('?X', ['my', 'cat', 'is', 'very', 'cute'])]"
      ]
     },
     "execution_count": 83,
     "metadata": {},
     "output_type": "execute_result"
    }
   ],
   "source": [
    "pat_match_with_seg('?*P is very good and ?*X'.split(), \"My dog is very good and my cat is very cute\".split())"
   ]
  },
  {
   "cell_type": "code",
   "execution_count": 123,
   "metadata": {},
   "outputs": [],
   "source": [
    "response_pair = { \"?*X hello ?*Y\": [\"Hi, how do you do?\"],\n",
    "     \"I was ?*X\": [\"Were you really ?X ?\", \"I already knew you were ?X .\"],\n",
    "    'I need ?X': [ \"Why do you neeed ?X\" ],\n",
    "    \"I dont like my ?X\": [\"What bad things did ?X do for you?\"]\n",
    "}"
   ]
  },
  {
   "cell_type": "code",
   "execution_count": 97,
   "metadata": {},
   "outputs": [],
   "source": [
    "match = pat_match_with_seg('I need ?*X'.split(), \n",
    "                  \"I need an iPhone\".split())"
   ]
  },
  {
   "cell_type": "code",
   "execution_count": 98,
   "metadata": {},
   "outputs": [
    {
     "name": "stdout",
     "output_type": "stream",
     "text": [
      "[('?X', ['an', 'iPhone'])]\n"
     ]
    }
   ],
   "source": [
    "print(match)"
   ]
  },
  {
   "cell_type": "code",
   "execution_count": 99,
   "metadata": {},
   "outputs": [
    {
     "name": "stdout",
     "output_type": "stream",
     "text": [
      "------------\n"
     ]
    }
   ],
   "source": [
    "print('------------')"
   ]
  },
  {
   "cell_type": "code",
   "execution_count": 100,
   "metadata": {},
   "outputs": [
    {
     "data": {
      "text/plain": [
       "['Why', 'do', 'you', 'neeed', 'an iPhone']"
      ]
     },
     "execution_count": 100,
     "metadata": {},
     "output_type": "execute_result"
    }
   ],
   "source": [
    "subsitite(\"Why do you neeed ?X\".split(), pat_to_dict(pat_match_with_seg('I need ?*X'.split(),\"I need an iPhone\".split())))"
   ]
  },
  {
   "cell_type": "code",
   "execution_count": 101,
   "metadata": {},
   "outputs": [
    {
     "data": {
      "text/plain": [
       "'Why do you neeed an iPhone'"
      ]
     },
     "execution_count": 101,
     "metadata": {},
     "output_type": "execute_result"
    }
   ],
   "source": [
    "' '.join(subsitite(\"Why do you neeed ?X\".split(), pat_to_dict(pat_match_with_seg('I need ?*X'.split(), \n",
    "                  \"I need an iPhone\".split()))))"
   ]
  },
  {
   "cell_type": "code",
   "execution_count": 102,
   "metadata": {},
   "outputs": [
    {
     "data": {
      "text/plain": [
       "'Hi, how do you do? I am mike, hello Bruce'"
      ]
     },
     "execution_count": 102,
     "metadata": {},
     "output_type": "execute_result"
    }
   ],
   "source": [
    "' '.join(subsitite(\"Hi, how do you do? ?X hello ?Y\".split(), pat_to_dict(pat_match_with_seg('?*X hello ?*Y'.split(), \n",
    "                  \"I am mike, hello Bruce\".split()))))"
   ]
  },
  {
   "cell_type": "code",
   "execution_count": 103,
   "metadata": {},
   "outputs": [],
   "source": [
    "s = pat_to_dict(pat_match_with_seg('?*X hello ?*Y'.split(), \n",
    "                  \"I am mike, hello Bruce\".split()))"
   ]
  },
  {
   "cell_type": "code",
   "execution_count": 104,
   "metadata": {},
   "outputs": [],
   "source": [
    "#print(s)"
   ]
  },
  {
   "cell_type": "code",
   "execution_count": 124,
   "metadata": {},
   "outputs": [],
   "source": [
    "def get_response(saying, rules):\n",
    "    \"\"\"\" please implement the code, to get the response as followings:\n",
    "    \n",
    "    >>> get_response('I need iPhone') \n",
    "    >>> Image you will get iPhone soon\n",
    "    >>> get_response(\"My mother told me something\")\n",
    "    >>> Talk about more about your monther.\n",
    "    \"\"\"\n",
    "    print(\"A:\" + saying)\n",
    "    for key in rules.keys():               \n",
    "#dict.keys()此方法返回字典中所有可用键的列表;dict = {'Name': 'Maxsu', 'Age': 27}\n",
    "#  print (\"Value : %s\" %  dict.keys())当运行上面的程序，它产生以下结果 Value : dict_keys(['Age', 'Name'])\n",
    "        match_res = pat_match_with_seg(key.split(),saying.split())\n",
    "        #print(match_res)\n",
    "        if match_res == fail:\n",
    "            continue\n",
    "        \n",
    "        match_dic = pat_to_dict(match_res)\n",
    "        #print(match_dic)\n",
    "        keyReplace = ''.join(subsitite(key.split(),match_dic))\n",
    "        if keyReplace.replace(' ','') != saying.replace(' ',''):   \n",
    "            continue\n",
    "        temDic = {}\n",
    "        for k,v in match_dic.items():\n",
    "            if is_pattern_segment(k) :k = k.replace('?*','?')\n",
    "            temDic[k] = v\n",
    "        \n",
    "        result =  \" \".join(subsitite(' '.join(rules[key]).split(),temDic))\n",
    "        print(\"B:\"+ result + '\\n')\n",
    "        return result\n",
    "    \n",
    "    \n",
    "       #Python replace() 方法把字符串中的 old（旧字符串） 替换成 new(新字符串)，如果指定第三个参数max，则替换不超过 max 次\n",
    "#str.replace(old, new[, max])\n",
    "# str = \"this is string example....wow!!! this is really string\";\n",
    "#如：print str.replace(\"is\", \"was\");\n",
    "#   print str.replace(\"is\", \"was\", 3);\n",
    "# Output:   thwas was string example....wow!!! thwas was really string\n",
    "#           thwas was string example....wow!!! thwas is really string"
   ]
  },
  {
   "cell_type": "code",
   "execution_count": 125,
   "metadata": {},
   "outputs": [
    {
     "name": "stdout",
     "output_type": "stream",
     "text": [
      "A:I need money\n",
      "B:Why do you neeed money\n",
      "\n",
      "A:I dont like my dog\n",
      "B:What bad things did dog do for you?\n",
      "\n",
      "A:I was late\n",
      "A:I am hellen\n",
      "A:I want to go shopping again\n"
     ]
    }
   ],
   "source": [
    "get_response('I need money',response_pair)\n",
    "get_response('I dont like my dog',response_pair)\n",
    "get_response('I was late',response_pair)\n",
    "get_response('I am hellen',response_pair)\n",
    "get_response('I want to go shopping again',response_pair)   ###结果有误？？？-------???????"
   ]
  },
  {
   "cell_type": "code",
   "execution_count": 126,
   "metadata": {},
   "outputs": [
    {
     "name": "stderr",
     "output_type": "stream",
     "text": [
      "Building prefix dict from the default dictionary ...\n",
      "Loading model from cache C:\\Users\\Lee\\AppData\\Local\\Temp\\jieba.cache\n",
      "Loading model cost 1.040 seconds.\n",
      "Prefix dict has been built succesfully.\n"
     ]
    },
    {
     "name": "stdout",
     "output_type": "stream",
     "text": [
      "A:刘敏我想减肥\n",
      "A:亲爱的你好呀\n",
      "A:刘敏讨厌回家\n",
      "A:我对不起父母\n",
      "A:我喜欢他\n"
     ]
    }
   ],
   "source": [
    "arr = cut('?*x我想?*y')\n",
    "#print(len(arr))\n",
    "\n",
    "def splitChinese(saying):\n",
    "    sayingList = cut(saying)\n",
    "    temArr = []\n",
    "    #print(sayingList)\n",
    "    i = 0\n",
    "    for v in sayingList:\n",
    "        if sayingList[i] == '?' and (i+ 2) < len(sayingList) and sayingList[i+ 1] == '*' and sayingList[i + 2].isalpha():\n",
    "            temArr.append('?*' + sayingList[i + 2])\n",
    "            i = i + 2\n",
    "        else: \n",
    "             if sayingList[i] == '?' and (i+ 1) < len(sayingList) and sayingList[i + 1].isalpha():\n",
    "                temArr.append('?' + sayingList[i + 1])\n",
    "                i = i + 1\n",
    "             else:\n",
    "                temArr.append(sayingList[i])\n",
    "        i = i + 1\n",
    "        if i >= len(sayingList):\n",
    "            break\n",
    "    return temArr\n",
    "arrB = cut(\"刘敏我想赵晗\");\n",
    "rules = {\n",
    "    '?*x你好?*y': ['你好呀', '请告诉我你的问题'],\n",
    "    '?*x我想?*y': ['你觉得?y有什么意义呢？'],\n",
    "    '?*x喜欢?*y': ['喜欢?y的哪里？', '?y有什么好的呢？', '你想要?y吗？'],\n",
    "    '?*x讨厌?*y': ['?y怎么会那么讨厌呢?', '讨厌?y的哪里？', '?y有什么不好呢？', '你不想要?y吗？'],\n",
    "    '?*xAI?*y': ['你为什么要提AI的事情？', '你为什么觉得AI要解决你的问题？'],\n",
    "    '?*x机器人?*y': ['你为什么要提机器人的事情？', '你为什么觉得机器人要解决你的问题？'],\n",
    "    '?*x对不起?*y': ['不用道歉', '你为什么觉得你需要道歉呢?']\n",
    "    \n",
    "\n",
    "}\n",
    "match = pat_match_with_seg(splitChinese('?*x我想?*y'), arrB)  \n",
    "#print(match)\n",
    "match =\"\".join(subsitite(splitChinese('?*x我想?*y'), pat_to_dict(match)))\n",
    "#print(match)\n",
    "\n",
    "def get_response_zh_cn(saying ,pattern):\n",
    "    print(\"A:\" + saying)\n",
    "    for key in pattern.keys():\n",
    "        keyArr = splitChinese(key)\n",
    "        match_res = pat_match_with_seg(keyArr,cut(saying))\n",
    "        #print(match_res)\n",
    "        if match_res == fail:\n",
    "            continue\n",
    "        match_dic =  pat_to_dict(match_res)\n",
    "        #print(match_dic)\n",
    "        keyReplace = ''.join(subsitite(keyArr,match_dic))\n",
    "        if keyReplace.replace(' ','') != saying.replace(' ',''):\n",
    "            continue\n",
    "        temDic = {}\n",
    "        for k,v in match_dic.items():\n",
    "            if is_pattern_segment(k) :k = k.replace('?*','?')\n",
    "            temDic[k] = v\n",
    "        #print(temDic)\n",
    "        result =  \"\".join(subsitite(splitChinese(''.join(pattern[key])),temDic))\n",
    "        print(\"B:\"+ result + '\\n')\n",
    "        return result\n",
    "\n",
    "get_response_zh_cn(\"刘敏我想减肥\",rules)\n",
    "\n",
    "get_response_zh_cn(\"亲爱的你好呀\",rules)\n",
    "get_response_zh_cn(\"刘敏讨厌回家\",rules)\n",
    "get_response_zh_cn(\"我对不起父母\",rules)\n",
    "get_response_zh_cn(\"我喜欢他\",rules)\n",
    "\n",
    "#print(splitChinese(''.join(['?y怎么会那么讨厌呢?', '讨厌?y的哪里？', '?y有什么不好呢？', '你不想要?y吗？'])))"
   ]
  },
  {
   "cell_type": "code",
   "execution_count": null,
   "metadata": {},
   "outputs": [],
   "source": []
  }
 ],
 "metadata": {
  "kernelspec": {
   "display_name": "Python 3",
   "language": "python",
   "name": "python3"
  },
  "language_info": {
   "codemirror_mode": {
    "name": "ipython",
    "version": 3
   },
   "file_extension": ".py",
   "mimetype": "text/x-python",
   "name": "python",
   "nbconvert_exporter": "python",
   "pygments_lexer": "ipython3",
   "version": "3.7.3"
  }
 },
 "nbformat": 4,
 "nbformat_minor": 2
}
