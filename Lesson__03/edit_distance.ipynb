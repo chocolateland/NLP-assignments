{
 "cells": [
  {
   "cell_type": "markdown",
   "metadata": {},
   "source": [
    "### Part 2: change loss function from $loss = \\frac{1}{n}\\sum{(y_i - \\hat(y_i))^2}$ to $loss = \\frac{1}{n}\\sum{|y_i - \\hat{y_i}|}$, and using your mathmatical knowledge to get the right partial formual. Implemen the gradient descent code."
   ]
  },
  {
   "cell_type": "code",
   "execution_count": 133,
   "metadata": {},
   "outputs": [],
   "source": [
    "from sklearn.datasets import load_boston\n",
    "from matplotlib import pyplot as plt\n",
    "import pandas as pd\n",
    "import numpy as np\n",
    "from tqdm import tqdm\n",
    "import random\n",
    "from collections import defaultdict\n",
    "import math\n",
    "import time\n",
    "import heapq as hq\n",
    "%matplotlib inline"
   ]
  },
  {
   "cell_type": "code",
   "execution_count": 155,
   "metadata": {},
   "outputs": [],
   "source": [
    "data = load_boston()\n",
    "X, y = data['data'], data['target']"
   ]
  },
  {
   "cell_type": "code",
   "execution_count": 156,
   "metadata": {},
   "outputs": [],
   "source": [
    "def get_prices(k, b, x):\n",
    "    return np.dot(x, k) + b\n",
    "\n",
    "def get_loss(y, y_hat): # to evaluate the performance \n",
    "    return sum(abs(y_i - y_hat_i) for y_i, y_hat_i in zip(list(y), list(y_hat))) / len(list(y))\n",
    "\n",
    "def partial_k(x, y, y_hat):\n",
    "    n = len(y)\n",
    "    gradient = 0\n",
    "    for x, y, y_hat in zip(list(x), list(y), list(y_hat)):\n",
    "        if y > y_hat:\n",
    "            gradient += x/n\n",
    "        elif y < y_hat:\n",
    "            gradient -= x/n\n",
    "    return -gradient\n",
    "\n",
    "def partial_b(x, y, y_hat):\n",
    "    n = len(y)\n",
    "    gradient = 0\n",
    "    for x, y, y_hat in zip(list(x), list(y), list(y_hat)):\n",
    "        if y > y_hat:\n",
    "            gradient += 1/n\n",
    "        elif y < y_hat:\n",
    "            gradient -= 1/n\n",
    "    \n",
    "    return -gradient"
   ]
  },
  {
   "cell_type": "code",
   "execution_count": 175,
   "metadata": {},
   "outputs": [],
   "source": [
    "def train_by_gradient_descend(trying_times, learning_rate):\n",
    "\n",
    "    k = best_supervised_k = [random.random() * 200 - 100 for i in range(13)]   #Why??\n",
    "    b = best_supervised_b = random.random() * 200 - 100\n",
    "\n",
    "    min_loss = float('inf') \n",
    "\n",
    "    for i in range(trying_times):\n",
    "        y_hat = get_prices(k, b, X)\n",
    "        k -= partial_k(X, y, y_hat) * learning_rate\n",
    "        b -= partial_b(X, y, y_hat) * learning_rate\n",
    "        loss = get_loss(y, y_hat)\n",
    "        if i % 5000 == 0:\n",
    "            print(loss)\n",
    "        if loss < min_loss:\n",
    "            min_loss = loss\n",
    "            best_directed_k = k\n",
    "            best_directed_b = b\n",
    "            if i % 50 == 0: \n",
    "                print('When time is : {}, get best_k: {} best_b: {}, and the loss is: {}'.format(i, best_directed_k, best_directed_b, min_loss))\n",
    "    "
   ]
  },
  {
   "cell_type": "code",
   "execution_count": 177,
   "metadata": {},
   "outputs": [
    {
     "name": "stdout",
     "output_type": "stream",
     "text": [
      "7035.09914848253\n",
      "When time is : 0, get best_k: [-67.08355173 -51.99449125  20.71442417  94.10192458  20.37826749\n",
      " -62.30188403 -96.43973009  84.26127783 -20.39227809  -2.52347789\n",
      "  59.20166413   9.26367348  -3.74728826] best_b: 70.00012692214668, and the loss is: 7035.09914848253\n",
      "When time is : 50, get best_k: [-66.13207012 -52.41490627  21.63962733  94.10789296  20.40792438\n",
      " -62.15581834 -86.94951665  84.01262563 -19.9856773    9.62719405\n",
      "  59.51747045   5.2074719   -2.35639261] best_b: 70.02269609210717, and the loss is: 1618.7295343651156\n",
      "When time is : 100, get best_k: [-65.45805744 -51.75423434  22.13148069  94.11480996  20.43077701\n",
      " -61.98736103 -78.64231507  83.86838079 -20.24733738   8.65094899\n",
      "  59.76234002   4.44112487  -1.30842462] best_b: 70.04593719882654, and the loss is: 1474.6771825697897\n",
      "When time is : 150, get best_k: [-64.74924032 -50.87913552  22.61241705  94.12172696  20.4529241\n",
      " -61.8241951  -70.49884076  83.72429614 -20.49646781   7.78201618\n",
      "  59.98565622   3.94480906  -0.25589498] best_b: 70.06807158617832, and the loss is: 1332.4216159124062\n",
      "When time is : 200, get best_k: [-64.03817147 -49.35087465  23.03378385  94.12864395  20.47392748\n",
      " -61.65679091 -62.83263127  83.61230851 -20.76065754   6.99320195\n",
      "  60.18246255   3.54376834   0.73124455] best_b: 70.08992929368821, and the loss is: 1208.1892526845966\n",
      "When time is : 3500, get best_k: [-4.56944869e+01 -1.42754596e+01  2.17192771e+01  9.41855214e+01\n",
      "  2.05653420e+01 -6.08374349e+01 -9.61763918e+00  8.23413197e+01\n",
      " -1.87821990e+01  4.12557349e+00  5.78130040e+01 -2.98391655e-02\n",
      "  2.90363071e+00] best_b: 70.10668818696514, and the loss is: 1097.5063443238537\n",
      "When time is : 4150, get best_k: [-4.28294977e+01 -1.42754596e+01  2.16726084e+01  9.41855214e+01\n",
      "  2.05600511e+01 -6.09461682e+01 -8.92027949e+00  8.21999683e+01\n",
      " -1.85134639e+01  4.01798456e+00  5.74449606e+01  6.85098464e-02\n",
      "  2.74231214e+00] best_b: 70.08736012372178, and the loss is: 1056.2408810526495\n",
      "When time is : 4250, get best_k: [-4.23886130e+01 -1.42754596e+01  2.16655708e+01  9.41855214e+01\n",
      "  2.05592402e+01 -6.09628524e+01 -8.81279728e+00  8.21782376e+01\n",
      " -1.84719619e+01  4.00632448e+00  5.73885179e+01  8.46197278e-02\n",
      "  2.71765996e+00] best_b: 70.08439569684396, and the loss is: 1047.571292413775\n",
      "1062.5196327703957\n",
      "When time is : 5200, get best_k: [-39.27590957 -14.27545963  21.6519218   94.18552142  20.55491897\n",
      " -61.06337605  -8.48084076  82.03960542 -18.18338481   3.94233239\n",
      "  57.03089338   0.13321459   2.72841569] best_b: 70.06637198143162, and the loss is: 1036.6537870040227\n",
      "When time is : 7100, get best_k: [-35.3079081  -14.27545963  21.63799057  94.18552142  20.54631534\n",
      " -61.24845597  -8.42173799  81.81306724 -17.6312109    3.90422962\n",
      "  56.36045859   0.24268376   2.65832558] best_b: 70.03277514348636, and the loss is: 1027.1652996149217\n",
      "1062.3089880737161\n",
      "1062.3089880737161\n",
      "1062.3089880737161\n",
      "1062.3089880737161\n",
      "1062.3089880737161\n",
      "1062.3089880737161\n",
      "1062.3089880737161\n",
      "1062.3089880737161\n",
      "1062.3089880737161\n",
      "1062.3089880737161\n",
      "1062.3089880737161\n",
      "1062.3089880737161\n",
      "1062.3089880737161\n",
      "1062.3089880737161\n",
      "1062.3089880737161\n",
      "1062.3089880737161\n",
      "1062.3089880737161\n",
      "1062.3089880737161\n"
     ]
    }
   ],
   "source": [
    "train_by_gradient_descend(100000, 0.01)"
   ]
  },
  {
   "cell_type": "code",
   "execution_count": null,
   "metadata": {},
   "outputs": [],
   "source": []
  },
  {
   "cell_type": "code",
   "execution_count": null,
   "metadata": {},
   "outputs": [],
   "source": []
  },
  {
   "cell_type": "code",
   "execution_count": null,
   "metadata": {},
   "outputs": [],
   "source": []
  },
  {
   "cell_type": "code",
   "execution_count": null,
   "metadata": {},
   "outputs": [],
   "source": [
    "def partial_k(x, y, y_hat):\n",
    "    n = len(y)\n",
    "    gradient = 0\n",
    "    for x, y, y_hat in zip(list(x), list(y), list(y_hat)):\n",
    "        if y > y_hat:\n",
    "            gradient += x/n\n",
    "        elif y < y_hat:\n",
    "            gradient -= x/n\n",
    "    return -gradient\n",
    "\n",
    "def partial_b(x, y, y_hat):\n",
    "    n = len(y)\n",
    "    gradient = 0\n",
    "    for x, y, y_hat in zip(list(x), list(y), list(y_hat)):\n",
    "        if y > y_hat:\n",
    "            gradient += 1/n\n",
    "        elif y < y_hat:\n",
    "            gradient -= 1/n\n",
    "    \n",
    "    return -gradient"
   ]
  },
  {
   "cell_type": "code",
   "execution_count": null,
   "metadata": {},
   "outputs": [],
   "source": []
  },
  {
   "cell_type": "code",
   "execution_count": null,
   "metadata": {},
   "outputs": [],
   "source": []
  },
  {
   "cell_type": "code",
   "execution_count": null,
   "metadata": {},
   "outputs": [],
   "source": []
  },
  {
   "cell_type": "markdown",
   "metadata": {},
   "source": [
    "### Part 3: Finish the Solution Parse Part of Edit-Distance"
   ]
  },
  {
   "cell_type": "code",
   "execution_count": 46,
   "metadata": {},
   "outputs": [],
   "source": [
    "solution = {}"
   ]
  },
  {
   "cell_type": "code",
   "execution_count": 47,
   "metadata": {},
   "outputs": [],
   "source": [
    "from functools import lru_cache"
   ]
  },
  {
   "cell_type": "code",
   "execution_count": 38,
   "metadata": {},
   "outputs": [],
   "source": [
    "@lru_cache(maxsize=2**10)\n",
    "def edit_distance(string1, string2):\n",
    "    \n",
    "    if len(string1) == 0: return len(string2)\n",
    "    if len(string2) == 0: return len(string1)\n",
    "    \n",
    "    tail_s1 = string1[-1]\n",
    "    tail_s2 = string2[-1]\n",
    "    \n",
    "    candidates = [\n",
    "        (edit_distance(string1[:-1], string2) + 1, 'DEL {}'.format(tail_s1)),  # string 1 delete tail\n",
    "        (edit_distance(string1, string2[:-1]) + 1, 'ADD {}'.format(tail_s2)),  # string 1 add tail of string2\n",
    "    ]\n",
    "    \n",
    "    if tail_s1 == tail_s2:\n",
    "        both_forward = (edit_distance(string1[:-1], string2[:-1]) + 0, '')\n",
    "    else:\n",
    "        both_forward = (edit_distance(string1[:-1], string2[:-1]) + 1, 'SUB {} => {}'.format(tail_s1, tail_s2))\n",
    "\n",
    "    candidates.append(both_forward)\n",
    "    \n",
    "    min_distance, operation = min(candidates, key=lambda x: x[0])\n",
    "    \n",
    "    solution[(string1, string2)] = operation \n",
    "    \n",
    "    return min_distance"
   ]
  },
  {
   "cell_type": "code",
   "execution_count": 62,
   "metadata": {},
   "outputs": [],
   "source": [
    "def edit_distance(string1, string2):\n",
    "    global solution\n",
    "    if len(string1) == 0: return len(string2)\n",
    "    if len(string2) == 0: return len(string1)\n",
    "\n",
    "    tail_s1 = string1[-1]\n",
    "    tail_s2 = string2[-1]\n",
    "    a = (edit_distance(string1[:-1], string2) + 1, 'DEL {}'.format(tail_s1))               # 删除\n",
    "    b = (edit_distance(string1, string2[:-1]) + 1, 'ADD {}'.format(tail_s2))               #插入\n",
    "    candidates = [\n",
    "        a,  # string 1 delete tail\n",
    "        b,  # string 1 add tail of string2\n",
    "    ]\n",
    "\n",
    "    if tail_s1 == tail_s2:\n",
    "        c = edit_distance(string1[:-1], string2[:-1]) + 0\n",
    "        both_forward = (c, '')\n",
    "    else:\n",
    "        d = edit_distance(string1[:-1], string2[:-1]) + 1\n",
    "        both_forward = (d, 'SUB {} => {}'.format(tail_s1, tail_s2))\n",
    "\n",
    "    candidates.append(both_forward)\n",
    "\n",
    "    min_distance, operation = min(candidates, key=lambda x: x[0])\n",
    "    \n",
    "    #print(sorted(candidates, key=lambda x: x[0]))\n",
    "\n",
    "    solution[(string1, string2)] = operation\n",
    "\n",
    "    return min_distance"
   ]
  },
  {
   "cell_type": "code",
   "execution_count": 81,
   "metadata": {},
   "outputs": [],
   "source": [
    "def parse_solution(string1, string2):\n",
    "\n",
    "    if not string1:\n",
    "        return []\n",
    "\n",
    "    k = (string1, string2)\n",
    "    res = parse_solution(string1[:-1], string2) + [{k:solution[(string1, string2)]}]\n",
    "   \n",
    "    #res = parse_solution(string1[:-1], string2[:-1]) + [{k:solution[(string1, string2)]}]\n",
    "\n",
    "    return res"
   ]
  },
  {
   "cell_type": "code",
   "execution_count": 82,
   "metadata": {},
   "outputs": [
    {
     "name": "stdout",
     "output_type": "stream",
     "text": [
      "[(0, ''), (2, 'DEL b'), (2, 'ADD b')]\n",
      "[(1, 'ADD e'), (2, 'SUB b => e'), (3, 'DEL b')]\n",
      "[(2, 'ADD g'), (3, 'SUB b => g'), (4, 'DEL b')]\n",
      "[(0, ''), (2, 'DEL b'), (2, 'ADD b')]\n",
      "[(1, 'ADD e'), (2, 'SUB b => e'), (3, 'DEL b')]\n",
      "[(0, ''), (2, 'DEL b'), (2, 'ADD b')]\n",
      "[(1, 'DEL e'), (2, 'SUB e => b'), (3, 'ADD b')]\n",
      "[(0, ''), (2, 'DEL b'), (2, 'ADD b')]\n",
      "[(0, ''), (2, 'DEL e'), (2, 'ADD e')]\n",
      "[(0, ''), (2, 'DEL b'), (2, 'ADD b')]\n",
      "[(1, 'ADD e'), (2, 'SUB b => e'), (3, 'DEL b')]\n",
      "[(1, 'ADD g'), (2, 'SUB e => g'), (3, 'DEL e')]\n",
      "('b', 'b') :  \n",
      "('b', 'be') :  ADD e\n",
      "('b', 'beg') :  ADD g\n",
      "('be', 'b') :  DEL e\n",
      "('be', 'be') :  \n",
      "('be', 'beg') :  ADD g\n"
     ]
    }
   ],
   "source": [
    "string1 = 'be'\n",
    "string2 = 'beg'\n",
    "edit_distance(string1, string2)\n",
    "for k, v in solution.items():\n",
    "    print(k, ': ', v)"
   ]
  },
  {
   "cell_type": "code",
   "execution_count": 83,
   "metadata": {},
   "outputs": [
    {
     "name": "stdout",
     "output_type": "stream",
     "text": [
      "[{('b', 'be'): 'ADD e'}, {('be', 'beg'): 'ADD g'}]\n"
     ]
    }
   ],
   "source": [
    "print(parse_solution(string1, string2))     #有问题，漏掉了删除操作"
   ]
  },
  {
   "cell_type": "code",
   "execution_count": 84,
   "metadata": {},
   "outputs": [
    {
     "name": "stdout",
     "output_type": "stream",
     "text": [
      "[(0, ''), (2, 'DEL b'), (2, 'ADD b')]\n",
      "[(1, 'ADD e'), (2, 'SUB b => e'), (3, 'DEL b')]\n",
      "[(2, 'ADD g'), (3, 'SUB b => g'), (4, 'DEL b')]\n",
      "[(0, ''), (2, 'DEL b'), (2, 'ADD b')]\n",
      "[(1, 'ADD e'), (2, 'SUB b => e'), (3, 'DEL b')]\n",
      "[(0, ''), (2, 'DEL b'), (2, 'ADD b')]\n",
      "[(1, 'DEL e'), (2, 'SUB e => b'), (3, 'ADD b')]\n",
      "[(0, ''), (2, 'DEL b'), (2, 'ADD b')]\n",
      "[(0, ''), (2, 'DEL e'), (2, 'ADD e')]\n",
      "[(0, ''), (2, 'DEL b'), (2, 'ADD b')]\n",
      "[(1, 'ADD e'), (2, 'SUB b => e'), (3, 'DEL b')]\n",
      "[(1, 'ADD g'), (2, 'SUB e => g'), (3, 'DEL e')]\n"
     ]
    },
    {
     "data": {
      "text/plain": [
       "1"
      ]
     },
     "execution_count": 84,
     "metadata": {},
     "output_type": "execute_result"
    }
   ],
   "source": [
    "edit_distance('be', 'beg')"
   ]
  },
  {
   "cell_type": "code",
   "execution_count": 80,
   "metadata": {},
   "outputs": [
    {
     "data": {
      "text/plain": [
       "{('b', 'b'): '',\n",
       " ('b', 'be'): 'ADD e',\n",
       " ('b', 'beg'): 'ADD g',\n",
       " ('be', 'b'): 'DEL e',\n",
       " ('be', 'be'): '',\n",
       " ('be', 'beg'): 'ADD g'}"
      ]
     },
     "execution_count": 80,
     "metadata": {},
     "output_type": "execute_result"
    }
   ],
   "source": [
    "solution"
   ]
  },
  {
   "cell_type": "code",
   "execution_count": 40,
   "metadata": {},
   "outputs": [
    {
     "data": {
      "text/plain": [
       "2"
      ]
     },
     "execution_count": 40,
     "metadata": {},
     "output_type": "execute_result"
    }
   ],
   "source": [
    "edit_distance('ABCDE', 'ABCCEF')"
   ]
  },
  {
   "cell_type": "code",
   "execution_count": 41,
   "metadata": {},
   "outputs": [
    {
     "data": {
      "text/plain": [
       "{('A', 'A'): '',\n",
       " ('A', 'AB'): 'ADD B',\n",
       " ('A', 'ABC'): 'ADD C',\n",
       " ('A', 'ABCC'): 'ADD C',\n",
       " ('A', 'ABCCE'): 'ADD E',\n",
       " ('A', 'ABCCEF'): 'ADD F',\n",
       " ('AB', 'A'): 'DEL B',\n",
       " ('AB', 'AB'): '',\n",
       " ('AB', 'ABC'): 'ADD C',\n",
       " ('AB', 'ABCC'): 'ADD C',\n",
       " ('AB', 'ABCCE'): 'ADD E',\n",
       " ('AB', 'ABCCEF'): 'ADD F',\n",
       " ('ABC', 'A'): 'DEL C',\n",
       " ('ABC', 'AB'): 'DEL C',\n",
       " ('ABC', 'ABC'): '',\n",
       " ('ABC', 'ABCC'): 'ADD C',\n",
       " ('ABC', 'ABCCE'): 'ADD E',\n",
       " ('ABC', 'ABCCEF'): 'ADD F',\n",
       " ('ABCD', 'A'): 'DEL D',\n",
       " ('ABCD', 'AB'): 'DEL D',\n",
       " ('ABCD', 'ABC'): 'DEL D',\n",
       " ('ABCD', 'ABCC'): 'SUB D => C',\n",
       " ('ABCD', 'ABCCE'): 'ADD E',\n",
       " ('ABCD', 'ABCCEF'): 'ADD F',\n",
       " ('ABCDE', 'A'): 'DEL E',\n",
       " ('ABCDE', 'AB'): 'DEL E',\n",
       " ('ABCDE', 'ABC'): 'DEL E',\n",
       " ('ABCDE', 'ABCC'): 'DEL E',\n",
       " ('ABCDE', 'ABCCE'): '',\n",
       " ('ABCDE', 'ABCCEF'): 'ADD F'}"
      ]
     },
     "execution_count": 41,
     "metadata": {},
     "output_type": "execute_result"
    }
   ],
   "source": [
    "solution"
   ]
  },
  {
   "cell_type": "code",
   "execution_count": 42,
   "metadata": {},
   "outputs": [
    {
     "name": "stdout",
     "output_type": "stream",
     "text": [
      "[{('A', 'ABCCEF'): 'ADD F'}, {('AB', 'ABCCEF'): 'ADD F'}, {('ABC', 'ABCCEF'): 'ADD F'}, {('ABCD', 'ABCCEF'): 'ADD F'}, {('ABCDE', 'ABCCEF'): 'ADD F'}]\n"
     ]
    }
   ],
   "source": [
    "print(parse_solution('ABCDE', 'ABCCEF'))"
   ]
  },
  {
   "cell_type": "code",
   "execution_count": null,
   "metadata": {},
   "outputs": [],
   "source": []
  },
  {
   "cell_type": "markdown",
   "metadata": {},
   "source": [
    "# note："
   ]
  },
  {
   "cell_type": "code",
   "execution_count": null,
   "metadata": {},
   "outputs": [],
   "source": [
    "细节及矩阵转化计算，参见 https://www.jianshu.com/p/a617d20162cf\n",
    "'''\n",
    "dp[i][j]表示word1[0...i-1]到word2[0...j-1]的编辑距离。\n",
    "而dp[i][0]显然等于i <= 只需要做i次删除操作就可以了。\n",
    "同理dp[0][i]等于i，<= 只需做i次插入操作就可以了。\n",
    "\n",
    "dp[i-1][j]变到dp[i][j]需要加1，因为word1[0...i-2]到word2[0...j-1]的距离是dp[i-1][j]，\n",
    "而word1[0...i-1]到word1[0...i-2]需要执行一次删除，所以dp[i][j]=dp[i-1][j]+1；\n",
    "\n",
    "同理dp[i][j]=dp[i][j-1]+1，因为还需要加一次word2的插入操作。\n",
    "\n",
    "如果word[i-1]==word[j-1]，则dp[i][j]=dp[i-1][j-1]，\n",
    "如果word[i-1]!=word[j-1]，那么需要执行一次替换replace操作，所以dp[i][j]=dp[i-1][j-1]+1，\n",
    "\n",
    "'''\n",
    "'''\n",
    "编辑距离主要分三个操作   插入、删除、替换 \n",
    "len(str1) = m  len(str2) = n\n",
    "dp[m][n] 表示从str1到str2的编辑距离 \n",
    "dp[m][n] = dp[m-1][n] + 1  对应删除\n",
    "dp[m][n] =dp[m][n-1] + 1   对应插入\n",
    "if str1[m - 1] == str2[n-1] 最后一项相同\n",
    "    dp[m][n] = dp[m-1][n-1]\n",
    "else\n",
    "    dp[m][n] = dp[m-1][n-1] 对应替换\n",
    "转化为函数就是老师写的上面的那个方法\n",
    "'''\n",
    "'''\n",
    "class Solution:\n",
    "    # @return an integer\n",
    "    def minDistance(self, word1, word2):\n",
    "        m=len(word1)+1; n=len(word2)+1\n",
    "        dp = [[0 for i in range(n)] for j in range(m)]\n",
    "        for i in range(n):\n",
    "            dp[0][i]=i\n",
    "        for i in range(m):\n",
    "            dp[i][0]=i\n",
    "        for i in range(1,m):\n",
    "            for j in range(1,n):\n",
    "                dp[i][j]=min(dp[i-1][j]+1, dp[i][j-1]+1, dp[i-1][j-1]+(0 if word1[i-1]==word2[j-1] else 1))\n",
    "        return dp[m-1][n-1]\n",
    "'''\n"
   ]
  },
  {
   "cell_type": "markdown",
   "metadata": {},
   "source": [
    "## 参考CSN6666"
   ]
  },
  {
   "cell_type": "code",
   "execution_count": 85,
   "metadata": {},
   "outputs": [],
   "source": [
    "class edit_distance():\n",
    "    '''\n",
    "    compute是老师例子里面的“edit_distance”\n",
    "    '''\n",
    "    def __init__(self, string1, string2, solution = {}):\n",
    "        self.solution = {}\n",
    "        self.parsed_solution = []\n",
    "        self.string1 = string1\n",
    "        self.string2 = string2\n",
    "        self.string_used = False\n",
    "    \n",
    "    @lru_cache(maxsize=2**10)\n",
    "    def compute(self, string1 = '', string2 = ''):\n",
    "        if self.string_used == False:\n",
    "            string1 = self.string1\n",
    "            string2 = self.string2\n",
    "            self.string_used = True\n",
    "        if len(string1) == 0: \n",
    "            self.solution[(string1, string2)] = 'ADD {}'.format(string2)\n",
    "            self.string_used = False\n",
    "            return len(string2)\n",
    "        if len(string2) == 0: \n",
    "            self.solution[(string1, string2)] = 'DEL {}'.format(string1)\n",
    "            self.string_used = False\n",
    "            return len(string1)\n",
    "\n",
    "        tail_s1 = string1[-1]\n",
    "        tail_s2 = string2[-1]\n",
    "\n",
    "        candidates = [\n",
    "            (self.compute(string1[:-1], string2) + 1, 'DEL {}'.format(tail_s1)),  # string 1 delete tail\n",
    "            (self.compute(string1, string2[:-1]) + 1, 'ADD {}'.format(tail_s2)),  # string 1 add tail of string2\n",
    "        ]\n",
    "\n",
    "        if tail_s1 == tail_s2:\n",
    "            both_forward = (self.compute(string1[:-1], string2[:-1]) + 0, '')\n",
    "        else:\n",
    "            both_forward = (self.compute(string1[:-1], string2[:-1]) + 1, 'SUB {} => {}'.format(tail_s1, tail_s2))\n",
    "\n",
    "        candidates.append(both_forward)\n",
    "\n",
    "        min_distance, operation = min(candidates, key=lambda x: x[0])\n",
    "\n",
    "        self.solution[(string1, string2)] = operation \n",
    "\n",
    "        return min_distance\n",
    "    \n",
    "    @lru_cache(maxsize=2**10)\n",
    "    def parse_solution(self, string1 = '', string2 = ''):\n",
    "        if self.string_used == False:\n",
    "            string1 = self.string1\n",
    "            string2 = self.string2\n",
    "            self.string_used = True\n",
    "            \n",
    "        operation = self.solution[string1, string2]\n",
    "        if len(string1) == 0: \n",
    "            self.string_used = False\n",
    "            self.parsed_solution.append(operation + ' before index={}'.format(len(string1)))\n",
    "            return self.parsed_solution[::-1]\n",
    "        if len(string2) == 0: \n",
    "            self.string_used = False\n",
    "            self.parsed_solution.append(operation + ' before index={}'.format(len(string1)))\n",
    "            return self.parsed_solution[::-1]\n",
    "        \n",
    "        if operation == '':\n",
    "            self.parse_solution(string1[:-1], string2[:-1])\n",
    "        else:\n",
    "            operator = operation[:3]\n",
    "            operand = operation[3:]\n",
    "            if operator == 'ADD':\n",
    "                self.parse_solution(string1, string2[:-1])\n",
    "                self.parsed_solution.append(operation + ' after index={}'.format(len(string1)-1))\n",
    "            elif operator == 'DEL':\n",
    "                self.parse_solution(string1[:-1], string2)\n",
    "                self.parsed_solution.append(operation + ' at index={}'.format(len(string1)-1))\n",
    "            elif operator == 'SUB':\n",
    "                self.parse_solution(string1[:-1], string2[:-1])\n",
    "                self.parsed_solution.append(operation + ' at index={}'.format(len(string1)-1))\n",
    "        return self.parsed_solution[::-1]"
   ]
  },
  {
   "cell_type": "code",
   "execution_count": 87,
   "metadata": {},
   "outputs": [
    {
     "data": {
      "text/plain": [
       "['ADD t after index=2',\n",
       " 'ADD e after index=2',\n",
       " 'ADD m after index=1',\n",
       " 'ADD   after index=1',\n",
       " 'ADD o after index=1',\n",
       " 'ADD t after index=1',\n",
       " 'ADD   after index=1',\n",
       " 'SUB s => c at index=0',\n",
       " 'ADD ni before index=0']"
      ]
     },
     "execution_count": 87,
     "metadata": {},
     "output_type": "execute_result"
    }
   ],
   "source": [
    "distance = edit_distance('see you','nice to meet you')\n",
    "distance.compute()\n",
    "distance.parse_solution()"
   ]
  },
  {
   "cell_type": "code",
   "execution_count": null,
   "metadata": {},
   "outputs": [],
   "source": []
  },
  {
   "cell_type": "markdown",
   "metadata": {},
   "source": [
    "## Part 5-1: review machine learning"
   ]
  },
  {
   "cell_type": "markdown",
   "metadata": {},
   "source": [
    "1. Why do we use Derivative / Gredient to fit a target function?¶"
   ]
  },
  {
   "cell_type": "markdown",
   "metadata": {},
   "source": [
    "Ans:能够使变量沿着正确的方向变化，提高拟合效率"
   ]
  },
  {
   "cell_type": "markdown",
   "metadata": {},
   "source": [
    "2. In the words 'Gredient Descent', what's the Gredient and what's the Descent?¶"
   ]
  },
  {
   "cell_type": "markdown",
   "metadata": {},
   "source": [
    "Ans:梯度是损失函数对参数的偏导数，下降即是按梯度的负方向；\n",
    "梯度是高维导数的另一种说法，它给出了最陡峭的上升方向，对于二次曲线，就是对x的导数，对于三维曲面，梯度就是曲面某点对指定方向的偏导数；\n",
    "    由于曲面上某一点有无数个方向，每个方向的梯度都不同，而只有一个使函数上升最快的方向，这个方向的梯度绝对值最大，与之相反的方向就是下降最快的方向。\n",
    "    更抽象化而言，梯度是函数在某一空间点的方向导数，梯度下降是指沿着这个方向函数的值下降的最快"
   ]
  },
  {
   "cell_type": "markdown",
   "metadata": {},
   "source": [
    "3. What's the advantages of the 3rd gradient descent method compared to the previous methods?"
   ]
  },
  {
   "cell_type": "markdown",
   "metadata": {},
   "source": [
    "Ans:法1 随机产生k，b，其值完全没有反向，最终loss的最小值完全是随机的；法2 有简单的监督学习模式，且针对k、b定义了四个变化方向，并选择loss减小的方向变化，直至loss不能减小，但k、b变化方向具有随机性；法3 采用梯度下降的方法，可使得k，b沿loss值减小的方向变化，提高了拟合效率"
   ]
  },
  {
   "cell_type": "markdown",
   "metadata": {},
   "source": [
    "4. Using the simple words to describe: What's the machine leanring.¶"
   ]
  },
  {
   "cell_type": "markdown",
   "metadata": {},
   "source": [
    "Ans:机器学习是一种通过各种手段，将人类思维体系和知识积累映射进机器的方法或技术，达到人机交融的效果。\n",
    "简单的从函数角度，即 输入x,y及学习方法，输出x与y之间对应关系；主要采用数学及相关理论构建算法，但涉及各个学科。"
   ]
  },
  {
   "cell_type": "markdown",
   "metadata": {},
   "source": [
    "### Part 5: Answer following questions: "
   ]
  },
  {
   "cell_type": "markdown",
   "metadata": {},
   "source": [
    "1. Why do we need dynamic programming? What's the difference of dynamic programming and previous talked `search` problme? "
   ]
  },
  {
   "cell_type": "markdown",
   "metadata": {},
   "source": [
    "一般搜索问题中，细分的子问题经常会有交叠，即出现重复的子问题，而随着数据量的增多，过多的子问题会显著提高算法的时间复杂度"
   ]
  },
  {
   "cell_type": "markdown",
   "metadata": {},
   "source": [
    "2. Why do we still need dynamic programming? Why not we train a machine learning to fit a function which could get the `right` answer based on inputs?"
   ]
  },
  {
   "cell_type": "markdown",
   "metadata": {},
   "source": [
    "首先，动态规划和机器学习并不冲突，而是有着各自适用的范围；在有些情况，使用动态规划很方便，可以避免训练机器需要的庞大数据及不断的算法优化，如在路径搜索中使用广度优先并通过动态规划来优化，很好的解决了这个问题，而采用机器学习，会更复杂，涉及模型设置、大量数据及数据特征等；而在另一些情况下，机器学习更能发挥作用，如垃圾邮件的识别及处理等。\n"
   ]
  },
  {
   "cell_type": "markdown",
   "metadata": {},
   "source": [
    "3. Can you catch up at least 3 problems which could solved by Dynamic Programming? "
   ]
  },
  {
   "cell_type": "markdown",
   "metadata": {},
   "source": [
    "（快递送餐）最短路径  凑零钱问题   "
   ]
  },
  {
   "cell_type": "markdown",
   "metadata": {},
   "source": [
    "4. Can you catch up at least 3 problems wich could sloved by Edit Distance? "
   ]
  },
  {
   "cell_type": "markdown",
   "metadata": {},
   "source": [
    "文本相似度  单词纠错   论文查重  基因序列比对"
   ]
  },
  {
   "cell_type": "markdown",
   "metadata": {},
   "source": [
    "5. Please summarize the three main features of Dynamic Programming, and make a concise explain for each feature. "
   ]
  },
  {
   "cell_type": "markdown",
   "metadata": {},
   "source": [
    "一般而言，使用动态规划的问题具有以下三个特点：\n",
    "    (1)有重叠子问题，且子问题相互不是独立的，一个子问题可能在下个决策中多次用到； \n",
    "    (2)无后效性：即某阶段状态一旦确定，就不受这个状态以后决策的影响。\n",
    "    (3) 最优化原理：如果问题的最优解所包含的子问题的解也是最优的，就称该问题具有最优子结构，即满足最优化原理。"
   ]
  },
  {
   "cell_type": "markdown",
   "metadata": {},
   "source": [
    "6. What's the disadvantages of Dynamic Programming? (You may need search by yourself in Internet)"
   ]
  },
  {
   "cell_type": "markdown",
   "metadata": {},
   "source": [
    "（1）没有统一的标准模型；找出子问题的表现方式需要创造力和实验，经常需要对每类问题进行具体分析，非熟练的分析人员难以准确对原问题进行合理分解，导致应用上的局限。\n",
    "（2）数值方法求解时存在维数灾；状态空间可能呈指数增长。如果一维状态变量有m个取值，则n维问题的状态就有mn个值。对于n较大的实际问题，其计算成本上无法容忍。"
   ]
  },
  {
   "cell_type": "code",
   "execution_count": null,
   "metadata": {},
   "outputs": [],
   "source": []
  }
 ],
 "metadata": {
  "kernelspec": {
   "display_name": "Python 3",
   "language": "python",
   "name": "python3"
  },
  "language_info": {
   "codemirror_mode": {
    "name": "ipython",
    "version": 3
   },
   "file_extension": ".py",
   "mimetype": "text/x-python",
   "name": "python",
   "nbconvert_exporter": "python",
   "pygments_lexer": "ipython3",
   "version": "3.7.3"
  }
 },
 "nbformat": 4,
 "nbformat_minor": 2
}
