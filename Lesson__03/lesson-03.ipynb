{
 "cells": [
  {
   "cell_type": "markdown",
   "metadata": {},
   "source": [
    "## AI Paradigm & Data Driven\n",
    "\n",
    "## Dynamic Programming(字面：不断的查表) 动态规划 (作者：Bellman) \n",
    "\n",
    "装饰器怎么用！！  python面向对象orient（）\n",
    "\n",
    "#步骤： 1）Overlapping Subproblems重复的子问题，\n",
    "      2）Overlapping computing saved in a table 用表存储重复的计算，\n",
    "      3）Parse solution\n",
    "     \n",
    "     \n",
    "How similar are two strings?\n",
    "机器翻译、语言识别     \n",
    "\n",
    "+ 编辑距离Edit distance，删除deletion/插入insertion/替换substitution，=》搜索图"
   ]
  },
  {
   "cell_type": "code",
   "execution_count": 122,
   "metadata": {},
   "outputs": [],
   "source": [
    "original_price = [1, 5, 8, 9, 10, 17, 17, 20, 24, 30, 35]"
   ]
  },
  {
   "cell_type": "code",
   "execution_count": 129,
   "metadata": {},
   "outputs": [],
   "source": [
    "from collections import defaultdict"
   ]
  },
  {
   "cell_type": "code",
   "execution_count": 130,
   "metadata": {},
   "outputs": [],
   "source": [
    "price = defaultdict(int)"
   ]
  },
  {
   "cell_type": "code",
   "execution_count": 131,
   "metadata": {},
   "outputs": [],
   "source": [
    "for i, p in enumerate(original_price):  \n",
    "    price[i + 1] = p\n",
    "##enumerate() 函数用于将一个可遍历的数据对象(如列表、元组或字符串)组合为一个索引序列，同时列出数据和数据下标，一般用在 for 循环当中\n",
    "#https://www.runoob.com/python/python-func-enumerate.html"
   ]
  },
  {
   "cell_type": "code",
   "execution_count": 134,
   "metadata": {},
   "outputs": [
    {
     "data": {
      "text/plain": [
       "0"
      ]
     },
     "execution_count": 134,
     "metadata": {},
     "output_type": "execute_result"
    }
   ],
   "source": [
    "price[12]"
   ]
  },
  {
   "cell_type": "code",
   "execution_count": 133,
   "metadata": {},
   "outputs": [
    {
     "data": {
      "text/plain": [
       "30"
      ]
     },
     "execution_count": 133,
     "metadata": {},
     "output_type": "execute_result"
    }
   ],
   "source": [
    "price[10]"
   ]
  },
  {
   "cell_type": "markdown",
   "metadata": {},
   "source": [
    "## Get the max splitting by enumerate"
   ]
  },
  {
   "cell_type": "code",
   "execution_count": 7,
   "metadata": {},
   "outputs": [],
   "source": [
    "def r(n):     #长度为n时，获得最多的钱\n",
    "    return max([price[n]] + [r(i) + r(n - i) for i in range(1, n)])    #生成一个list"
   ]
  },
  {
   "cell_type": "code",
   "execution_count": 8,
   "metadata": {},
   "outputs": [
    {
     "data": {
      "text/plain": [
       "43"
      ]
     },
     "execution_count": 8,
     "metadata": {},
     "output_type": "execute_result"
    }
   ],
   "source": [
    "r(15)   # 运行时间太长， n!"
   ]
  },
  {
   "cell_type": "code",
   "execution_count": 9,
   "metadata": {},
   "outputs": [],
   "source": [
    "def r(n):     #长度为n时，获得最多的钱\n",
    "    return max(price[n], max(r(i) + r(n - i) for i in range(1, n)))"
   ]
  },
  {
   "cell_type": "code",
   "execution_count": null,
   "metadata": {},
   "outputs": [],
   "source": []
  },
  {
   "cell_type": "markdown",
   "metadata": {},
   "source": [
    "## 装饰器decorator\n",
    "python 面向函数的语言  Oriented XX,XX可以作为变量，输入、输出，函数可以作为参数值"
   ]
  },
  {
   "cell_type": "code",
   "execution_count": 54,
   "metadata": {},
   "outputs": [],
   "source": [
    "def example(f, arg):   # f指代函数， arg指代变量参数\n",
    "    return f(arg)"
   ]
  },
  {
   "cell_type": "code",
   "execution_count": 56,
   "metadata": {},
   "outputs": [],
   "source": [
    "def add_ten(num):\n",
    "    return num + 10"
   ]
  },
  {
   "cell_type": "code",
   "execution_count": 57,
   "metadata": {},
   "outputs": [
    {
     "data": {
      "text/plain": [
       "110"
      ]
     },
     "execution_count": 57,
     "metadata": {},
     "output_type": "execute_result"
    }
   ],
   "source": [
    "example(add_ten,100)"
   ]
  },
  {
   "cell_type": "code",
   "execution_count": 58,
   "metadata": {},
   "outputs": [],
   "source": [
    "def mul_ten(num):\n",
    "    return num * 10"
   ]
  },
  {
   "cell_type": "code",
   "execution_count": 59,
   "metadata": {},
   "outputs": [
    {
     "name": "stdout",
     "output_type": "stream",
     "text": [
      "110\n",
      "1000\n"
     ]
    }
   ],
   "source": [
    "operations = [add_ten, mul_ten]\n",
    "\n",
    "for f in operations:\n",
    "    print(example(f, 100))"
   ]
  },
  {
   "cell_type": "code",
   "execution_count": null,
   "metadata": {},
   "outputs": [],
   "source": []
  },
  {
   "cell_type": "code",
   "execution_count": 24,
   "metadata": {},
   "outputs": [],
   "source": [
    "called_time = defaultdict(int)\n",
    "\n",
    "def get_call_times(f):\n",
    "    result = f()\n",
    "    print('function: {} called once!'.format(f.__name__))\n",
    "    called_time[f.__name__] += 1     # 初始值为零\n",
    "    return result"
   ]
  },
  {
   "cell_type": "code",
   "execution_count": 25,
   "metadata": {},
   "outputs": [],
   "source": [
    "def some_function_1(): print('I am function 1')"
   ]
  },
  {
   "cell_type": "code",
   "execution_count": 28,
   "metadata": {},
   "outputs": [
    {
     "name": "stdout",
     "output_type": "stream",
     "text": [
      "I am function 1\n",
      "function: some_function_1 called once!\n"
     ]
    }
   ],
   "source": [
    "get_call_times(some_function_1)"
   ]
  },
  {
   "cell_type": "code",
   "execution_count": 30,
   "metadata": {},
   "outputs": [
    {
     "data": {
      "text/plain": [
       "defaultdict(int, {'some_function_1': 2})"
      ]
     },
     "execution_count": 30,
     "metadata": {},
     "output_type": "execute_result"
    }
   ],
   "source": [
    "called_time"
   ]
  },
  {
   "cell_type": "code",
   "execution_count": 43,
   "metadata": {},
   "outputs": [],
   "source": [
    "call_time_with_arg = defaultdict(int)\n",
    "#call_time_with_arg"
   ]
  },
  {
   "cell_type": "code",
   "execution_count": 44,
   "metadata": {},
   "outputs": [],
   "source": [
    "def r(n):     #长度为n时，获得最多的钱\n",
    "    fname = r.__name__      #临时观察用，并不希望程序正常运行时使用\n",
    "    call_time_with_arg[(fname, n)] += 1    #临时观察用，并不希望程序正常运行时使用\n",
    "    \n",
    "    return max([price[n]] + [r(i) + r(n - i) for i in range(1, n)])    #生成一个list"
   ]
  },
  {
   "cell_type": "code",
   "execution_count": 45,
   "metadata": {},
   "outputs": [
    {
     "data": {
      "text/plain": [
       "43"
      ]
     },
     "execution_count": 45,
     "metadata": {},
     "output_type": "execute_result"
    }
   ],
   "source": [
    "r(15)"
   ]
  },
  {
   "cell_type": "code",
   "execution_count": 46,
   "metadata": {},
   "outputs": [
    {
     "data": {
      "text/plain": [
       "defaultdict(int,\n",
       "            {('r', 15): 1,\n",
       "             ('r', 1): 3188646,\n",
       "             ('r', 14): 2,\n",
       "             ('r', 13): 6,\n",
       "             ('r', 12): 18,\n",
       "             ('r', 11): 54,\n",
       "             ('r', 10): 162,\n",
       "             ('r', 9): 486,\n",
       "             ('r', 8): 1458,\n",
       "             ('r', 7): 4374,\n",
       "             ('r', 6): 13122,\n",
       "             ('r', 5): 39366,\n",
       "             ('r', 4): 118098,\n",
       "             ('r', 3): 354294,\n",
       "             ('r', 2): 1062882})"
      ]
     },
     "execution_count": 46,
     "metadata": {},
     "output_type": "execute_result"
    }
   ],
   "source": [
    "call_time_with_arg"
   ]
  },
  {
   "cell_type": "code",
   "execution_count": 47,
   "metadata": {},
   "outputs": [],
   "source": [
    "from collections import Counter"
   ]
  },
  {
   "cell_type": "code",
   "execution_count": 48,
   "metadata": {},
   "outputs": [
    {
     "data": {
      "text/plain": [
       "[(('r', 1), 3188646),\n",
       " (('r', 2), 1062882),\n",
       " (('r', 3), 354294),\n",
       " (('r', 4), 118098),\n",
       " (('r', 5), 39366),\n",
       " (('r', 6), 13122),\n",
       " (('r', 7), 4374),\n",
       " (('r', 8), 1458),\n",
       " (('r', 9), 486),\n",
       " (('r', 10), 162),\n",
       " (('r', 11), 54),\n",
       " (('r', 12), 18),\n",
       " (('r', 13), 6),\n",
       " (('r', 14), 2),\n",
       " (('r', 15), 1)]"
      ]
     },
     "execution_count": 48,
     "metadata": {},
     "output_type": "execute_result"
    }
   ],
   "source": [
    "Counter(call_time_with_arg).most_common()"
   ]
  },
  {
   "cell_type": "code",
   "execution_count": 79,
   "metadata": {},
   "outputs": [],
   "source": [
    "called_time_with_arg = defaultdict(int)\n",
    "\n",
    "def get_call_time(f):\n",
    "    '''@parap f is a function'''\n",
    "    def wrap(n):\n",
    "        \"\"\"\n",
    "        HaHa, I am wrap\n",
    "        \"\"\"\n",
    "       # print('I can count')\n",
    "        result = f(n)\n",
    "        called_time_with_arg[(f.__name__, n)] += 1\n",
    "        return result\n",
    "    return wrap"
   ]
  },
  {
   "cell_type": "code",
   "execution_count": 52,
   "metadata": {},
   "outputs": [],
   "source": [
    "def add_ten(n): return n + 10"
   ]
  },
  {
   "cell_type": "code",
   "execution_count": 53,
   "metadata": {},
   "outputs": [],
   "source": [
    "add_ten_with_call_time = get_call_time(add_ten)"
   ]
  },
  {
   "cell_type": "code",
   "execution_count": 57,
   "metadata": {},
   "outputs": [
    {
     "data": {
      "text/plain": [
       "<function __main__.get_call_time.<locals>.wrap(n)>"
      ]
     },
     "execution_count": 57,
     "metadata": {},
     "output_type": "execute_result"
    }
   ],
   "source": [
    "add_ten_with_call_time     # 返回wrap,此时这个函数《=》wrap（）"
   ]
  },
  {
   "cell_type": "code",
   "execution_count": 60,
   "metadata": {},
   "outputs": [
    {
     "data": {
      "text/plain": [
       "20"
      ]
     },
     "execution_count": 60,
     "metadata": {},
     "output_type": "execute_result"
    }
   ],
   "source": [
    "add_ten_with_call_time(10)     #wrap()函数接收一个参数n"
   ]
  },
  {
   "cell_type": "code",
   "execution_count": 61,
   "metadata": {},
   "outputs": [
    {
     "data": {
      "text/plain": [
       "defaultdict(int, {('add_ten', 10): 2})"
      ]
     },
     "execution_count": 61,
     "metadata": {},
     "output_type": "execute_result"
    }
   ],
   "source": [
    "called_time_with_arg"
   ]
  },
  {
   "cell_type": "code",
   "execution_count": 62,
   "metadata": {},
   "outputs": [],
   "source": [
    "def add_ten(n): return n + 10"
   ]
  },
  {
   "cell_type": "code",
   "execution_count": 63,
   "metadata": {},
   "outputs": [
    {
     "data": {
      "text/plain": [
       "20"
      ]
     },
     "execution_count": 63,
     "metadata": {},
     "output_type": "execute_result"
    }
   ],
   "source": [
    "add_ten(10)"
   ]
  },
  {
   "cell_type": "code",
   "execution_count": 68,
   "metadata": {},
   "outputs": [],
   "source": [
    "add_ten = get_call_time(add_ten)"
   ]
  },
  {
   "cell_type": "code",
   "execution_count": 69,
   "metadata": {},
   "outputs": [
    {
     "name": "stdout",
     "output_type": "stream",
     "text": [
      "I can count\n"
     ]
    },
    {
     "data": {
      "text/plain": [
       "19"
      ]
     },
     "execution_count": 69,
     "metadata": {},
     "output_type": "execute_result"
    }
   ],
   "source": [
    "add_ten(9)"
   ]
  },
  {
   "cell_type": "code",
   "execution_count": 74,
   "metadata": {},
   "outputs": [],
   "source": [
    "@get_call_time   # <=>add_ten = get_call_time(add_ten)\n",
    "def add_ten(n):\n",
    "    return n +10"
   ]
  },
  {
   "cell_type": "code",
   "execution_count": 75,
   "metadata": {},
   "outputs": [
    {
     "name": "stdout",
     "output_type": "stream",
     "text": [
      "I can count\n"
     ]
    },
    {
     "data": {
      "text/plain": [
       "19"
      ]
     },
     "execution_count": 75,
     "metadata": {},
     "output_type": "execute_result"
    }
   ],
   "source": [
    "add_ten(9)"
   ]
  },
  {
   "cell_type": "markdown",
   "metadata": {},
   "source": [
    "## 给r(n)函数加装饰器"
   ]
  },
  {
   "cell_type": "code",
   "execution_count": 76,
   "metadata": {},
   "outputs": [],
   "source": [
    "called_time_with_arg = defaultdict(int)"
   ]
  },
  {
   "cell_type": "code",
   "execution_count": 111,
   "metadata": {},
   "outputs": [],
   "source": [
    "@get_call_time\n",
    "def r(n):   \n",
    "    \"\"\"\n",
    "    Args: n is the iron length\n",
    "    Returns: the max revenue\n",
    "    \"\"\"\n",
    "    return max([price[n]] + [r(i) + r(n - i) for i in range(1, n)])  "
   ]
  },
  {
   "cell_type": "code",
   "execution_count": 98,
   "metadata": {},
   "outputs": [
    {
     "data": {
      "text/plain": [
       "35"
      ]
     },
     "execution_count": 98,
     "metadata": {},
     "output_type": "execute_result"
    }
   ],
   "source": [
    "r(12)"
   ]
  },
  {
   "cell_type": "code",
   "execution_count": 99,
   "metadata": {},
   "outputs": [
    {
     "data": {
      "text/plain": [
       "defaultdict(int,\n",
       "            {('r', 1): 118098,\n",
       "             ('r', 2): 39366,\n",
       "             ('r', 3): 13122,\n",
       "             ('r', 4): 4374,\n",
       "             ('r', 5): 1458,\n",
       "             ('r', 6): 486,\n",
       "             ('r', 7): 162,\n",
       "             ('r', 8): 54,\n",
       "             ('r', 9): 18,\n",
       "             ('r', 10): 6,\n",
       "             ('r', 11): 2,\n",
       "             ('r', 12): 1})"
      ]
     },
     "execution_count": 99,
     "metadata": {},
     "output_type": "execute_result"
    }
   ],
   "source": [
    "called_time_with_arg"
   ]
  },
  {
   "cell_type": "code",
   "execution_count": 100,
   "metadata": {},
   "outputs": [
    {
     "data": {
      "text/plain": [
       "<function __main__.get_call_time.<locals>.wrap(n)>"
      ]
     },
     "execution_count": 100,
     "metadata": {},
     "output_type": "execute_result"
    }
   ],
   "source": [
    "r"
   ]
  },
  {
   "cell_type": "code",
   "execution_count": 101,
   "metadata": {},
   "outputs": [
    {
     "name": "stdout",
     "output_type": "stream",
     "text": [
      "Help on function wrap in module __main__:\n",
      "\n",
      "wrap(n)\n",
      "    Haha I am warp\n",
      "\n"
     ]
    }
   ],
   "source": [
    "help(r)                                                        #失去了r()函数的属性，需要进一步修改装饰器"
   ]
  },
  {
   "cell_type": "code",
   "execution_count": 112,
   "metadata": {},
   "outputs": [],
   "source": [
    "from functools import wraps\n",
    "called_time_with_arg = defaultdict(int)\n",
    "\n",
    "def get_call_time(f):\n",
    "    \"\"\"@param f is a function\"\"\"\n",
    "    @wraps(f)                                  #python提供了一种方法，给wrap（）加一个装饰器\n",
    "    def wrap(n):\n",
    "        \"\"\"Haha I am warp\"\"\"\n",
    "       # print('I can count')\n",
    "        result = f(n)\n",
    "        called_time_with_arg[(f.__name__, n)] += 1\n",
    "        return result\n",
    "    return wrap"
   ]
  },
  {
   "cell_type": "code",
   "execution_count": 113,
   "metadata": {},
   "outputs": [
    {
     "data": {
      "text/plain": [
       "<function __main__.r(n)>"
      ]
     },
     "execution_count": 113,
     "metadata": {},
     "output_type": "execute_result"
    }
   ],
   "source": [
    "r"
   ]
  },
  {
   "cell_type": "code",
   "execution_count": 114,
   "metadata": {},
   "outputs": [
    {
     "name": "stdout",
     "output_type": "stream",
     "text": [
      "Help on function r in module __main__:\n",
      "\n",
      "r(n)\n",
      "    Args: n is the iron length\n",
      "    Returns: the max revenue\n",
      "\n"
     ]
    }
   ],
   "source": [
    "help(r)"
   ]
  },
  {
   "cell_type": "markdown",
   "metadata": {},
   "source": [
    "#### 优化计算、解析结果"
   ]
  },
  {
   "cell_type": "code",
   "execution_count": 135,
   "metadata": {},
   "outputs": [],
   "source": [
    "called_time_with_arg = defaultdict(int)"
   ]
  },
  {
   "cell_type": "code",
   "execution_count": 136,
   "metadata": {},
   "outputs": [],
   "source": [
    "solution = {}"
   ]
  },
  {
   "cell_type": "code",
   "execution_count": 137,
   "metadata": {},
   "outputs": [],
   "source": [
    "def memo(f):\n",
    "    memo.already_computed = {}\n",
    "    @wraps(f)\n",
    "    def _wrap(arg):\n",
    "        result = None\n",
    "        \n",
    "        if arg in memo.already_computed:\n",
    "            result = memo.already_computed[arg]\n",
    "        else:\n",
    "            result = f(arg)\n",
    "            memo.already_computed[arg] = result\n",
    "            \n",
    "        return result\n",
    "    return _wrap "
   ]
  },
  {
   "cell_type": "code",
   "execution_count": 144,
   "metadata": {},
   "outputs": [],
   "source": [
    "@get_call_time\n",
    "@memo\n",
    "def r(n):\n",
    "    \"\"\"\n",
    "    Args: n is the iron length\n",
    "    Return: the max revenue \n",
    "    \"\"\"\n",
    "    max_price, max_split = max(\n",
    "        [(price[n], 0)] + [(r(i) + r(n-i), i) for i in range(1, n)], key=lambda x: x[0]\n",
    "    )\n",
    "\n",
    "    solution[n] = (n - max_split, max_split)\n",
    "    \n",
    "    return max_price"
   ]
  },
  {
   "cell_type": "code",
   "execution_count": 139,
   "metadata": {},
   "outputs": [
    {
     "data": {
      "text/plain": [
       "118"
      ]
     },
     "execution_count": 139,
     "metadata": {},
     "output_type": "execute_result"
    }
   ],
   "source": [
    "r(38)"
   ]
  },
  {
   "cell_type": "code",
   "execution_count": 140,
   "metadata": {},
   "outputs": [
    {
     "data": {
      "text/plain": [
       "{1: (1, 0),\n",
       " 2: (2, 0),\n",
       " 3: (3, 0),\n",
       " 4: (2, 2),\n",
       " 5: (3, 2),\n",
       " 6: (6, 0),\n",
       " 7: (6, 1),\n",
       " 8: (6, 2),\n",
       " 9: (6, 3),\n",
       " 10: (10, 0),\n",
       " 11: (11, 0),\n",
       " 12: (11, 1),\n",
       " 13: (11, 2),\n",
       " 14: (11, 3),\n",
       " 15: (13, 2),\n",
       " 16: (14, 2),\n",
       " 17: (11, 6),\n",
       " 18: (17, 1),\n",
       " 19: (17, 2),\n",
       " 20: (17, 3),\n",
       " 21: (11, 10),\n",
       " 22: (11, 11),\n",
       " 23: (22, 1),\n",
       " 24: (22, 2),\n",
       " 25: (22, 3),\n",
       " 26: (24, 2),\n",
       " 27: (25, 2),\n",
       " 28: (22, 6),\n",
       " 29: (28, 1),\n",
       " 30: (28, 2),\n",
       " 31: (28, 3),\n",
       " 32: (22, 10),\n",
       " 33: (22, 11),\n",
       " 34: (33, 1),\n",
       " 35: (33, 2),\n",
       " 36: (33, 3),\n",
       " 37: (35, 2),\n",
       " 38: (36, 2)}"
      ]
     },
     "execution_count": 140,
     "metadata": {},
     "output_type": "execute_result"
    }
   ],
   "source": [
    "solution        #n = 38s时，分为36 + 2"
   ]
  },
  {
   "cell_type": "code",
   "execution_count": 141,
   "metadata": {},
   "outputs": [],
   "source": [
    "def parse_solution(n):\n",
    "    left_split, right_split = solution[n]\n",
    "    \n",
    "    if right_split == 0: return [left_split]\n",
    "    \n",
    "    return parse_solution(left_split) + parse_solution(right_split)"
   ]
  },
  {
   "cell_type": "code",
   "execution_count": 146,
   "metadata": {},
   "outputs": [
    {
     "data": {
      "text/plain": [
       "743"
      ]
     },
     "execution_count": 146,
     "metadata": {},
     "output_type": "execute_result"
    }
   ],
   "source": [
    "r(234)"
   ]
  },
  {
   "cell_type": "code",
   "execution_count": 147,
   "metadata": {},
   "outputs": [
    {
     "data": {
      "text/plain": [
       "[11,\n",
       " 11,\n",
       " 11,\n",
       " 11,\n",
       " 11,\n",
       " 11,\n",
       " 11,\n",
       " 11,\n",
       " 11,\n",
       " 11,\n",
       " 11,\n",
       " 11,\n",
       " 11,\n",
       " 11,\n",
       " 11,\n",
       " 11,\n",
       " 11,\n",
       " 11,\n",
       " 11,\n",
       " 11,\n",
       " 11,\n",
       " 3]"
      ]
     },
     "execution_count": 147,
     "metadata": {},
     "output_type": "execute_result"
    }
   ],
   "source": [
    "parse_solution(234)"
   ]
  },
  {
   "cell_type": "code",
   "execution_count": 148,
   "metadata": {},
   "outputs": [
    {
     "data": {
      "text/plain": [
       "defaultdict(int,\n",
       "            {('r', 1): 466,\n",
       "             ('r', 2): 464,\n",
       "             ('r', 3): 462,\n",
       "             ('r', 4): 460,\n",
       "             ('r', 5): 458,\n",
       "             ('r', 6): 456,\n",
       "             ('r', 7): 454,\n",
       "             ('r', 8): 452,\n",
       "             ('r', 9): 450,\n",
       "             ('r', 10): 448,\n",
       "             ('r', 11): 446,\n",
       "             ('r', 12): 444,\n",
       "             ('r', 13): 442,\n",
       "             ('r', 14): 440,\n",
       "             ('r', 15): 438,\n",
       "             ('r', 16): 436,\n",
       "             ('r', 17): 434,\n",
       "             ('r', 18): 432,\n",
       "             ('r', 19): 430,\n",
       "             ('r', 20): 428,\n",
       "             ('r', 21): 426,\n",
       "             ('r', 22): 424,\n",
       "             ('r', 23): 422,\n",
       "             ('r', 24): 420,\n",
       "             ('r', 25): 418,\n",
       "             ('r', 26): 416,\n",
       "             ('r', 27): 414,\n",
       "             ('r', 28): 412,\n",
       "             ('r', 29): 410,\n",
       "             ('r', 30): 408,\n",
       "             ('r', 31): 406,\n",
       "             ('r', 32): 404,\n",
       "             ('r', 33): 402,\n",
       "             ('r', 34): 400,\n",
       "             ('r', 35): 398,\n",
       "             ('r', 36): 396,\n",
       "             ('r', 37): 394,\n",
       "             ('r', 38): 392,\n",
       "             ('r', 39): 390,\n",
       "             ('r', 40): 388,\n",
       "             ('r', 41): 386,\n",
       "             ('r', 42): 384,\n",
       "             ('r', 43): 382,\n",
       "             ('r', 44): 380,\n",
       "             ('r', 45): 378,\n",
       "             ('r', 46): 376,\n",
       "             ('r', 47): 374,\n",
       "             ('r', 48): 372,\n",
       "             ('r', 49): 370,\n",
       "             ('r', 50): 368,\n",
       "             ('r', 51): 366,\n",
       "             ('r', 52): 364,\n",
       "             ('r', 53): 362,\n",
       "             ('r', 54): 360,\n",
       "             ('r', 55): 358,\n",
       "             ('r', 56): 356,\n",
       "             ('r', 57): 354,\n",
       "             ('r', 58): 352,\n",
       "             ('r', 59): 350,\n",
       "             ('r', 60): 348,\n",
       "             ('r', 61): 346,\n",
       "             ('r', 62): 344,\n",
       "             ('r', 63): 342,\n",
       "             ('r', 64): 340,\n",
       "             ('r', 65): 338,\n",
       "             ('r', 66): 336,\n",
       "             ('r', 67): 334,\n",
       "             ('r', 68): 332,\n",
       "             ('r', 69): 330,\n",
       "             ('r', 70): 328,\n",
       "             ('r', 71): 326,\n",
       "             ('r', 72): 324,\n",
       "             ('r', 73): 322,\n",
       "             ('r', 74): 320,\n",
       "             ('r', 75): 318,\n",
       "             ('r', 76): 316,\n",
       "             ('r', 77): 314,\n",
       "             ('r', 78): 312,\n",
       "             ('r', 79): 310,\n",
       "             ('r', 80): 308,\n",
       "             ('r', 81): 306,\n",
       "             ('r', 82): 304,\n",
       "             ('r', 83): 302,\n",
       "             ('r', 84): 300,\n",
       "             ('r', 85): 298,\n",
       "             ('r', 86): 296,\n",
       "             ('r', 87): 294,\n",
       "             ('r', 88): 292,\n",
       "             ('r', 89): 290,\n",
       "             ('r', 90): 288,\n",
       "             ('r', 91): 286,\n",
       "             ('r', 92): 284,\n",
       "             ('r', 93): 282,\n",
       "             ('r', 94): 280,\n",
       "             ('r', 95): 278,\n",
       "             ('r', 96): 276,\n",
       "             ('r', 97): 274,\n",
       "             ('r', 98): 272,\n",
       "             ('r', 99): 270,\n",
       "             ('r', 100): 268,\n",
       "             ('r', 101): 266,\n",
       "             ('r', 102): 264,\n",
       "             ('r', 103): 262,\n",
       "             ('r', 104): 260,\n",
       "             ('r', 105): 258,\n",
       "             ('r', 106): 256,\n",
       "             ('r', 107): 254,\n",
       "             ('r', 108): 252,\n",
       "             ('r', 109): 250,\n",
       "             ('r', 110): 248,\n",
       "             ('r', 111): 246,\n",
       "             ('r', 112): 244,\n",
       "             ('r', 113): 242,\n",
       "             ('r', 114): 240,\n",
       "             ('r', 115): 238,\n",
       "             ('r', 116): 236,\n",
       "             ('r', 117): 234,\n",
       "             ('r', 118): 232,\n",
       "             ('r', 119): 230,\n",
       "             ('r', 120): 228,\n",
       "             ('r', 121): 226,\n",
       "             ('r', 122): 224,\n",
       "             ('r', 123): 222,\n",
       "             ('r', 124): 220,\n",
       "             ('r', 125): 218,\n",
       "             ('r', 126): 216,\n",
       "             ('r', 127): 214,\n",
       "             ('r', 128): 212,\n",
       "             ('r', 129): 210,\n",
       "             ('r', 130): 208,\n",
       "             ('r', 131): 206,\n",
       "             ('r', 132): 204,\n",
       "             ('r', 133): 202,\n",
       "             ('r', 134): 200,\n",
       "             ('r', 135): 198,\n",
       "             ('r', 136): 196,\n",
       "             ('r', 137): 194,\n",
       "             ('r', 138): 192,\n",
       "             ('r', 139): 190,\n",
       "             ('r', 140): 188,\n",
       "             ('r', 141): 186,\n",
       "             ('r', 142): 184,\n",
       "             ('r', 143): 182,\n",
       "             ('r', 144): 180,\n",
       "             ('r', 145): 178,\n",
       "             ('r', 146): 176,\n",
       "             ('r', 147): 174,\n",
       "             ('r', 148): 172,\n",
       "             ('r', 149): 170,\n",
       "             ('r', 150): 168,\n",
       "             ('r', 151): 166,\n",
       "             ('r', 152): 164,\n",
       "             ('r', 153): 162,\n",
       "             ('r', 154): 160,\n",
       "             ('r', 155): 158,\n",
       "             ('r', 156): 156,\n",
       "             ('r', 157): 154,\n",
       "             ('r', 158): 152,\n",
       "             ('r', 159): 150,\n",
       "             ('r', 160): 148,\n",
       "             ('r', 161): 146,\n",
       "             ('r', 162): 144,\n",
       "             ('r', 163): 142,\n",
       "             ('r', 164): 140,\n",
       "             ('r', 165): 138,\n",
       "             ('r', 166): 136,\n",
       "             ('r', 167): 134,\n",
       "             ('r', 168): 132,\n",
       "             ('r', 169): 130,\n",
       "             ('r', 170): 128,\n",
       "             ('r', 171): 126,\n",
       "             ('r', 172): 124,\n",
       "             ('r', 173): 122,\n",
       "             ('r', 174): 120,\n",
       "             ('r', 175): 118,\n",
       "             ('r', 176): 116,\n",
       "             ('r', 177): 114,\n",
       "             ('r', 178): 112,\n",
       "             ('r', 179): 110,\n",
       "             ('r', 180): 108,\n",
       "             ('r', 181): 106,\n",
       "             ('r', 182): 104,\n",
       "             ('r', 183): 102,\n",
       "             ('r', 184): 100,\n",
       "             ('r', 185): 98,\n",
       "             ('r', 186): 96,\n",
       "             ('r', 187): 94,\n",
       "             ('r', 188): 92,\n",
       "             ('r', 189): 90,\n",
       "             ('r', 190): 88,\n",
       "             ('r', 191): 86,\n",
       "             ('r', 192): 84,\n",
       "             ('r', 193): 82,\n",
       "             ('r', 194): 80,\n",
       "             ('r', 195): 78,\n",
       "             ('r', 196): 76,\n",
       "             ('r', 197): 74,\n",
       "             ('r', 198): 72,\n",
       "             ('r', 199): 70,\n",
       "             ('r', 200): 68,\n",
       "             ('r', 201): 66,\n",
       "             ('r', 202): 64,\n",
       "             ('r', 203): 62,\n",
       "             ('r', 204): 60,\n",
       "             ('r', 205): 58,\n",
       "             ('r', 206): 56,\n",
       "             ('r', 207): 54,\n",
       "             ('r', 208): 52,\n",
       "             ('r', 209): 50,\n",
       "             ('r', 210): 48,\n",
       "             ('r', 211): 46,\n",
       "             ('r', 212): 44,\n",
       "             ('r', 213): 42,\n",
       "             ('r', 214): 40,\n",
       "             ('r', 215): 38,\n",
       "             ('r', 216): 36,\n",
       "             ('r', 217): 34,\n",
       "             ('r', 218): 32,\n",
       "             ('r', 219): 30,\n",
       "             ('r', 220): 28,\n",
       "             ('r', 221): 26,\n",
       "             ('r', 222): 24,\n",
       "             ('r', 223): 22,\n",
       "             ('r', 224): 20,\n",
       "             ('r', 225): 18,\n",
       "             ('r', 226): 16,\n",
       "             ('r', 227): 14,\n",
       "             ('r', 228): 12,\n",
       "             ('r', 229): 10,\n",
       "             ('r', 230): 8,\n",
       "             ('r', 231): 6,\n",
       "             ('r', 232): 4,\n",
       "             ('r', 233): 2,\n",
       "             ('r', 234): 1})"
      ]
     },
     "execution_count": 148,
     "metadata": {},
     "output_type": "execute_result"
    }
   ],
   "source": [
    "called_time_with_arg"
   ]
  },
  {
   "cell_type": "markdown",
   "metadata": {},
   "source": [
    "### ?????????"
   ]
  },
  {
   "cell_type": "code",
   "execution_count": 151,
   "metadata": {},
   "outputs": [],
   "source": [
    "def not_cut(split): return split == 0\n",
    "\n",
    "def parse_solution(target_length, revenue_solution):\n",
    "    left, right = revenue_solution[target_length]\n",
    "    \n",
    "    if not_cut(left): return [right]\n",
    "\n",
    "    return parse_solution(left, revenue_solution) + parse_solution(right, revenue_solution)\n"
   ]
  },
  {
   "cell_type": "code",
   "execution_count": null,
   "metadata": {},
   "outputs": [],
   "source": []
  },
  {
   "cell_type": "code",
   "execution_count": null,
   "metadata": {},
   "outputs": [],
   "source": []
  },
  {
   "cell_type": "code",
   "execution_count": 15,
   "metadata": {},
   "outputs": [
    {
     "data": {
      "text/plain": [
       "9"
      ]
     },
     "execution_count": 15,
     "metadata": {},
     "output_type": "execute_result"
    }
   ],
   "source": [
    "# max(i for i in range(10))"
   ]
  },
  {
   "cell_type": "markdown",
   "metadata": {},
   "source": [
    "## 防止不在列表的出错，直接设置"
   ]
  },
  {
   "cell_type": "code",
   "execution_count": 1,
   "metadata": {},
   "outputs": [],
   "source": [
    "from collections import defaultdict"
   ]
  },
  {
   "cell_type": "code",
   "execution_count": 3,
   "metadata": {},
   "outputs": [],
   "source": [
    "some_default_dict = defaultdict(int)   #！！！！！"
   ]
  },
  {
   "cell_type": "code",
   "execution_count": 5,
   "metadata": {},
   "outputs": [
    {
     "data": {
      "text/plain": [
       "0"
      ]
     },
     "execution_count": 5,
     "metadata": {},
     "output_type": "execute_result"
    }
   ],
   "source": [
    "some_default_dict[80941]"
   ]
  },
  {
   "cell_type": "code",
   "execution_count": null,
   "metadata": {},
   "outputs": [],
   "source": [
    "some_default_dict = defaultdict(lambda: 'None')  #！！！！！"
   ]
  },
  {
   "cell_type": "code",
   "execution_count": 7,
   "metadata": {},
   "outputs": [
    {
     "data": {
      "text/plain": [
       "'None'"
      ]
     },
     "execution_count": 7,
     "metadata": {},
     "output_type": "execute_result"
    }
   ],
   "source": [
    "some_default_dict[80941]"
   ]
  },
  {
   "cell_type": "markdown",
   "metadata": {},
   "source": [
    "####  Get the max splitting by enumerate   穷举？？"
   ]
  },
  {
   "cell_type": "code",
   "execution_count": 1,
   "metadata": {},
   "outputs": [],
   "source": [
    "def r(n):\n",
    "    return max(\n",
    "    [price[n]] + [r(i) + r(n - i) for i in range(1, n)]\n",
    "    )"
   ]
  },
  {
   "cell_type": "code",
   "execution_count": null,
   "metadata": {},
   "outputs": [],
   "source": []
  },
  {
   "cell_type": "code",
   "execution_count": null,
   "metadata": {},
   "outputs": [],
   "source": []
  }
 ],
 "metadata": {
  "kernelspec": {
   "display_name": "Python 3",
   "language": "python",
   "name": "python3"
  },
  "language_info": {
   "codemirror_mode": {
    "name": "ipython",
    "version": 3
   },
   "file_extension": ".py",
   "mimetype": "text/x-python",
   "name": "python",
   "nbconvert_exporter": "python",
   "pygments_lexer": "ipython3",
   "version": "3.7.3"
  }
 },
 "nbformat": 4,
 "nbformat_minor": 2
}
